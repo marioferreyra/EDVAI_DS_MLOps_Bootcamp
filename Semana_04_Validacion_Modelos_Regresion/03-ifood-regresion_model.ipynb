{
 "cells": [
  {
   "cell_type": "markdown",
   "metadata": {},
   "source": [
    "# Bootcamp Data Science y MLOps\n",
    "\n",
    "<img src=\"https://i.ibb.co/5RM26Cw/LOGO-COLOR2.png\" width=\"500px\">"
   ]
  },
  {
   "cell_type": "markdown",
   "metadata": {},
   "source": [
    "---\n",
    "# Ejercicio 🌮🥤"
   ]
  },
  {
   "cell_type": "markdown",
   "metadata": {},
   "source": [
    "## 📍 Objetivo\n",
    "Resolver la prueba técnica para el puesto de Data Analyst de la startup [ifood](https://www.ifood.com.br/) de Brasil.\n",
    "<br>Esta startup se dedica al servicio de delivery de comida similar a Pedidos Ya, Rappi y Uber Eats."
   ]
  },
  {
   "cell_type": "markdown",
   "metadata": {},
   "source": [
    "## 📍 Contexto"
   ]
  },
  {
   "cell_type": "markdown",
   "metadata": {},
   "source": [
    "### La empresa\n",
    "\n",
    "Considere una empresa bien establecida que opera en el sector minorista de alimentos. Actualmente tienen alrededor\n",
    "varios cientos de miles de clientes registrados y sirven a casi un millón de consumidores al año.\n",
    "Venden productos de 5 categorías principales: vinos, productos cárnicos raros, frutas exóticas, especialmente\n",
    "Pescados preparados y productos dulces. Estos se pueden dividir en productos premium y productos regulares. \n",
    "\n",
    "Los clientes pueden ordenar y adquirir productos a través de 3 canales de venta: tiendas físicas, catálogos y\n",
    "el sitio web de la empresa. A nivel mundial, la compañía tuvo ingresos sólidos y un resultado final saludable en el\n",
    "últimos 3 años, pero las perspectivas de crecimiento de ganancias para los próximos 3 años no son prometedoras ... \n",
    "\n",
    "**Por esta razón, se están considerando varias iniciativas estratégicas para revertir esta situación. Una es mejorar la realización de actividades de marketing, con un enfoque especial en las campañas de marketing.**\n"
   ]
  },
  {
   "cell_type": "markdown",
   "metadata": {},
   "source": [
    "### El Departamento de Marketing\n",
    "\n",
    "El departamento de marketing fue presionado para gastar su presupuesto anual de manera más inteligente. La CMO\n",
    "percibe la importancia de tener un enfoque más cuantitativo a la hora de tomar decisiones, por lo que **se contrató a un pequeño equipo de científicos de datos con un objetivo claro en mente: construir una solución que apoye las iniciativas de marketing directo.**\n",
    "<br>Deseablemente, el éxito de estas actividades demostrará el área de oportunidad y también deberan convencer a los más escépticos dentro de la empresa.\n"
   ]
  },
  {
   "cell_type": "markdown",
   "metadata": {},
   "source": [
    "### El objetivo del equipo \n",
    "\n",
    "Es construir un análisis para abordar el mayor beneficio para la próxima campaña de marketing, programada para el próximo mes. La nueva campaña, la sexta, tiene como objetivo vender a una nueva base de datos de clientes. \n",
    "\n",
    "**Para construir el análisis, se desarrollo una campaña piloto que involucró 2.240 clientes. Los clientes fueron seleccionados al azar y contactados por teléfono con respecto a la adquisición del gadget. Durante los meses siguientes, los clientes que compraron el oferta fueron debidamente etiquetados.**\n",
    "\n",
    "El coste total de la campaña de muestra fue de 6.720MU y los ingresos generado por los clientes que aceptaron la oferta fue de 3.674MU. A nivel mundial, la campaña tuvo un beneficio de -3.046MU. La tasa de éxito de la campaña fue del 15%.\n"
   ]
  },
  {
   "cell_type": "markdown",
   "metadata": {},
   "source": [
    "## 📍 Consideraciones"
   ]
  },
  {
   "cell_type": "markdown",
   "metadata": {},
   "source": [
    "- Repliquen este notebook para la resolución del ejercicio.\n",
    "- Consideren las etapas: 1) Cargamos los datos, 2) Preparación de la data, 3) Clasificación, 4) Regresión y 5) Guardar un modelo.\n",
    "\n",
    "**Son libres de decidir:**\n",
    "- Cómo preparar y acondicionar el dataset.\n",
    "- Pueden agregar y eliminar columnas del dataset.\n",
    "- Decidir parámetros para ajustar en los modelos de clasificación y regresión.\n"
   ]
  },
  {
   "cell_type": "markdown",
   "metadata": {},
   "source": [
    "## 📍 Consigna"
   ]
  },
  {
   "cell_type": "markdown",
   "metadata": {},
   "source": [
    "- Creen un modelo de clasificación utilizando Random Forest para la columna `Response`. \n",
    "- Guarden el modelo de clasificación Randon forest como `rf.pkl`.\n",
    "- Creen un modelo con regresión lineal y con Random Forest + GridsearchCV para predecir la columna `Income`.\n",
    "- Cargar proyecto en Github / Gitlab, usen git y git-lfs para los `.csv` y `.pkl`."
   ]
  },
  {
   "cell_type": "markdown",
   "metadata": {},
   "source": [
    "---"
   ]
  },
  {
   "cell_type": "markdown",
   "metadata": {},
   "source": [
    "# Regresion Model"
   ]
  },
  {
   "cell_type": "code",
   "execution_count": 1,
   "metadata": {},
   "outputs": [],
   "source": [
    "import numpy as np\n",
    "import pandas as pd\n",
    "\n",
    "import funpymodeling\n",
    "\n",
    "from pprint import pprint"
   ]
  },
  {
   "cell_type": "code",
   "execution_count": 2,
   "metadata": {},
   "outputs": [],
   "source": [
    "# Para este caso nos interesa visualizar todas las columnas\n",
    "pd.set_option('display.max_columns', None)"
   ]
  },
  {
   "cell_type": "code",
   "execution_count": 3,
   "metadata": {},
   "outputs": [],
   "source": [
    "df_data = pd.read_csv(\"data/new_marketing_campaign.csv\", sep=',')"
   ]
  },
  {
   "cell_type": "code",
   "execution_count": 4,
   "metadata": {},
   "outputs": [
    {
     "name": "stdout",
     "output_type": "stream",
     "text": [
      "Index(['Income', 'Recency', 'NumWebVisitsMonth', 'Complain', 'Response',\n",
      "       'AcceptedAnyCmp', 'HasChildren', 'Age', 'ClientDays', 'AmountSpend',\n",
      "       'NumPurchases', 'Education_2n Cycle', 'Education_Basic',\n",
      "       'Education_Graduation', 'Education_Master', 'Education_PhD',\n",
      "       'Generation_BabyBoomer', 'Generation_Millennials',\n",
      "       'Generation_Postguerra', 'Generation_X', 'Generation_Z',\n",
      "       'NewMaritalStatus_Couple', 'NewMaritalStatus_Divorced',\n",
      "       'NewMaritalStatus_Other', 'NewMaritalStatus_Single',\n",
      "       'NewMaritalStatus_Widow'],\n",
      "      dtype='object')\n",
      "(2198, 26)\n"
     ]
    }
   ],
   "source": [
    "print(df_data.columns)\n",
    "print(df_data.shape)"
   ]
  },
  {
   "cell_type": "code",
   "execution_count": 5,
   "metadata": {},
   "outputs": [
    {
     "data": {
      "text/html": [
       "<div>\n",
       "<style scoped>\n",
       "    .dataframe tbody tr th:only-of-type {\n",
       "        vertical-align: middle;\n",
       "    }\n",
       "\n",
       "    .dataframe tbody tr th {\n",
       "        vertical-align: top;\n",
       "    }\n",
       "\n",
       "    .dataframe thead th {\n",
       "        text-align: right;\n",
       "    }\n",
       "</style>\n",
       "<table border=\"1\" class=\"dataframe\">\n",
       "  <thead>\n",
       "    <tr style=\"text-align: right;\">\n",
       "      <th></th>\n",
       "      <th>Income</th>\n",
       "      <th>Recency</th>\n",
       "      <th>NumWebVisitsMonth</th>\n",
       "      <th>Complain</th>\n",
       "      <th>Response</th>\n",
       "      <th>AcceptedAnyCmp</th>\n",
       "      <th>HasChildren</th>\n",
       "      <th>Age</th>\n",
       "      <th>ClientDays</th>\n",
       "      <th>AmountSpend</th>\n",
       "      <th>NumPurchases</th>\n",
       "      <th>Education_2n Cycle</th>\n",
       "      <th>Education_Basic</th>\n",
       "      <th>Education_Graduation</th>\n",
       "      <th>Education_Master</th>\n",
       "      <th>Education_PhD</th>\n",
       "      <th>Generation_BabyBoomer</th>\n",
       "      <th>Generation_Millennials</th>\n",
       "      <th>Generation_Postguerra</th>\n",
       "      <th>Generation_X</th>\n",
       "      <th>Generation_Z</th>\n",
       "      <th>NewMaritalStatus_Couple</th>\n",
       "      <th>NewMaritalStatus_Divorced</th>\n",
       "      <th>NewMaritalStatus_Other</th>\n",
       "      <th>NewMaritalStatus_Single</th>\n",
       "      <th>NewMaritalStatus_Widow</th>\n",
       "    </tr>\n",
       "  </thead>\n",
       "  <tbody>\n",
       "    <tr>\n",
       "      <th>0</th>\n",
       "      <td>58138.0</td>\n",
       "      <td>58</td>\n",
       "      <td>7</td>\n",
       "      <td>0</td>\n",
       "      <td>1</td>\n",
       "      <td>0</td>\n",
       "      <td>0</td>\n",
       "      <td>66</td>\n",
       "      <td>3885</td>\n",
       "      <td>1617</td>\n",
       "      <td>25</td>\n",
       "      <td>0</td>\n",
       "      <td>0</td>\n",
       "      <td>1</td>\n",
       "      <td>0</td>\n",
       "      <td>0</td>\n",
       "      <td>1</td>\n",
       "      <td>0</td>\n",
       "      <td>0</td>\n",
       "      <td>0</td>\n",
       "      <td>0</td>\n",
       "      <td>0</td>\n",
       "      <td>0</td>\n",
       "      <td>0</td>\n",
       "      <td>1</td>\n",
       "      <td>0</td>\n",
       "    </tr>\n",
       "    <tr>\n",
       "      <th>1</th>\n",
       "      <td>46344.0</td>\n",
       "      <td>38</td>\n",
       "      <td>5</td>\n",
       "      <td>0</td>\n",
       "      <td>0</td>\n",
       "      <td>0</td>\n",
       "      <td>1</td>\n",
       "      <td>69</td>\n",
       "      <td>3335</td>\n",
       "      <td>27</td>\n",
       "      <td>6</td>\n",
       "      <td>0</td>\n",
       "      <td>0</td>\n",
       "      <td>1</td>\n",
       "      <td>0</td>\n",
       "      <td>0</td>\n",
       "      <td>1</td>\n",
       "      <td>0</td>\n",
       "      <td>0</td>\n",
       "      <td>0</td>\n",
       "      <td>0</td>\n",
       "      <td>0</td>\n",
       "      <td>0</td>\n",
       "      <td>0</td>\n",
       "      <td>1</td>\n",
       "      <td>0</td>\n",
       "    </tr>\n",
       "    <tr>\n",
       "      <th>2</th>\n",
       "      <td>71613.0</td>\n",
       "      <td>26</td>\n",
       "      <td>4</td>\n",
       "      <td>0</td>\n",
       "      <td>0</td>\n",
       "      <td>0</td>\n",
       "      <td>0</td>\n",
       "      <td>58</td>\n",
       "      <td>3534</td>\n",
       "      <td>776</td>\n",
       "      <td>21</td>\n",
       "      <td>0</td>\n",
       "      <td>0</td>\n",
       "      <td>1</td>\n",
       "      <td>0</td>\n",
       "      <td>0</td>\n",
       "      <td>1</td>\n",
       "      <td>0</td>\n",
       "      <td>0</td>\n",
       "      <td>0</td>\n",
       "      <td>0</td>\n",
       "      <td>1</td>\n",
       "      <td>0</td>\n",
       "      <td>0</td>\n",
       "      <td>0</td>\n",
       "      <td>0</td>\n",
       "    </tr>\n",
       "    <tr>\n",
       "      <th>3</th>\n",
       "      <td>26646.0</td>\n",
       "      <td>26</td>\n",
       "      <td>6</td>\n",
       "      <td>0</td>\n",
       "      <td>0</td>\n",
       "      <td>0</td>\n",
       "      <td>1</td>\n",
       "      <td>39</td>\n",
       "      <td>3361</td>\n",
       "      <td>53</td>\n",
       "      <td>8</td>\n",
       "      <td>0</td>\n",
       "      <td>0</td>\n",
       "      <td>1</td>\n",
       "      <td>0</td>\n",
       "      <td>0</td>\n",
       "      <td>0</td>\n",
       "      <td>1</td>\n",
       "      <td>0</td>\n",
       "      <td>0</td>\n",
       "      <td>0</td>\n",
       "      <td>1</td>\n",
       "      <td>0</td>\n",
       "      <td>0</td>\n",
       "      <td>0</td>\n",
       "      <td>0</td>\n",
       "    </tr>\n",
       "    <tr>\n",
       "      <th>4</th>\n",
       "      <td>58293.0</td>\n",
       "      <td>94</td>\n",
       "      <td>5</td>\n",
       "      <td>0</td>\n",
       "      <td>0</td>\n",
       "      <td>0</td>\n",
       "      <td>1</td>\n",
       "      <td>42</td>\n",
       "      <td>3383</td>\n",
       "      <td>422</td>\n",
       "      <td>19</td>\n",
       "      <td>0</td>\n",
       "      <td>0</td>\n",
       "      <td>0</td>\n",
       "      <td>0</td>\n",
       "      <td>1</td>\n",
       "      <td>0</td>\n",
       "      <td>1</td>\n",
       "      <td>0</td>\n",
       "      <td>0</td>\n",
       "      <td>0</td>\n",
       "      <td>1</td>\n",
       "      <td>0</td>\n",
       "      <td>0</td>\n",
       "      <td>0</td>\n",
       "      <td>0</td>\n",
       "    </tr>\n",
       "    <tr>\n",
       "      <th>...</th>\n",
       "      <td>...</td>\n",
       "      <td>...</td>\n",
       "      <td>...</td>\n",
       "      <td>...</td>\n",
       "      <td>...</td>\n",
       "      <td>...</td>\n",
       "      <td>...</td>\n",
       "      <td>...</td>\n",
       "      <td>...</td>\n",
       "      <td>...</td>\n",
       "      <td>...</td>\n",
       "      <td>...</td>\n",
       "      <td>...</td>\n",
       "      <td>...</td>\n",
       "      <td>...</td>\n",
       "      <td>...</td>\n",
       "      <td>...</td>\n",
       "      <td>...</td>\n",
       "      <td>...</td>\n",
       "      <td>...</td>\n",
       "      <td>...</td>\n",
       "      <td>...</td>\n",
       "      <td>...</td>\n",
       "      <td>...</td>\n",
       "      <td>...</td>\n",
       "      <td>...</td>\n",
       "    </tr>\n",
       "    <tr>\n",
       "      <th>2193</th>\n",
       "      <td>61223.0</td>\n",
       "      <td>46</td>\n",
       "      <td>5</td>\n",
       "      <td>0</td>\n",
       "      <td>0</td>\n",
       "      <td>0</td>\n",
       "      <td>1</td>\n",
       "      <td>56</td>\n",
       "      <td>3603</td>\n",
       "      <td>1341</td>\n",
       "      <td>18</td>\n",
       "      <td>0</td>\n",
       "      <td>0</td>\n",
       "      <td>1</td>\n",
       "      <td>0</td>\n",
       "      <td>0</td>\n",
       "      <td>1</td>\n",
       "      <td>0</td>\n",
       "      <td>0</td>\n",
       "      <td>0</td>\n",
       "      <td>0</td>\n",
       "      <td>1</td>\n",
       "      <td>0</td>\n",
       "      <td>0</td>\n",
       "      <td>0</td>\n",
       "      <td>0</td>\n",
       "    </tr>\n",
       "    <tr>\n",
       "      <th>2194</th>\n",
       "      <td>64014.0</td>\n",
       "      <td>56</td>\n",
       "      <td>7</td>\n",
       "      <td>0</td>\n",
       "      <td>0</td>\n",
       "      <td>1</td>\n",
       "      <td>1</td>\n",
       "      <td>77</td>\n",
       "      <td>3241</td>\n",
       "      <td>444</td>\n",
       "      <td>22</td>\n",
       "      <td>0</td>\n",
       "      <td>0</td>\n",
       "      <td>0</td>\n",
       "      <td>0</td>\n",
       "      <td>1</td>\n",
       "      <td>0</td>\n",
       "      <td>0</td>\n",
       "      <td>1</td>\n",
       "      <td>0</td>\n",
       "      <td>0</td>\n",
       "      <td>1</td>\n",
       "      <td>0</td>\n",
       "      <td>0</td>\n",
       "      <td>0</td>\n",
       "      <td>0</td>\n",
       "    </tr>\n",
       "    <tr>\n",
       "      <th>2195</th>\n",
       "      <td>56981.0</td>\n",
       "      <td>91</td>\n",
       "      <td>6</td>\n",
       "      <td>0</td>\n",
       "      <td>0</td>\n",
       "      <td>1</td>\n",
       "      <td>0</td>\n",
       "      <td>42</td>\n",
       "      <td>3377</td>\n",
       "      <td>1241</td>\n",
       "      <td>19</td>\n",
       "      <td>0</td>\n",
       "      <td>0</td>\n",
       "      <td>1</td>\n",
       "      <td>0</td>\n",
       "      <td>0</td>\n",
       "      <td>0</td>\n",
       "      <td>1</td>\n",
       "      <td>0</td>\n",
       "      <td>0</td>\n",
       "      <td>0</td>\n",
       "      <td>0</td>\n",
       "      <td>1</td>\n",
       "      <td>0</td>\n",
       "      <td>0</td>\n",
       "      <td>0</td>\n",
       "    </tr>\n",
       "    <tr>\n",
       "      <th>2196</th>\n",
       "      <td>69245.0</td>\n",
       "      <td>8</td>\n",
       "      <td>3</td>\n",
       "      <td>0</td>\n",
       "      <td>0</td>\n",
       "      <td>0</td>\n",
       "      <td>1</td>\n",
       "      <td>67</td>\n",
       "      <td>3378</td>\n",
       "      <td>843</td>\n",
       "      <td>23</td>\n",
       "      <td>0</td>\n",
       "      <td>0</td>\n",
       "      <td>0</td>\n",
       "      <td>1</td>\n",
       "      <td>0</td>\n",
       "      <td>1</td>\n",
       "      <td>0</td>\n",
       "      <td>0</td>\n",
       "      <td>0</td>\n",
       "      <td>0</td>\n",
       "      <td>1</td>\n",
       "      <td>0</td>\n",
       "      <td>0</td>\n",
       "      <td>0</td>\n",
       "      <td>0</td>\n",
       "    </tr>\n",
       "    <tr>\n",
       "      <th>2197</th>\n",
       "      <td>52869.0</td>\n",
       "      <td>40</td>\n",
       "      <td>7</td>\n",
       "      <td>0</td>\n",
       "      <td>1</td>\n",
       "      <td>0</td>\n",
       "      <td>1</td>\n",
       "      <td>69</td>\n",
       "      <td>3844</td>\n",
       "      <td>172</td>\n",
       "      <td>11</td>\n",
       "      <td>0</td>\n",
       "      <td>0</td>\n",
       "      <td>0</td>\n",
       "      <td>0</td>\n",
       "      <td>1</td>\n",
       "      <td>1</td>\n",
       "      <td>0</td>\n",
       "      <td>0</td>\n",
       "      <td>0</td>\n",
       "      <td>0</td>\n",
       "      <td>1</td>\n",
       "      <td>0</td>\n",
       "      <td>0</td>\n",
       "      <td>0</td>\n",
       "      <td>0</td>\n",
       "    </tr>\n",
       "  </tbody>\n",
       "</table>\n",
       "<p>2198 rows × 26 columns</p>\n",
       "</div>"
      ],
      "text/plain": [
       "       Income  Recency  NumWebVisitsMonth  Complain  Response  AcceptedAnyCmp  \\\n",
       "0     58138.0       58                  7         0         1               0   \n",
       "1     46344.0       38                  5         0         0               0   \n",
       "2     71613.0       26                  4         0         0               0   \n",
       "3     26646.0       26                  6         0         0               0   \n",
       "4     58293.0       94                  5         0         0               0   \n",
       "...       ...      ...                ...       ...       ...             ...   \n",
       "2193  61223.0       46                  5         0         0               0   \n",
       "2194  64014.0       56                  7         0         0               1   \n",
       "2195  56981.0       91                  6         0         0               1   \n",
       "2196  69245.0        8                  3         0         0               0   \n",
       "2197  52869.0       40                  7         0         1               0   \n",
       "\n",
       "      HasChildren  Age  ClientDays  AmountSpend  NumPurchases  \\\n",
       "0               0   66        3885         1617            25   \n",
       "1               1   69        3335           27             6   \n",
       "2               0   58        3534          776            21   \n",
       "3               1   39        3361           53             8   \n",
       "4               1   42        3383          422            19   \n",
       "...           ...  ...         ...          ...           ...   \n",
       "2193            1   56        3603         1341            18   \n",
       "2194            1   77        3241          444            22   \n",
       "2195            0   42        3377         1241            19   \n",
       "2196            1   67        3378          843            23   \n",
       "2197            1   69        3844          172            11   \n",
       "\n",
       "      Education_2n Cycle  Education_Basic  Education_Graduation  \\\n",
       "0                      0                0                     1   \n",
       "1                      0                0                     1   \n",
       "2                      0                0                     1   \n",
       "3                      0                0                     1   \n",
       "4                      0                0                     0   \n",
       "...                  ...              ...                   ...   \n",
       "2193                   0                0                     1   \n",
       "2194                   0                0                     0   \n",
       "2195                   0                0                     1   \n",
       "2196                   0                0                     0   \n",
       "2197                   0                0                     0   \n",
       "\n",
       "      Education_Master  Education_PhD  Generation_BabyBoomer  \\\n",
       "0                    0              0                      1   \n",
       "1                    0              0                      1   \n",
       "2                    0              0                      1   \n",
       "3                    0              0                      0   \n",
       "4                    0              1                      0   \n",
       "...                ...            ...                    ...   \n",
       "2193                 0              0                      1   \n",
       "2194                 0              1                      0   \n",
       "2195                 0              0                      0   \n",
       "2196                 1              0                      1   \n",
       "2197                 0              1                      1   \n",
       "\n",
       "      Generation_Millennials  Generation_Postguerra  Generation_X  \\\n",
       "0                          0                      0             0   \n",
       "1                          0                      0             0   \n",
       "2                          0                      0             0   \n",
       "3                          1                      0             0   \n",
       "4                          1                      0             0   \n",
       "...                      ...                    ...           ...   \n",
       "2193                       0                      0             0   \n",
       "2194                       0                      1             0   \n",
       "2195                       1                      0             0   \n",
       "2196                       0                      0             0   \n",
       "2197                       0                      0             0   \n",
       "\n",
       "      Generation_Z  NewMaritalStatus_Couple  NewMaritalStatus_Divorced  \\\n",
       "0                0                        0                          0   \n",
       "1                0                        0                          0   \n",
       "2                0                        1                          0   \n",
       "3                0                        1                          0   \n",
       "4                0                        1                          0   \n",
       "...            ...                      ...                        ...   \n",
       "2193             0                        1                          0   \n",
       "2194             0                        1                          0   \n",
       "2195             0                        0                          1   \n",
       "2196             0                        1                          0   \n",
       "2197             0                        1                          0   \n",
       "\n",
       "      NewMaritalStatus_Other  NewMaritalStatus_Single  NewMaritalStatus_Widow  \n",
       "0                          0                        1                       0  \n",
       "1                          0                        1                       0  \n",
       "2                          0                        0                       0  \n",
       "3                          0                        0                       0  \n",
       "4                          0                        0                       0  \n",
       "...                      ...                      ...                     ...  \n",
       "2193                       0                        0                       0  \n",
       "2194                       0                        0                       0  \n",
       "2195                       0                        0                       0  \n",
       "2196                       0                        0                       0  \n",
       "2197                       0                        0                       0  \n",
       "\n",
       "[2198 rows x 26 columns]"
      ]
     },
     "execution_count": 5,
     "metadata": {},
     "output_type": "execute_result"
    }
   ],
   "source": [
    "df_data"
   ]
  },
  {
   "cell_type": "code",
   "execution_count": null,
   "metadata": {},
   "outputs": [],
   "source": []
  },
  {
   "cell_type": "markdown",
   "metadata": {},
   "source": [
    "Dropeamos la variable `Response`."
   ]
  },
  {
   "cell_type": "code",
   "execution_count": 6,
   "metadata": {},
   "outputs": [],
   "source": [
    "labels = ['Response']\n",
    "df_data = df_data.drop(labels=labels, axis=1)"
   ]
  },
  {
   "cell_type": "code",
   "execution_count": 7,
   "metadata": {},
   "outputs": [
    {
     "data": {
      "text/html": [
       "<div>\n",
       "<style scoped>\n",
       "    .dataframe tbody tr th:only-of-type {\n",
       "        vertical-align: middle;\n",
       "    }\n",
       "\n",
       "    .dataframe tbody tr th {\n",
       "        vertical-align: top;\n",
       "    }\n",
       "\n",
       "    .dataframe thead th {\n",
       "        text-align: right;\n",
       "    }\n",
       "</style>\n",
       "<table border=\"1\" class=\"dataframe\">\n",
       "  <thead>\n",
       "    <tr style=\"text-align: right;\">\n",
       "      <th></th>\n",
       "      <th>variable</th>\n",
       "      <th>q_nan</th>\n",
       "      <th>p_nan</th>\n",
       "      <th>q_zeros</th>\n",
       "      <th>p_zeros</th>\n",
       "      <th>unique</th>\n",
       "      <th>type</th>\n",
       "    </tr>\n",
       "  </thead>\n",
       "  <tbody>\n",
       "    <tr>\n",
       "      <th>0</th>\n",
       "      <td>Income</td>\n",
       "      <td>0</td>\n",
       "      <td>0.0</td>\n",
       "      <td>0</td>\n",
       "      <td>0.000000</td>\n",
       "      <td>1957</td>\n",
       "      <td>float64</td>\n",
       "    </tr>\n",
       "    <tr>\n",
       "      <th>1</th>\n",
       "      <td>Recency</td>\n",
       "      <td>0</td>\n",
       "      <td>0.0</td>\n",
       "      <td>28</td>\n",
       "      <td>0.012739</td>\n",
       "      <td>100</td>\n",
       "      <td>int64</td>\n",
       "    </tr>\n",
       "    <tr>\n",
       "      <th>2</th>\n",
       "      <td>NumWebVisitsMonth</td>\n",
       "      <td>0</td>\n",
       "      <td>0.0</td>\n",
       "      <td>10</td>\n",
       "      <td>0.004550</td>\n",
       "      <td>16</td>\n",
       "      <td>int64</td>\n",
       "    </tr>\n",
       "    <tr>\n",
       "      <th>3</th>\n",
       "      <td>Complain</td>\n",
       "      <td>0</td>\n",
       "      <td>0.0</td>\n",
       "      <td>2179</td>\n",
       "      <td>0.991356</td>\n",
       "      <td>2</td>\n",
       "      <td>int64</td>\n",
       "    </tr>\n",
       "    <tr>\n",
       "      <th>4</th>\n",
       "      <td>AcceptedAnyCmp</td>\n",
       "      <td>0</td>\n",
       "      <td>0.0</td>\n",
       "      <td>1748</td>\n",
       "      <td>0.795268</td>\n",
       "      <td>2</td>\n",
       "      <td>int64</td>\n",
       "    </tr>\n",
       "    <tr>\n",
       "      <th>5</th>\n",
       "      <td>HasChildren</td>\n",
       "      <td>0</td>\n",
       "      <td>0.0</td>\n",
       "      <td>617</td>\n",
       "      <td>0.280710</td>\n",
       "      <td>2</td>\n",
       "      <td>int64</td>\n",
       "    </tr>\n",
       "    <tr>\n",
       "      <th>6</th>\n",
       "      <td>Age</td>\n",
       "      <td>0</td>\n",
       "      <td>0.0</td>\n",
       "      <td>0</td>\n",
       "      <td>0.000000</td>\n",
       "      <td>52</td>\n",
       "      <td>int64</td>\n",
       "    </tr>\n",
       "    <tr>\n",
       "      <th>7</th>\n",
       "      <td>ClientDays</td>\n",
       "      <td>0</td>\n",
       "      <td>0.0</td>\n",
       "      <td>0</td>\n",
       "      <td>0.000000</td>\n",
       "      <td>662</td>\n",
       "      <td>int64</td>\n",
       "    </tr>\n",
       "    <tr>\n",
       "      <th>8</th>\n",
       "      <td>AmountSpend</td>\n",
       "      <td>0</td>\n",
       "      <td>0.0</td>\n",
       "      <td>0</td>\n",
       "      <td>0.000000</td>\n",
       "      <td>1038</td>\n",
       "      <td>int64</td>\n",
       "    </tr>\n",
       "    <tr>\n",
       "      <th>9</th>\n",
       "      <td>NumPurchases</td>\n",
       "      <td>0</td>\n",
       "      <td>0.0</td>\n",
       "      <td>4</td>\n",
       "      <td>0.001820</td>\n",
       "      <td>39</td>\n",
       "      <td>int64</td>\n",
       "    </tr>\n",
       "    <tr>\n",
       "      <th>10</th>\n",
       "      <td>Education_2n Cycle</td>\n",
       "      <td>0</td>\n",
       "      <td>0.0</td>\n",
       "      <td>2000</td>\n",
       "      <td>0.909918</td>\n",
       "      <td>2</td>\n",
       "      <td>int64</td>\n",
       "    </tr>\n",
       "    <tr>\n",
       "      <th>11</th>\n",
       "      <td>Education_Basic</td>\n",
       "      <td>0</td>\n",
       "      <td>0.0</td>\n",
       "      <td>2144</td>\n",
       "      <td>0.975432</td>\n",
       "      <td>2</td>\n",
       "      <td>int64</td>\n",
       "    </tr>\n",
       "    <tr>\n",
       "      <th>12</th>\n",
       "      <td>Education_Graduation</td>\n",
       "      <td>0</td>\n",
       "      <td>0.0</td>\n",
       "      <td>1085</td>\n",
       "      <td>0.493631</td>\n",
       "      <td>2</td>\n",
       "      <td>int64</td>\n",
       "    </tr>\n",
       "    <tr>\n",
       "      <th>13</th>\n",
       "      <td>Education_Master</td>\n",
       "      <td>0</td>\n",
       "      <td>0.0</td>\n",
       "      <td>1837</td>\n",
       "      <td>0.835760</td>\n",
       "      <td>2</td>\n",
       "      <td>int64</td>\n",
       "    </tr>\n",
       "    <tr>\n",
       "      <th>14</th>\n",
       "      <td>Education_PhD</td>\n",
       "      <td>0</td>\n",
       "      <td>0.0</td>\n",
       "      <td>1726</td>\n",
       "      <td>0.785259</td>\n",
       "      <td>2</td>\n",
       "      <td>int64</td>\n",
       "    </tr>\n",
       "    <tr>\n",
       "      <th>15</th>\n",
       "      <td>Generation_BabyBoomer</td>\n",
       "      <td>0</td>\n",
       "      <td>0.0</td>\n",
       "      <td>1283</td>\n",
       "      <td>0.583712</td>\n",
       "      <td>2</td>\n",
       "      <td>int64</td>\n",
       "    </tr>\n",
       "    <tr>\n",
       "      <th>16</th>\n",
       "      <td>Generation_Millennials</td>\n",
       "      <td>0</td>\n",
       "      <td>0.0</td>\n",
       "      <td>1828</td>\n",
       "      <td>0.831665</td>\n",
       "      <td>2</td>\n",
       "      <td>int64</td>\n",
       "    </tr>\n",
       "    <tr>\n",
       "      <th>17</th>\n",
       "      <td>Generation_Postguerra</td>\n",
       "      <td>0</td>\n",
       "      <td>0.0</td>\n",
       "      <td>2137</td>\n",
       "      <td>0.972247</td>\n",
       "      <td>2</td>\n",
       "      <td>int64</td>\n",
       "    </tr>\n",
       "    <tr>\n",
       "      <th>18</th>\n",
       "      <td>Generation_X</td>\n",
       "      <td>0</td>\n",
       "      <td>0.0</td>\n",
       "      <td>1356</td>\n",
       "      <td>0.616924</td>\n",
       "      <td>2</td>\n",
       "      <td>int64</td>\n",
       "    </tr>\n",
       "    <tr>\n",
       "      <th>19</th>\n",
       "      <td>Generation_Z</td>\n",
       "      <td>0</td>\n",
       "      <td>0.0</td>\n",
       "      <td>2188</td>\n",
       "      <td>0.995450</td>\n",
       "      <td>2</td>\n",
       "      <td>int64</td>\n",
       "    </tr>\n",
       "    <tr>\n",
       "      <th>20</th>\n",
       "      <td>NewMaritalStatus_Couple</td>\n",
       "      <td>0</td>\n",
       "      <td>0.0</td>\n",
       "      <td>776</td>\n",
       "      <td>0.353048</td>\n",
       "      <td>2</td>\n",
       "      <td>int64</td>\n",
       "    </tr>\n",
       "    <tr>\n",
       "      <th>21</th>\n",
       "      <td>NewMaritalStatus_Divorced</td>\n",
       "      <td>0</td>\n",
       "      <td>0.0</td>\n",
       "      <td>1970</td>\n",
       "      <td>0.896269</td>\n",
       "      <td>2</td>\n",
       "      <td>int64</td>\n",
       "    </tr>\n",
       "    <tr>\n",
       "      <th>22</th>\n",
       "      <td>NewMaritalStatus_Other</td>\n",
       "      <td>0</td>\n",
       "      <td>0.0</td>\n",
       "      <td>2191</td>\n",
       "      <td>0.996815</td>\n",
       "      <td>2</td>\n",
       "      <td>int64</td>\n",
       "    </tr>\n",
       "    <tr>\n",
       "      <th>23</th>\n",
       "      <td>NewMaritalStatus_Single</td>\n",
       "      <td>0</td>\n",
       "      <td>0.0</td>\n",
       "      <td>1731</td>\n",
       "      <td>0.787534</td>\n",
       "      <td>2</td>\n",
       "      <td>int64</td>\n",
       "    </tr>\n",
       "    <tr>\n",
       "      <th>24</th>\n",
       "      <td>NewMaritalStatus_Widow</td>\n",
       "      <td>0</td>\n",
       "      <td>0.0</td>\n",
       "      <td>2124</td>\n",
       "      <td>0.966333</td>\n",
       "      <td>2</td>\n",
       "      <td>int64</td>\n",
       "    </tr>\n",
       "  </tbody>\n",
       "</table>\n",
       "</div>"
      ],
      "text/plain": [
       "                     variable  q_nan  p_nan  q_zeros   p_zeros  unique  \\\n",
       "0                      Income      0    0.0        0  0.000000    1957   \n",
       "1                     Recency      0    0.0       28  0.012739     100   \n",
       "2           NumWebVisitsMonth      0    0.0       10  0.004550      16   \n",
       "3                    Complain      0    0.0     2179  0.991356       2   \n",
       "4              AcceptedAnyCmp      0    0.0     1748  0.795268       2   \n",
       "5                 HasChildren      0    0.0      617  0.280710       2   \n",
       "6                         Age      0    0.0        0  0.000000      52   \n",
       "7                  ClientDays      0    0.0        0  0.000000     662   \n",
       "8                 AmountSpend      0    0.0        0  0.000000    1038   \n",
       "9                NumPurchases      0    0.0        4  0.001820      39   \n",
       "10         Education_2n Cycle      0    0.0     2000  0.909918       2   \n",
       "11            Education_Basic      0    0.0     2144  0.975432       2   \n",
       "12       Education_Graduation      0    0.0     1085  0.493631       2   \n",
       "13           Education_Master      0    0.0     1837  0.835760       2   \n",
       "14              Education_PhD      0    0.0     1726  0.785259       2   \n",
       "15      Generation_BabyBoomer      0    0.0     1283  0.583712       2   \n",
       "16     Generation_Millennials      0    0.0     1828  0.831665       2   \n",
       "17      Generation_Postguerra      0    0.0     2137  0.972247       2   \n",
       "18               Generation_X      0    0.0     1356  0.616924       2   \n",
       "19               Generation_Z      0    0.0     2188  0.995450       2   \n",
       "20    NewMaritalStatus_Couple      0    0.0      776  0.353048       2   \n",
       "21  NewMaritalStatus_Divorced      0    0.0     1970  0.896269       2   \n",
       "22     NewMaritalStatus_Other      0    0.0     2191  0.996815       2   \n",
       "23    NewMaritalStatus_Single      0    0.0     1731  0.787534       2   \n",
       "24     NewMaritalStatus_Widow      0    0.0     2124  0.966333       2   \n",
       "\n",
       "       type  \n",
       "0   float64  \n",
       "1     int64  \n",
       "2     int64  \n",
       "3     int64  \n",
       "4     int64  \n",
       "5     int64  \n",
       "6     int64  \n",
       "7     int64  \n",
       "8     int64  \n",
       "9     int64  \n",
       "10    int64  \n",
       "11    int64  \n",
       "12    int64  \n",
       "13    int64  \n",
       "14    int64  \n",
       "15    int64  \n",
       "16    int64  \n",
       "17    int64  \n",
       "18    int64  \n",
       "19    int64  \n",
       "20    int64  \n",
       "21    int64  \n",
       "22    int64  \n",
       "23    int64  \n",
       "24    int64  "
      ]
     },
     "execution_count": 7,
     "metadata": {},
     "output_type": "execute_result"
    }
   ],
   "source": [
    "funpymodeling.status(df_data)"
   ]
  },
  {
   "cell_type": "code",
   "execution_count": 8,
   "metadata": {},
   "outputs": [
    {
     "data": {
      "text/plain": [
       "<AxesSubplot:>"
      ]
     },
     "execution_count": 8,
     "metadata": {},
     "output_type": "execute_result"
    },
    {
     "data": {
      "image/png": "[encoded data removed]",
      "text/plain": [
       "<Figure size 432x288 with 1 Axes>"
      ]
     },
     "metadata": {
      "needs_background": "light"
     },
     "output_type": "display_data"
    }
   ],
   "source": [
    "df_data['Income'].hist(bins=10)"
   ]
  },
  {
   "cell_type": "code",
   "execution_count": null,
   "metadata": {},
   "outputs": [],
   "source": []
  },
  {
   "cell_type": "markdown",
   "metadata": {},
   "source": [
    "Preparamos los datos que seran usados para el entrenamiento."
   ]
  },
  {
   "cell_type": "code",
   "execution_count": 9,
   "metadata": {},
   "outputs": [],
   "source": [
    "data_x = df_data.drop('Income', axis=1)\n",
    "data_y = df_data['Income']"
   ]
  },
  {
   "cell_type": "code",
   "execution_count": 10,
   "metadata": {},
   "outputs": [],
   "source": [
    "data_x = data_x.values\n",
    "data_y = data_y.values"
   ]
  },
  {
   "cell_type": "code",
   "execution_count": 11,
   "metadata": {},
   "outputs": [],
   "source": [
    "from sklearn.model_selection import train_test_split"
   ]
  },
  {
   "cell_type": "code",
   "execution_count": 12,
   "metadata": {},
   "outputs": [],
   "source": [
    "# Spliteamos el dataset\n",
    "x_train, x_test, y_train, y_test = train_test_split(\n",
    "    data_x, data_y, test_size=0.3,\n",
    ")"
   ]
  },
  {
   "cell_type": "markdown",
   "metadata": {},
   "source": [
    "Creación del modelo de regresion lineal `LinearRegression`"
   ]
  },
  {
   "cell_type": "code",
   "execution_count": 13,
   "metadata": {},
   "outputs": [],
   "source": [
    "from sklearn.linear_model import LinearRegression"
   ]
  },
  {
   "cell_type": "code",
   "execution_count": 14,
   "metadata": {},
   "outputs": [],
   "source": [
    "# Creamos el modelo\n",
    "lr_model = LinearRegression()"
   ]
  },
  {
   "cell_type": "code",
   "execution_count": 15,
   "metadata": {},
   "outputs": [
    {
     "name": "stdout",
     "output_type": "stream",
     "text": [
      "CPU times: user 4.2 ms, sys: 2.88 ms, total: 7.08 ms\n",
      "Wall time: 4.48 ms\n"
     ]
    },
    {
     "data": {
      "text/html": [
       "<style>#sk-container-id-1 {color: black;background-color: white;}#sk-container-id-1 pre{padding: 0;}#sk-container-id-1 div.sk-toggleable {background-color: white;}#sk-container-id-1 label.sk-toggleable__label {cursor: pointer;display: block;width: 100%;margin-bottom: 0;padding: 0.3em;box-sizing: border-box;text-align: center;}#sk-container-id-1 label.sk-toggleable__label-arrow:before {content: \"▸\";float: left;margin-right: 0.25em;color: #696969;}#sk-container-id-1 label.sk-toggleable__label-arrow:hover:before {color: black;}#sk-container-id-1 div.sk-estimator:hover label.sk-toggleable__label-arrow:before {color: black;}#sk-container-id-1 div.sk-toggleable__content {max-height: 0;max-width: 0;overflow: hidden;text-align: left;background-color: #f0f8ff;}#sk-container-id-1 div.sk-toggleable__content pre {margin: 0.2em;color: black;border-radius: 0.25em;background-color: #f0f8ff;}#sk-container-id-1 input.sk-toggleable__control:checked~div.sk-toggleable__content {max-height: 200px;max-width: 100%;overflow: auto;}#sk-container-id-1 input.sk-toggleable__control:checked~label.sk-toggleable__label-arrow:before {content: \"▾\";}#sk-container-id-1 div.sk-estimator input.sk-toggleable__control:checked~label.sk-toggleable__label {background-color: #d4ebff;}#sk-container-id-1 div.sk-label input.sk-toggleable__control:checked~label.sk-toggleable__label {background-color: #d4ebff;}#sk-container-id-1 input.sk-hidden--visually {border: 0;clip: rect(1px 1px 1px 1px);clip: rect(1px, 1px, 1px, 1px);height: 1px;margin: -1px;overflow: hidden;padding: 0;position: absolute;width: 1px;}#sk-container-id-1 div.sk-estimator {font-family: monospace;background-color: #f0f8ff;border: 1px dotted black;border-radius: 0.25em;box-sizing: border-box;margin-bottom: 0.5em;}#sk-container-id-1 div.sk-estimator:hover {background-color: #d4ebff;}#sk-container-id-1 div.sk-parallel-item::after {content: \"\";width: 100%;border-bottom: 1px solid gray;flex-grow: 1;}#sk-container-id-1 div.sk-label:hover label.sk-toggleable__label {background-color: #d4ebff;}#sk-container-id-1 div.sk-serial::before {content: \"\";position: absolute;border-left: 1px solid gray;box-sizing: border-box;top: 0;bottom: 0;left: 50%;z-index: 0;}#sk-container-id-1 div.sk-serial {display: flex;flex-direction: column;align-items: center;background-color: white;padding-right: 0.2em;padding-left: 0.2em;position: relative;}#sk-container-id-1 div.sk-item {position: relative;z-index: 1;}#sk-container-id-1 div.sk-parallel {display: flex;align-items: stretch;justify-content: center;background-color: white;position: relative;}#sk-container-id-1 div.sk-item::before, #sk-container-id-1 div.sk-parallel-item::before {content: \"\";position: absolute;border-left: 1px solid gray;box-sizing: border-box;top: 0;bottom: 0;left: 50%;z-index: -1;}#sk-container-id-1 div.sk-parallel-item {display: flex;flex-direction: column;z-index: 1;position: relative;background-color: white;}#sk-container-id-1 div.sk-parallel-item:first-child::after {align-self: flex-end;width: 50%;}#sk-container-id-1 div.sk-parallel-item:last-child::after {align-self: flex-start;width: 50%;}#sk-container-id-1 div.sk-parallel-item:only-child::after {width: 0;}#sk-container-id-1 div.sk-dashed-wrapped {border: 1px dashed gray;margin: 0 0.4em 0.5em 0.4em;box-sizing: border-box;padding-bottom: 0.4em;background-color: white;}#sk-container-id-1 div.sk-label label {font-family: monospace;font-weight: bold;display: inline-block;line-height: 1.2em;}#sk-container-id-1 div.sk-label-container {text-align: center;}#sk-container-id-1 div.sk-container {/* jupyter's `normalize.less` sets `[hidden] { display: none; }` but bootstrap.min.css set `[hidden] { display: none !important; }` so we also need the `!important` here to be able to override the default hidden behavior on the sphinx rendered scikit-learn.org. See: https://github.com/scikit-learn/scikit-learn/issues/21755 */display: inline-block !important;position: relative;}#sk-container-id-1 div.sk-text-repr-fallback {display: none;}</style><div id=\"sk-container-id-1\" class=\"sk-top-container\"><div class=\"sk-text-repr-fallback\"><pre>LinearRegression()</pre><b>In a Jupyter environment, please rerun this cell to show the HTML representation or trust the notebook. <br />On GitHub, the HTML representation is unable to render, please try loading this page with nbviewer.org.</b></div><div class=\"sk-container\" hidden><div class=\"sk-item\"><div class=\"sk-estimator sk-toggleable\"><input class=\"sk-toggleable__control sk-hidden--visually\" id=\"sk-estimator-id-1\" type=\"checkbox\" checked><label for=\"sk-estimator-id-1\" class=\"sk-toggleable__label sk-toggleable__label-arrow\">LinearRegression</label><div class=\"sk-toggleable__content\"><pre>LinearRegression()</pre></div></div></div></div></div>"
      ],
      "text/plain": [
       "LinearRegression()"
      ]
     },
     "execution_count": 15,
     "metadata": {},
     "output_type": "execute_result"
    }
   ],
   "source": [
    "%%time\n",
    "\n",
    "lr_model.fit(x_train, y_train)"
   ]
  },
  {
   "cell_type": "code",
   "execution_count": 16,
   "metadata": {},
   "outputs": [],
   "source": [
    "# En training\n",
    "pred_tr = lr_model.predict(x_train)"
   ]
  },
  {
   "cell_type": "code",
   "execution_count": 17,
   "metadata": {},
   "outputs": [],
   "source": [
    "# En testing\n",
    "pred_ts = lr_model.predict(x_test)"
   ]
  },
  {
   "cell_type": "code",
   "execution_count": 18,
   "metadata": {},
   "outputs": [
    {
     "data": {
      "text/plain": [
       "array([70586.82102485, 55449.31213456, 78318.64251657, ...,\n",
       "       47119.7313606 , 63679.47171341, 55690.71565134])"
      ]
     },
     "execution_count": 18,
     "metadata": {},
     "output_type": "execute_result"
    }
   ],
   "source": [
    "pred_tr"
   ]
  },
  {
   "cell_type": "code",
   "execution_count": 19,
   "metadata": {},
   "outputs": [
    {
     "data": {
      "text/plain": [
       "array([28138.27852722, 74975.71640077, 29973.98652912, 58576.45480802,\n",
       "       73495.67282443, 49686.89523543,  6145.7174849 , 42514.0432298 ,\n",
       "       31572.19127717, 38021.01958165, 51815.35188775, 77685.08131937,\n",
       "       61994.97837332, 38466.64789288, 61927.95757265, 76713.06705689,\n",
       "       54871.48154992, 32251.26452439, 71941.15167866, 49412.92790167,\n",
       "       48862.7238232 , 54044.73889211, 45156.80330808, 61905.1306307 ,\n",
       "       42022.91303234, 27414.20985577, 38781.829051  , 31371.0299163 ,\n",
       "       43465.68569386, 36567.36412804, 44971.91435105, 48312.723987  ,\n",
       "       58710.70028689, 48009.55826874, 45544.8091729 , 44915.54748286,\n",
       "       49304.83254654, 59614.50644084, 30287.16927706, 37128.33052972,\n",
       "       71326.04019589, 31146.17238685, 47033.6527125 , 47358.90669786,\n",
       "       38066.14192504, 36135.46129595, 42863.23446905, 30203.94198418,\n",
       "       30568.65475006, 30741.22627797, 15298.48470844, 53100.49765565,\n",
       "       47574.39240948, 81297.1912939 , 27494.212468  , 36381.38295048,\n",
       "       60496.00732455, 42261.19889511, 30832.02069355, 52422.28735734,\n",
       "       61894.11033667, 40222.48689123, 79228.22717221, 38673.50442453,\n",
       "       60900.56515687, 47103.36800627, 41963.02527589, 44169.7499994 ,\n",
       "       64139.7208674 , 82643.06479885, 51718.24603936, 49209.88733002,\n",
       "       77685.08131937, 54841.25127135, 46695.63462264, 45235.59316892,\n",
       "       81934.50436787, 75865.51375453, 24659.96443768, 64485.28048993,\n",
       "       48207.24535625, 39555.68930587, 62812.76394427, 43628.7520514 ,\n",
       "       59338.11948854, 59837.68457234, 30185.82153713, 67175.3858273 ,\n",
       "       37194.16675932, 47768.76208951, 43512.52063399, 45746.49746741,\n",
       "       70623.18565498, 43901.70618103, 32483.54445746, 52965.36817666,\n",
       "       49626.13474809, 48448.31390499, 28959.52717746, 57671.59675298,\n",
       "       60776.87773318, 81663.56067021, 32205.75047406, 41069.42464417,\n",
       "       43490.08142654, 44156.62653666, 37596.89600354, 32135.36996057,\n",
       "       51773.03320766, 73352.54407479, 16869.18414864, 62931.75926508,\n",
       "       64414.04692086, 34638.98323968, 82549.34787439, 62147.95439235,\n",
       "       53663.43356007, 37330.82641253, 69198.95931566, 73619.53335517,\n",
       "       43699.07112187, 31572.49632532, 68696.38157304, 38502.16765105,\n",
       "       64842.13766865, 36770.47930547, 29503.64180742, 64773.76373116,\n",
       "       71726.86636667, 35038.16745515, 69243.08272706, 29471.38216246,\n",
       "       49714.80743905, 64148.40707936, 58712.78883461, 48235.03224832,\n",
       "       90173.05690217, 45780.58768645, 84457.4152028 , 53882.04928254,\n",
       "       60488.50594392, 71924.58352156, 49628.45516831, 77229.07090585,\n",
       "       58269.02631079, 46678.29738035, 37487.71875571, 81408.16967501,\n",
       "       40814.67726564, 39805.14322345, 59352.58758796, 45016.86507822,\n",
       "       44178.50348926, 43978.79521858, 89754.26809914, 89754.26809914,\n",
       "       19429.17287293, 27784.78304354, 58342.39866225, 83339.48791291,\n",
       "       68843.87256658, 35592.95807858, 87992.76345211, 65860.67930893,\n",
       "       49292.49674837, 57789.47117258, 83903.5978507 , 40932.74227618,\n",
       "       32937.36476972, 31055.40077596, 42500.40409737, 66307.49384596,\n",
       "       34911.27059308, 45352.26396048, 22574.93168323, 65483.91812702,\n",
       "       38576.37354914, 88182.5407469 , 80343.35805757, 27630.71820236,\n",
       "       27629.84621304, 41100.51838868, 45397.08950808, 47929.8742673 ,\n",
       "       79017.3910003 , 25266.24714479, 37572.52722944, 66949.95697537,\n",
       "       55414.93938107, 47651.8032807 , 88364.92218664, 64360.74619634,\n",
       "       73769.07890304, 54839.95902359, 30471.65330984, 94466.01692569,\n",
       "       43691.3481735 , 73680.04637995, 33220.42172885, 67140.84970466,\n",
       "       62931.75926508, 17745.66037318, 49394.18509771, 47204.71898419,\n",
       "       36078.99459669, 29407.41329385, 32240.63240182, 34087.40096226,\n",
       "       60080.44498951, 48939.37079668, 69773.50082172, 66204.97987644,\n",
       "       72045.00017912, 39056.29301281, 34008.82017248, 62843.77549551,\n",
       "       75193.14776691, 45433.90052861, 46652.23333008, 56170.73912626,\n",
       "       36586.19379726, 54217.80241788, 72873.04424337, 63140.81635234,\n",
       "       45497.10718362, 54560.80587684, 54327.79732811, 46804.20613511,\n",
       "       40113.30138985, 75262.4459149 , 43730.19574376, 36707.45096269,\n",
       "       -6409.74456657, 28667.97307084, 56122.16106967, 24916.54221129,\n",
       "       74524.91306635, 61959.87247124, 61916.54054591, 24520.18932566,\n",
       "       61278.01898691, 45400.62188621, 69835.80457744, 45153.59122298,\n",
       "       77724.05393568, 72837.32945007, 41281.89605987, 43345.22541685,\n",
       "       23147.36215642, 31536.67387491, 84790.32623927, 57778.13990759,\n",
       "       78279.30115203, 34105.48281975, 41051.41286182, 65860.67930893,\n",
       "       68713.51015006, 34194.70430794, 44909.21032966, 50250.55214622,\n",
       "       39189.14626108, 65677.13209477, 35747.62404975, 60050.15741023,\n",
       "       58370.28990693, 41794.20711622, 36183.19761632, 40322.06679753,\n",
       "       67270.65467896, 29649.26171856, 87022.64901778, 60461.20111984,\n",
       "       15149.55836412, 75647.25615054, 49489.13267977, 56082.75366558,\n",
       "       65884.71507804, 74009.26134985, 26925.53951344, 26071.89921957,\n",
       "       72471.1243127 , 48862.7238232 , 31120.51053982, 75574.25975228,\n",
       "       45487.03807549, 34341.510959  , 83636.37385188, 31180.62274421,\n",
       "       64515.05987796, 85468.67758673, 27578.19332317, 47807.61247492,\n",
       "       45374.1733793 , 77630.33372335, 42593.13107398, 60083.38997658,\n",
       "       63604.64386071, 47802.86991969, 35353.19223512, 63912.26854086,\n",
       "       54542.16997273, 64390.81899994, 37147.58026284, 33178.17278311,\n",
       "       40127.91650506, 26322.16127952, 36870.34504273, 46832.34461907,\n",
       "       41275.23660838, 30507.96863169, 61245.39151074, 30224.70691636,\n",
       "       35203.50836057, 82295.50600785, 42202.53168214, 54274.99000982,\n",
       "       71822.31050771, 49973.47297232, 42201.47978144, 47651.8032807 ,\n",
       "       74169.49145963, 30762.90053081, 39712.98690387, 56943.01921674,\n",
       "       44986.36387437, 37790.99171728, 36476.29461434, 70006.57431117,\n",
       "       48870.00779401, 85922.70539165, 87759.10972923, 60273.57257158,\n",
       "       59181.97398086, 28435.58940701, 39432.13986808, 81171.07810232,\n",
       "       29349.60583553, 28230.42021017, 55985.77093988, 36590.57019708,\n",
       "       62874.42885512, 58066.93314595, 49897.43187542, 85574.75133945,\n",
       "       41399.21633713, 36883.69657862, 33165.38948177, 26693.20906716,\n",
       "       39987.32834628, 11241.67081287, 78511.19424   , 38043.06011642,\n",
       "       75132.10137759, 39230.8571759 , 66202.5445797 , 69198.95931566,\n",
       "       54842.86766033, 40876.52142699, 71150.29297936, 42285.41311485,\n",
       "       45536.3455758 , 72532.67786841, 42000.75843544, 40467.29713882,\n",
       "       28615.02234719, 43922.3714939 , 51595.27403724, 32743.58440604,\n",
       "       71933.00117545, 71025.02899755, 34729.36745328, 60198.29932622,\n",
       "       86359.88673532, 31584.93147727, 44171.53508383, 77589.35912124,\n",
       "       52520.15161721, 82086.85192049, 48009.55826874, 26851.25604447,\n",
       "       44666.58185259, 37767.34935972, 39591.82391287, 50060.60561888,\n",
       "       26564.330087  , 27424.09034854, 83598.74463335, 33553.08337157,\n",
       "       72493.68997032, 45333.78936929, 46437.41567352, 36961.11387346,\n",
       "       43176.9166362 , 41685.72348286, 80152.99508403, 13739.2583673 ,\n",
       "       32978.67910968, 47775.66049684, 47946.04217449, 31092.94634243,\n",
       "       86717.18247626, 36334.55591951, 31536.67387491, 34504.80436606,\n",
       "       36481.60470664, 29434.46621006, 56929.48588963, 76343.53485641,\n",
       "       40214.56997364, 34743.13578962, 64725.00013976, 51943.82270213,\n",
       "       70401.03807858, 58728.8624389 , 58921.56439333, 75737.15455006,\n",
       "       44117.39892477, 55184.98989425, 80826.7154735 , 83112.25400913,\n",
       "       71956.76304198, 33874.10534966, 44958.220779  , 55136.47442169,\n",
       "       49636.72853883, 34116.57268229, 29471.38216246, 30830.21752329,\n",
       "       53548.43401875, 36820.29205678, 88213.41383041, 52385.4376644 ,\n",
       "       68782.23721408, 46374.23294005, 51643.63189944, 52501.22670092,\n",
       "       67727.78743152, 44060.67060009, 31446.08218791, 76091.90619008,\n",
       "       55337.06680396, 38670.61599649, 47327.18941765, 37181.95903539,\n",
       "       65642.84029299, 62101.10418969, 46278.11507283, 41938.19763053,\n",
       "       35763.81349389, 39457.28121122, 26330.91799453, 33620.1905877 ,\n",
       "       71442.91536043, 30663.29231467, 57826.16964184, 31649.66038837,\n",
       "       80946.76000237, 33406.72193638, 85156.53550084, 29007.05668678,\n",
       "       54435.44378309, 36783.96203781, 54304.39348752, 73769.07890304,\n",
       "       88554.89588658, 29540.88035291, 40121.97900443, 39956.52481523,\n",
       "       34163.42656723, 44199.74135567, 17574.8752876 , 11535.881366  ,\n",
       "       57774.79081622, 51097.12975359, 95534.43663922, 33909.19800847,\n",
       "       86959.92540974, 56969.08059776, 21076.11702684, 51706.34204989,\n",
       "       79240.55398162, 25919.52722889, 80038.95521253, 24659.96443768,\n",
       "       36381.38295048, 73079.90600524, 86556.39288732, 59042.20264541,\n",
       "       33194.82907441, 84642.60301943, 36658.4037994 , 54479.43472444,\n",
       "       82478.76337563, 52681.00573485, 61221.53269019, 77321.73408132,\n",
       "       35210.8168921 , 98408.48282591, 35342.49369066, 31028.29136376,\n",
       "       67426.47630004, 23515.54501866, 67763.65702194, 71216.08439324,\n",
       "       35820.92048012, 29535.84000434, 51756.44779826, 28649.89053072,\n",
       "       45459.50109017, 42164.54820638, 71896.27056619, 57848.55296975,\n",
       "       31462.48240205, 42555.84571072, 58714.35018757, 72036.98450993,\n",
       "       80336.35631639, 32921.7599716 , 38697.20464519, 62567.28417811,\n",
       "       52156.84717679, 38762.4310173 , 52836.05614156, 68212.46440283,\n",
       "       31378.76289897, 43435.73171682, 26510.3701901 , 28242.08708863,\n",
       "       39651.53972654, 80912.02241032, 69601.64712618, 20986.35573279,\n",
       "       37669.23478094, 57967.58234057, 72808.08364644, 86623.59153007,\n",
       "       64166.88921014, 43185.24085867, 40676.70433106, 64041.94172924,\n",
       "       39669.16643341, 33797.82289533, 81295.65380869, 34224.99512204,\n",
       "       64247.22731818, 91899.37276778, 65424.72854642,  8633.42503434,\n",
       "       53163.13648885, 39407.11217705, 74623.63574849, 33164.11855127,\n",
       "       29321.01607693, 74249.72987896, 43386.63424397, 77596.77800597,\n",
       "       38906.18054444, 38896.27820979, 26486.76820669, 32420.8299418 ,\n",
       "       42858.83687983, 50308.1750643 , 65419.02367919, 36612.7604064 ,\n",
       "       55632.54430238, 78855.7462189 , 67632.56732923, 49237.4562071 ,\n",
       "       42880.81364364, 32494.58479755, 61480.12455117, 32353.20448527,\n",
       "       34800.14526683, 39411.67761239, 74276.05468828, 41366.87105511,\n",
       "       65831.79595605, 53975.9122186 , 55332.16394479, 71460.44881873,\n",
       "       76706.75989327, 34581.84442401, 42681.96338642, 67770.62679472,\n",
       "       33462.15512621, 67137.93817678, 29541.04570576, 35676.02637923,\n",
       "       60930.36316331, 33092.82257246, 57515.16076158, 36767.3417999 ,\n",
       "       70812.26822154, 46652.28977707, 30361.92286619, 11705.83855149,\n",
       "       28917.26502059, 78512.14048072, 56679.71645458, 32090.37344238,\n",
       "       77216.55934326, 76975.29801004, 94220.40999577, 70414.32495113,\n",
       "       50476.28627829, 86230.62594705, 61233.05668752, 45117.2178908 ,\n",
       "       68267.34645012, 45363.6761313 , 27510.54151825, 81136.14741417,\n",
       "       62778.08123036, 32845.76871637, 62124.73832634, 60084.23214191,\n",
       "       44330.69296752, 36476.29461434, 31457.22863407, 24382.64032302,\n",
       "       55000.51934566, 75624.37001508, 95106.76481758, 44555.02706347,\n",
       "       27952.40652474, 15122.47958347, 74248.73701172, 71352.05122221,\n",
       "       50425.61397058, 84642.60301943, 32428.8127156 , 30363.33515922,\n",
       "       39964.27030869, 33938.1289983 , 60783.73039925, 32554.66794151,\n",
       "       36330.39677698, 88182.5407469 , 62203.69192995, 34895.7433472 ,\n",
       "       92019.58705002, 41913.45833209, 30119.97009995, 58776.15354664,\n",
       "       83568.2263314 , 14249.14102793, 30362.88215523, 72106.5261187 ,\n",
       "       33683.61500404, 62128.26545133, 42224.61392914, 79228.22717221,\n",
       "       32578.84710538, 72916.98310347, 32353.20448527, 66660.88852571,\n",
       "       28445.00220021, 61129.19820514, 47510.09696585, 33750.97139128])"
      ]
     },
     "execution_count": 19,
     "metadata": {},
     "output_type": "execute_result"
    }
   ],
   "source": [
    "pred_ts"
   ]
  },
  {
   "cell_type": "code",
   "execution_count": null,
   "metadata": {},
   "outputs": [],
   "source": []
  },
  {
   "cell_type": "markdown",
   "metadata": {},
   "source": [
    "Calculamos algunas metricas sobre el modelo entrenado"
   ]
  },
  {
   "cell_type": "code",
   "execution_count": 20,
   "metadata": {},
   "outputs": [],
   "source": [
    "from sklearn.metrics import mean_absolute_error, mean_absolute_percentage_error, mean_squared_error"
   ]
  },
  {
   "cell_type": "code",
   "execution_count": 21,
   "metadata": {},
   "outputs": [
    {
     "name": "stdout",
     "output_type": "stream",
     "text": [
      "{'MAE': 7362.089539745677, 'MAPE': 0.236075625323214}\n"
     ]
    }
   ],
   "source": [
    "train_metrics = {\n",
    "    'MAE': mean_absolute_error(y_train, pred_tr),\n",
    "    'MAPE': mean_absolute_percentage_error(y_train, pred_tr),\n",
    "    #'MSE': mean_squared_error(y_train, pred_tr),\n",
    "    #'RMSE': np.sqrt(mean_squared_error(y_train, pred_tr)),\n",
    "}\n",
    "\n",
    "pprint(train_metrics)"
   ]
  },
  {
   "cell_type": "code",
   "execution_count": 22,
   "metadata": {},
   "outputs": [
    {
     "name": "stdout",
     "output_type": "stream",
     "text": [
      "{'MAE': 8165.04853225087, 'MAPE': 0.19101311370204524}\n"
     ]
    }
   ],
   "source": [
    "test_metrics = {\n",
    "    'MAE': mean_absolute_error(y_test, pred_ts),\n",
    "    'MAPE': mean_absolute_percentage_error(y_test, pred_ts),\n",
    "    #'MSE': mean_squared_error(y_test, pred_ts),\n",
    "    #'RMSE': np.sqrt(mean_squared_error(y_test, pred_ts)),\n",
    "}\n",
    "\n",
    "pprint(test_metrics)"
   ]
  },
  {
   "cell_type": "code",
   "execution_count": 23,
   "metadata": {},
   "outputs": [
    {
     "data": {
      "text/html": [
       "<div>\n",
       "<style scoped>\n",
       "    .dataframe tbody tr th:only-of-type {\n",
       "        vertical-align: middle;\n",
       "    }\n",
       "\n",
       "    .dataframe tbody tr th {\n",
       "        vertical-align: top;\n",
       "    }\n",
       "\n",
       "    .dataframe thead th {\n",
       "        text-align: right;\n",
       "    }\n",
       "</style>\n",
       "<table border=\"1\" class=\"dataframe\">\n",
       "  <thead>\n",
       "    <tr style=\"text-align: right;\">\n",
       "      <th></th>\n",
       "      <th>MAE</th>\n",
       "      <th>MAPE</th>\n",
       "    </tr>\n",
       "  </thead>\n",
       "  <tbody>\n",
       "    <tr>\n",
       "      <th>train</th>\n",
       "      <td>7362.089540</td>\n",
       "      <td>0.236076</td>\n",
       "    </tr>\n",
       "    <tr>\n",
       "      <th>test</th>\n",
       "      <td>8165.048532</td>\n",
       "      <td>0.191013</td>\n",
       "    </tr>\n",
       "  </tbody>\n",
       "</table>\n",
       "</div>"
      ],
      "text/plain": [
       "               MAE      MAPE\n",
       "train  7362.089540  0.236076\n",
       "test   8165.048532  0.191013"
      ]
     },
     "metadata": {},
     "output_type": "display_data"
    }
   ],
   "source": [
    "df_metrics_lr = pd.DataFrame([\n",
    "    train_metrics,\n",
    "    test_metrics,\n",
    "], index=['train', 'test'])\n",
    "\n",
    "display(df_metrics_lr)"
   ]
  },
  {
   "cell_type": "code",
   "execution_count": 24,
   "metadata": {},
   "outputs": [
    {
     "data": {
      "text/html": [
       "<div>\n",
       "<style scoped>\n",
       "    .dataframe tbody tr th:only-of-type {\n",
       "        vertical-align: middle;\n",
       "    }\n",
       "\n",
       "    .dataframe tbody tr th {\n",
       "        vertical-align: top;\n",
       "    }\n",
       "\n",
       "    .dataframe thead th {\n",
       "        text-align: right;\n",
       "    }\n",
       "</style>\n",
       "<table border=\"1\" class=\"dataframe\">\n",
       "  <thead>\n",
       "    <tr style=\"text-align: right;\">\n",
       "      <th></th>\n",
       "      <th>train</th>\n",
       "      <th>test</th>\n",
       "    </tr>\n",
       "  </thead>\n",
       "  <tbody>\n",
       "    <tr>\n",
       "      <th>MAE</th>\n",
       "      <td>7362.089540</td>\n",
       "      <td>8165.048532</td>\n",
       "    </tr>\n",
       "    <tr>\n",
       "      <th>MAPE</th>\n",
       "      <td>0.236076</td>\n",
       "      <td>0.191013</td>\n",
       "    </tr>\n",
       "  </tbody>\n",
       "</table>\n",
       "</div>"
      ],
      "text/plain": [
       "            train         test\n",
       "MAE   7362.089540  8165.048532\n",
       "MAPE     0.236076     0.191013"
      ]
     },
     "metadata": {},
     "output_type": "display_data"
    }
   ],
   "source": [
    "df_metrics_lr = df_metrics_lr.T\n",
    "display(df_metrics_lr)"
   ]
  },
  {
   "cell_type": "code",
   "execution_count": null,
   "metadata": {},
   "outputs": [],
   "source": []
  },
  {
   "cell_type": "markdown",
   "metadata": {},
   "source": [
    "Creación del modelo `RandomForestRegressor` con hypertuning (usando grid search)"
   ]
  },
  {
   "cell_type": "code",
   "execution_count": 25,
   "metadata": {},
   "outputs": [],
   "source": [
    "from sklearn.model_selection import GridSearchCV\n",
    "from sklearn.ensemble import RandomForestRegressor"
   ]
  },
  {
   "cell_type": "code",
   "execution_count": 26,
   "metadata": {},
   "outputs": [],
   "source": [
    "rf_model = RandomForestRegressor()"
   ]
  },
  {
   "cell_type": "code",
   "execution_count": 27,
   "metadata": {},
   "outputs": [],
   "source": [
    "param_grid = {\n",
    "    'n_estimators': [10, 20, 100, 500, 5000],\n",
    "    'max_features': [50, 100],\n",
    "    # 'bootstrap': [False, True],\n",
    "    # 'max_depth': [50, 500],\n",
    "    # 'min_samples_leaf': [3, 50],\n",
    "    # 'min_samples_split': [10, 50],\n",
    "}"
   ]
  },
  {
   "cell_type": "code",
   "execution_count": 28,
   "metadata": {},
   "outputs": [],
   "source": [
    "rf_grid = GridSearchCV(\n",
    "    estimator=rf_model,\n",
    "    param_grid=param_grid,\n",
    "    scoring='neg_mean_absolute_error',\n",
    "    cv=5, \n",
    "    verbose=1\n",
    ")"
   ]
  },
  {
   "cell_type": "code",
   "execution_count": 29,
   "metadata": {},
   "outputs": [
    {
     "name": "stdout",
     "output_type": "stream",
     "text": [
      "Fitting 5 folds for each of 10 candidates, totalling 50 fits\n",
      "CPU times: user 3min 34s, sys: 2.33 s, total: 3min 36s\n",
      "Wall time: 3min 38s\n"
     ]
    },
    {
     "data": {
      "text/html": [
       "<style>#sk-container-id-2 {color: black;background-color: white;}#sk-container-id-2 pre{padding: 0;}#sk-container-id-2 div.sk-toggleable {background-color: white;}#sk-container-id-2 label.sk-toggleable__label {cursor: pointer;display: block;width: 100%;margin-bottom: 0;padding: 0.3em;box-sizing: border-box;text-align: center;}#sk-container-id-2 label.sk-toggleable__label-arrow:before {content: \"▸\";float: left;margin-right: 0.25em;color: #696969;}#sk-container-id-2 label.sk-toggleable__label-arrow:hover:before {color: black;}#sk-container-id-2 div.sk-estimator:hover label.sk-toggleable__label-arrow:before {color: black;}#sk-container-id-2 div.sk-toggleable__content {max-height: 0;max-width: 0;overflow: hidden;text-align: left;background-color: #f0f8ff;}#sk-container-id-2 div.sk-toggleable__content pre {margin: 0.2em;color: black;border-radius: 0.25em;background-color: #f0f8ff;}#sk-container-id-2 input.sk-toggleable__control:checked~div.sk-toggleable__content {max-height: 200px;max-width: 100%;overflow: auto;}#sk-container-id-2 input.sk-toggleable__control:checked~label.sk-toggleable__label-arrow:before {content: \"▾\";}#sk-container-id-2 div.sk-estimator input.sk-toggleable__control:checked~label.sk-toggleable__label {background-color: #d4ebff;}#sk-container-id-2 div.sk-label input.sk-toggleable__control:checked~label.sk-toggleable__label {background-color: #d4ebff;}#sk-container-id-2 input.sk-hidden--visually {border: 0;clip: rect(1px 1px 1px 1px);clip: rect(1px, 1px, 1px, 1px);height: 1px;margin: -1px;overflow: hidden;padding: 0;position: absolute;width: 1px;}#sk-container-id-2 div.sk-estimator {font-family: monospace;background-color: #f0f8ff;border: 1px dotted black;border-radius: 0.25em;box-sizing: border-box;margin-bottom: 0.5em;}#sk-container-id-2 div.sk-estimator:hover {background-color: #d4ebff;}#sk-container-id-2 div.sk-parallel-item::after {content: \"\";width: 100%;border-bottom: 1px solid gray;flex-grow: 1;}#sk-container-id-2 div.sk-label:hover label.sk-toggleable__label {background-color: #d4ebff;}#sk-container-id-2 div.sk-serial::before {content: \"\";position: absolute;border-left: 1px solid gray;box-sizing: border-box;top: 0;bottom: 0;left: 50%;z-index: 0;}#sk-container-id-2 div.sk-serial {display: flex;flex-direction: column;align-items: center;background-color: white;padding-right: 0.2em;padding-left: 0.2em;position: relative;}#sk-container-id-2 div.sk-item {position: relative;z-index: 1;}#sk-container-id-2 div.sk-parallel {display: flex;align-items: stretch;justify-content: center;background-color: white;position: relative;}#sk-container-id-2 div.sk-item::before, #sk-container-id-2 div.sk-parallel-item::before {content: \"\";position: absolute;border-left: 1px solid gray;box-sizing: border-box;top: 0;bottom: 0;left: 50%;z-index: -1;}#sk-container-id-2 div.sk-parallel-item {display: flex;flex-direction: column;z-index: 1;position: relative;background-color: white;}#sk-container-id-2 div.sk-parallel-item:first-child::after {align-self: flex-end;width: 50%;}#sk-container-id-2 div.sk-parallel-item:last-child::after {align-self: flex-start;width: 50%;}#sk-container-id-2 div.sk-parallel-item:only-child::after {width: 0;}#sk-container-id-2 div.sk-dashed-wrapped {border: 1px dashed gray;margin: 0 0.4em 0.5em 0.4em;box-sizing: border-box;padding-bottom: 0.4em;background-color: white;}#sk-container-id-2 div.sk-label label {font-family: monospace;font-weight: bold;display: inline-block;line-height: 1.2em;}#sk-container-id-2 div.sk-label-container {text-align: center;}#sk-container-id-2 div.sk-container {/* jupyter's `normalize.less` sets `[hidden] { display: none; }` but bootstrap.min.css set `[hidden] { display: none !important; }` so we also need the `!important` here to be able to override the default hidden behavior on the sphinx rendered scikit-learn.org. See: https://github.com/scikit-learn/scikit-learn/issues/21755 */display: inline-block !important;position: relative;}#sk-container-id-2 div.sk-text-repr-fallback {display: none;}</style><div id=\"sk-container-id-2\" class=\"sk-top-container\"><div class=\"sk-text-repr-fallback\"><pre>GridSearchCV(cv=5, estimator=RandomForestRegressor(),\n",
       "             param_grid={&#x27;max_features&#x27;: [50, 100],\n",
       "                         &#x27;n_estimators&#x27;: [10, 20, 100, 500, 5000]},\n",
       "             scoring=&#x27;neg_mean_absolute_error&#x27;, verbose=1)</pre><b>In a Jupyter environment, please rerun this cell to show the HTML representation or trust the notebook. <br />On GitHub, the HTML representation is unable to render, please try loading this page with nbviewer.org.</b></div><div class=\"sk-container\" hidden><div class=\"sk-item sk-dashed-wrapped\"><div class=\"sk-label-container\"><div class=\"sk-label sk-toggleable\"><input class=\"sk-toggleable__control sk-hidden--visually\" id=\"sk-estimator-id-2\" type=\"checkbox\" ><label for=\"sk-estimator-id-2\" class=\"sk-toggleable__label sk-toggleable__label-arrow\">GridSearchCV</label><div class=\"sk-toggleable__content\"><pre>GridSearchCV(cv=5, estimator=RandomForestRegressor(),\n",
       "             param_grid={&#x27;max_features&#x27;: [50, 100],\n",
       "                         &#x27;n_estimators&#x27;: [10, 20, 100, 500, 5000]},\n",
       "             scoring=&#x27;neg_mean_absolute_error&#x27;, verbose=1)</pre></div></div></div><div class=\"sk-parallel\"><div class=\"sk-parallel-item\"><div class=\"sk-item\"><div class=\"sk-label-container\"><div class=\"sk-label sk-toggleable\"><input class=\"sk-toggleable__control sk-hidden--visually\" id=\"sk-estimator-id-3\" type=\"checkbox\" ><label for=\"sk-estimator-id-3\" class=\"sk-toggleable__label sk-toggleable__label-arrow\">estimator: RandomForestRegressor</label><div class=\"sk-toggleable__content\"><pre>RandomForestRegressor()</pre></div></div></div><div class=\"sk-serial\"><div class=\"sk-item\"><div class=\"sk-estimator sk-toggleable\"><input class=\"sk-toggleable__control sk-hidden--visually\" id=\"sk-estimator-id-4\" type=\"checkbox\" ><label for=\"sk-estimator-id-4\" class=\"sk-toggleable__label sk-toggleable__label-arrow\">RandomForestRegressor</label><div class=\"sk-toggleable__content\"><pre>RandomForestRegressor()</pre></div></div></div></div></div></div></div></div></div></div>"
      ],
      "text/plain": [
       "GridSearchCV(cv=5, estimator=RandomForestRegressor(),\n",
       "             param_grid={'max_features': [50, 100],\n",
       "                         'n_estimators': [10, 20, 100, 500, 5000]},\n",
       "             scoring='neg_mean_absolute_error', verbose=1)"
      ]
     },
     "execution_count": 29,
     "metadata": {},
     "output_type": "execute_result"
    }
   ],
   "source": [
    "%%time\n",
    "\n",
    "rf_grid.fit(x_train, y_train)"
   ]
  },
  {
   "cell_type": "code",
   "execution_count": 30,
   "metadata": {},
   "outputs": [
    {
     "data": {
      "text/html": [
       "<style>#sk-container-id-3 {color: black;background-color: white;}#sk-container-id-3 pre{padding: 0;}#sk-container-id-3 div.sk-toggleable {background-color: white;}#sk-container-id-3 label.sk-toggleable__label {cursor: pointer;display: block;width: 100%;margin-bottom: 0;padding: 0.3em;box-sizing: border-box;text-align: center;}#sk-container-id-3 label.sk-toggleable__label-arrow:before {content: \"▸\";float: left;margin-right: 0.25em;color: #696969;}#sk-container-id-3 label.sk-toggleable__label-arrow:hover:before {color: black;}#sk-container-id-3 div.sk-estimator:hover label.sk-toggleable__label-arrow:before {color: black;}#sk-container-id-3 div.sk-toggleable__content {max-height: 0;max-width: 0;overflow: hidden;text-align: left;background-color: #f0f8ff;}#sk-container-id-3 div.sk-toggleable__content pre {margin: 0.2em;color: black;border-radius: 0.25em;background-color: #f0f8ff;}#sk-container-id-3 input.sk-toggleable__control:checked~div.sk-toggleable__content {max-height: 200px;max-width: 100%;overflow: auto;}#sk-container-id-3 input.sk-toggleable__control:checked~label.sk-toggleable__label-arrow:before {content: \"▾\";}#sk-container-id-3 div.sk-estimator input.sk-toggleable__control:checked~label.sk-toggleable__label {background-color: #d4ebff;}#sk-container-id-3 div.sk-label input.sk-toggleable__control:checked~label.sk-toggleable__label {background-color: #d4ebff;}#sk-container-id-3 input.sk-hidden--visually {border: 0;clip: rect(1px 1px 1px 1px);clip: rect(1px, 1px, 1px, 1px);height: 1px;margin: -1px;overflow: hidden;padding: 0;position: absolute;width: 1px;}#sk-container-id-3 div.sk-estimator {font-family: monospace;background-color: #f0f8ff;border: 1px dotted black;border-radius: 0.25em;box-sizing: border-box;margin-bottom: 0.5em;}#sk-container-id-3 div.sk-estimator:hover {background-color: #d4ebff;}#sk-container-id-3 div.sk-parallel-item::after {content: \"\";width: 100%;border-bottom: 1px solid gray;flex-grow: 1;}#sk-container-id-3 div.sk-label:hover label.sk-toggleable__label {background-color: #d4ebff;}#sk-container-id-3 div.sk-serial::before {content: \"\";position: absolute;border-left: 1px solid gray;box-sizing: border-box;top: 0;bottom: 0;left: 50%;z-index: 0;}#sk-container-id-3 div.sk-serial {display: flex;flex-direction: column;align-items: center;background-color: white;padding-right: 0.2em;padding-left: 0.2em;position: relative;}#sk-container-id-3 div.sk-item {position: relative;z-index: 1;}#sk-container-id-3 div.sk-parallel {display: flex;align-items: stretch;justify-content: center;background-color: white;position: relative;}#sk-container-id-3 div.sk-item::before, #sk-container-id-3 div.sk-parallel-item::before {content: \"\";position: absolute;border-left: 1px solid gray;box-sizing: border-box;top: 0;bottom: 0;left: 50%;z-index: -1;}#sk-container-id-3 div.sk-parallel-item {display: flex;flex-direction: column;z-index: 1;position: relative;background-color: white;}#sk-container-id-3 div.sk-parallel-item:first-child::after {align-self: flex-end;width: 50%;}#sk-container-id-3 div.sk-parallel-item:last-child::after {align-self: flex-start;width: 50%;}#sk-container-id-3 div.sk-parallel-item:only-child::after {width: 0;}#sk-container-id-3 div.sk-dashed-wrapped {border: 1px dashed gray;margin: 0 0.4em 0.5em 0.4em;box-sizing: border-box;padding-bottom: 0.4em;background-color: white;}#sk-container-id-3 div.sk-label label {font-family: monospace;font-weight: bold;display: inline-block;line-height: 1.2em;}#sk-container-id-3 div.sk-label-container {text-align: center;}#sk-container-id-3 div.sk-container {/* jupyter's `normalize.less` sets `[hidden] { display: none; }` but bootstrap.min.css set `[hidden] { display: none !important; }` so we also need the `!important` here to be able to override the default hidden behavior on the sphinx rendered scikit-learn.org. See: https://github.com/scikit-learn/scikit-learn/issues/21755 */display: inline-block !important;position: relative;}#sk-container-id-3 div.sk-text-repr-fallback {display: none;}</style><div id=\"sk-container-id-3\" class=\"sk-top-container\"><div class=\"sk-text-repr-fallback\"><pre>GridSearchCV(cv=5, estimator=RandomForestRegressor(),\n",
       "             param_grid={&#x27;max_features&#x27;: [50, 100],\n",
       "                         &#x27;n_estimators&#x27;: [10, 20, 100, 500, 5000]},\n",
       "             scoring=&#x27;neg_mean_absolute_error&#x27;, verbose=1)</pre><b>In a Jupyter environment, please rerun this cell to show the HTML representation or trust the notebook. <br />On GitHub, the HTML representation is unable to render, please try loading this page with nbviewer.org.</b></div><div class=\"sk-container\" hidden><div class=\"sk-item sk-dashed-wrapped\"><div class=\"sk-label-container\"><div class=\"sk-label sk-toggleable\"><input class=\"sk-toggleable__control sk-hidden--visually\" id=\"sk-estimator-id-5\" type=\"checkbox\" ><label for=\"sk-estimator-id-5\" class=\"sk-toggleable__label sk-toggleable__label-arrow\">GridSearchCV</label><div class=\"sk-toggleable__content\"><pre>GridSearchCV(cv=5, estimator=RandomForestRegressor(),\n",
       "             param_grid={&#x27;max_features&#x27;: [50, 100],\n",
       "                         &#x27;n_estimators&#x27;: [10, 20, 100, 500, 5000]},\n",
       "             scoring=&#x27;neg_mean_absolute_error&#x27;, verbose=1)</pre></div></div></div><div class=\"sk-parallel\"><div class=\"sk-parallel-item\"><div class=\"sk-item\"><div class=\"sk-label-container\"><div class=\"sk-label sk-toggleable\"><input class=\"sk-toggleable__control sk-hidden--visually\" id=\"sk-estimator-id-6\" type=\"checkbox\" ><label for=\"sk-estimator-id-6\" class=\"sk-toggleable__label sk-toggleable__label-arrow\">estimator: RandomForestRegressor</label><div class=\"sk-toggleable__content\"><pre>RandomForestRegressor()</pre></div></div></div><div class=\"sk-serial\"><div class=\"sk-item\"><div class=\"sk-estimator sk-toggleable\"><input class=\"sk-toggleable__control sk-hidden--visually\" id=\"sk-estimator-id-7\" type=\"checkbox\" ><label for=\"sk-estimator-id-7\" class=\"sk-toggleable__label sk-toggleable__label-arrow\">RandomForestRegressor</label><div class=\"sk-toggleable__content\"><pre>RandomForestRegressor()</pre></div></div></div></div></div></div></div></div></div></div>"
      ],
      "text/plain": [
       "GridSearchCV(cv=5, estimator=RandomForestRegressor(),\n",
       "             param_grid={'max_features': [50, 100],\n",
       "                         'n_estimators': [10, 20, 100, 500, 5000]},\n",
       "             scoring='neg_mean_absolute_error', verbose=1)"
      ]
     },
     "execution_count": 30,
     "metadata": {},
     "output_type": "execute_result"
    }
   ],
   "source": [
    "rf_grid"
   ]
  },
  {
   "cell_type": "code",
   "execution_count": 31,
   "metadata": {},
   "outputs": [
    {
     "data": {
      "text/html": [
       "<style>#sk-container-id-4 {color: black;background-color: white;}#sk-container-id-4 pre{padding: 0;}#sk-container-id-4 div.sk-toggleable {background-color: white;}#sk-container-id-4 label.sk-toggleable__label {cursor: pointer;display: block;width: 100%;margin-bottom: 0;padding: 0.3em;box-sizing: border-box;text-align: center;}#sk-container-id-4 label.sk-toggleable__label-arrow:before {content: \"▸\";float: left;margin-right: 0.25em;color: #696969;}#sk-container-id-4 label.sk-toggleable__label-arrow:hover:before {color: black;}#sk-container-id-4 div.sk-estimator:hover label.sk-toggleable__label-arrow:before {color: black;}#sk-container-id-4 div.sk-toggleable__content {max-height: 0;max-width: 0;overflow: hidden;text-align: left;background-color: #f0f8ff;}#sk-container-id-4 div.sk-toggleable__content pre {margin: 0.2em;color: black;border-radius: 0.25em;background-color: #f0f8ff;}#sk-container-id-4 input.sk-toggleable__control:checked~div.sk-toggleable__content {max-height: 200px;max-width: 100%;overflow: auto;}#sk-container-id-4 input.sk-toggleable__control:checked~label.sk-toggleable__label-arrow:before {content: \"▾\";}#sk-container-id-4 div.sk-estimator input.sk-toggleable__control:checked~label.sk-toggleable__label {background-color: #d4ebff;}#sk-container-id-4 div.sk-label input.sk-toggleable__control:checked~label.sk-toggleable__label {background-color: #d4ebff;}#sk-container-id-4 input.sk-hidden--visually {border: 0;clip: rect(1px 1px 1px 1px);clip: rect(1px, 1px, 1px, 1px);height: 1px;margin: -1px;overflow: hidden;padding: 0;position: absolute;width: 1px;}#sk-container-id-4 div.sk-estimator {font-family: monospace;background-color: #f0f8ff;border: 1px dotted black;border-radius: 0.25em;box-sizing: border-box;margin-bottom: 0.5em;}#sk-container-id-4 div.sk-estimator:hover {background-color: #d4ebff;}#sk-container-id-4 div.sk-parallel-item::after {content: \"\";width: 100%;border-bottom: 1px solid gray;flex-grow: 1;}#sk-container-id-4 div.sk-label:hover label.sk-toggleable__label {background-color: #d4ebff;}#sk-container-id-4 div.sk-serial::before {content: \"\";position: absolute;border-left: 1px solid gray;box-sizing: border-box;top: 0;bottom: 0;left: 50%;z-index: 0;}#sk-container-id-4 div.sk-serial {display: flex;flex-direction: column;align-items: center;background-color: white;padding-right: 0.2em;padding-left: 0.2em;position: relative;}#sk-container-id-4 div.sk-item {position: relative;z-index: 1;}#sk-container-id-4 div.sk-parallel {display: flex;align-items: stretch;justify-content: center;background-color: white;position: relative;}#sk-container-id-4 div.sk-item::before, #sk-container-id-4 div.sk-parallel-item::before {content: \"\";position: absolute;border-left: 1px solid gray;box-sizing: border-box;top: 0;bottom: 0;left: 50%;z-index: -1;}#sk-container-id-4 div.sk-parallel-item {display: flex;flex-direction: column;z-index: 1;position: relative;background-color: white;}#sk-container-id-4 div.sk-parallel-item:first-child::after {align-self: flex-end;width: 50%;}#sk-container-id-4 div.sk-parallel-item:last-child::after {align-self: flex-start;width: 50%;}#sk-container-id-4 div.sk-parallel-item:only-child::after {width: 0;}#sk-container-id-4 div.sk-dashed-wrapped {border: 1px dashed gray;margin: 0 0.4em 0.5em 0.4em;box-sizing: border-box;padding-bottom: 0.4em;background-color: white;}#sk-container-id-4 div.sk-label label {font-family: monospace;font-weight: bold;display: inline-block;line-height: 1.2em;}#sk-container-id-4 div.sk-label-container {text-align: center;}#sk-container-id-4 div.sk-container {/* jupyter's `normalize.less` sets `[hidden] { display: none; }` but bootstrap.min.css set `[hidden] { display: none !important; }` so we also need the `!important` here to be able to override the default hidden behavior on the sphinx rendered scikit-learn.org. See: https://github.com/scikit-learn/scikit-learn/issues/21755 */display: inline-block !important;position: relative;}#sk-container-id-4 div.sk-text-repr-fallback {display: none;}</style><div id=\"sk-container-id-4\" class=\"sk-top-container\"><div class=\"sk-text-repr-fallback\"><pre>RandomForestRegressor(max_features=100, n_estimators=500)</pre><b>In a Jupyter environment, please rerun this cell to show the HTML representation or trust the notebook. <br />On GitHub, the HTML representation is unable to render, please try loading this page with nbviewer.org.</b></div><div class=\"sk-container\" hidden><div class=\"sk-item\"><div class=\"sk-estimator sk-toggleable\"><input class=\"sk-toggleable__control sk-hidden--visually\" id=\"sk-estimator-id-8\" type=\"checkbox\" checked><label for=\"sk-estimator-id-8\" class=\"sk-toggleable__label sk-toggleable__label-arrow\">RandomForestRegressor</label><div class=\"sk-toggleable__content\"><pre>RandomForestRegressor(max_features=100, n_estimators=500)</pre></div></div></div></div></div>"
      ],
      "text/plain": [
       "RandomForestRegressor(max_features=100, n_estimators=500)"
      ]
     },
     "execution_count": 31,
     "metadata": {},
     "output_type": "execute_result"
    }
   ],
   "source": [
    "rf_grid.best_estimator_"
   ]
  },
  {
   "cell_type": "code",
   "execution_count": 32,
   "metadata": {},
   "outputs": [],
   "source": [
    "# En training\n",
    "pred_tr = rf_grid.predict(x_train)"
   ]
  },
  {
   "cell_type": "code",
   "execution_count": 33,
   "metadata": {},
   "outputs": [],
   "source": [
    "# En testing\n",
    "pred_ts = rf_grid.predict(x_test)"
   ]
  },
  {
   "cell_type": "code",
   "execution_count": 34,
   "metadata": {},
   "outputs": [
    {
     "data": {
      "text/plain": [
       "array([69008.004, 59407.59 , 79637.478, ..., 50728.78 , 64484.624,\n",
       "       59004.778])"
      ]
     },
     "execution_count": 34,
     "metadata": {},
     "output_type": "execute_result"
    }
   ],
   "source": [
    "pred_tr"
   ]
  },
  {
   "cell_type": "code",
   "execution_count": 35,
   "metadata": {},
   "outputs": [
    {
     "data": {
      "text/plain": [
       "array([ 28274.75 ,  72150.994,  38529.258,  53004.964,  78807.526,\n",
       "        68170.986,  37403.312,  48410.948,  30989.814,  43293.736,\n",
       "        50878.656,  78089.304,  64266.094,  30375.198,  69894.18 ,\n",
       "        69755.904,  55981.952,  36100.426,  65762.214,  59285.89 ,\n",
       "        54818.47 ,  57366.578,  49768.788,  60389.176,  48966.474,\n",
       "        25375.258,  31257.952,  31378.076,  48435.076,  31925.416,\n",
       "        41060.748,  56082.392,  61470.066,  49654.128,  49556.002,\n",
       "        42861.802,  49106.48 ,  59642.034,  34227.79 ,  32630.068,\n",
       "        73361.504,  21408.968,  50853.914,  44560.49 ,  37177.858,\n",
       "        29231.088,  53143.028,  19996.068,  27125.04 ,  24080.84 ,\n",
       "        22254.8  ,  54790.34 ,  52709.656,  77962.464,  29870.562,\n",
       "        35925.084,  65132.02 ,  39031.49 ,  33416.714,  53127.222,\n",
       "        67186.746,  39086.538,  81860.426,  34194.888,  66765.434,\n",
       "        54366.376,  31716.064,  44220.256,  63107.554,  88889.766,\n",
       "        57965.406,  57446.348,  78089.304,  58989.988,  33709.322,\n",
       "        44534.244,  76621.008,  74236.73 ,  29205.054,  64439.898,\n",
       "        49841.248,  36449.768,  65162.224,  38775.444,  65336.562,\n",
       "        59952.356,  32010.652,  74405.174,  36711.604,  51067.224,\n",
       "        47735.502,  46772.878,  76506.784,  53193.404,  19498.5  ,\n",
       "        57925.62 ,  56384.892,  50964.024,  26660.034,  57908.66 ,\n",
       "        67311.884,  84219.604,  34332.94 ,  40158.58 ,  50312.952,\n",
       "        48596.428,  35557.856,  38429.008,  58217.562,  77280.744,\n",
       "        23951.608,  64648.164,  67298.344,  38351.494,  73876.078,\n",
       "        64016.046,  57506.31 ,  38721.86 ,  74912.456,  72464.958,\n",
       "        45516.826,  30916.862,  67934.316,  36858.958,  59442.358,\n",
       "        32806.062,  35062.656,  61454.538,  71892.576,  39772.074,\n",
       "        70014.902,  27650.336,  54205.834,  67936.116,  63289.57 ,\n",
       "        44186.33 ,  83802.478,  44718.416,  83715.744,  50878.244,\n",
       "        57408.45 ,  70875.77 ,  57384.77 ,  78671.342,  51669.97 ,\n",
       "        48984.532,  37083.672,  78152.8  ,  38523.036,  36454.044,\n",
       "        52060.092,  44207.092,  50550.464,  45869.646,  82473.752,\n",
       "        82473.752,  18113.   ,  28284.41 ,  61960.386,  79115.744,\n",
       "        70218.68 ,  28475.136,  79495.904,  67148.774,  53744.018,\n",
       "        61630.496,  86186.508,  53014.948,  32733.364,  23590.038,\n",
       "        36347.658,  64989.01 ,  37858.99 ,  44913.372,  19481.42 ,\n",
       "        66440.452,  48523.954,  88070.902,  79270.282,  27727.864,\n",
       "        29133.826,  40920.49 ,  39774.602,  53425.372,  70744.178,\n",
       "        26916.142,  34625.636,  70187.128,  57710.142,  55044.664,\n",
       "        79642.428,  65805.656,  76183.478,  57130.106,  27833.302,\n",
       "        84124.9  ,  48555.964,  68858.49 ,  19410.28 ,  63636.356,\n",
       "        64648.164,  21900.038,  56559.608,  32732.176,  35140.54 ,\n",
       "        25212.214,  30677.988,  32763.126,  59017.058,  46759.584,\n",
       "        73331.322,  65032.404,  65459.312,  40918.792,  32538.81 ,\n",
       "        61666.062,  75440.018,  47893.898,  42594.004,  55429.634,\n",
       "        41065.972,  56332.984,  76163.422,  60616.474,  35250.986,\n",
       "        51596.594,  58617.292,  53153.566,  17075.872,  77471.088,\n",
       "        43156.648,  27241.686,  13329.882,  30066.084,  55939.04 ,\n",
       "        21597.728,  67285.188,  61881.548,  70337.336,  19352.324,\n",
       "        63912.856,  47527.352,  79701.61 ,  40310.946,  75403.058,\n",
       "        73185.62 ,  46328.444,  49759.532,  17018.074,  40137.344,\n",
       "        86464.638,  69781.436,  74018.396,  37050.98 ,  37266.054,\n",
       "        67148.774,  71799.94 ,  33682.058,  51069.334,  51304.278,\n",
       "        23410.852,  71574.692,  23833.68 ,  63726.024,  61848.11 ,\n",
       "        44400.354,  29068.284,  35226.432,  67272.794,  24418.3  ,\n",
       "        76923.858,  61992.522,  15785.954,  69041.16 ,  52772.976,\n",
       "        55948.678,  65016.258,  73571.182,  27473.914,  17847.532,\n",
       "        78129.176,  54818.47 ,  30641.026,  75735.112,  45766.088,\n",
       "        34967.516,  77157.462,  31703.826,  72448.084,  83249.418,\n",
       "        29130.972,  54676.032,  52787.77 ,  72116.736,  28934.188,\n",
       "        62282.16 ,  60249.964,  55372.664,  37716.874,  63059.628,\n",
       "        49148.632,  65360.554,  30217.108,  32569.096,  38184.31 ,\n",
       "        29096.218,  36722.438,  52063.2  ,  49818.432,  29394.318,\n",
       "        70197.522,  17721.856,  26518.752,  83394.68 ,  46788.77 ,\n",
       "        56968.422,  75709.486,  46744.388,  37754.784,  55044.664,\n",
       "        76469.782,  33735.044,  32128.374,  54749.808,  41218.794,\n",
       "        20850.768,  35975.096,  71795.292,  55141.156,  79486.972,\n",
       "        81319.072,  59037.468,  59801.526,  29210.272,  39458.668,\n",
       "        80393.762,  29884.55 ,  26921.67 ,  49644.336,  35488.398,\n",
       "        61252.748,  59327.9  ,  49224.496,  83218.584,  40450.43 ,\n",
       "        39972.946,  31015.3  ,  28776.044,  36461.27 ,  38289.732,\n",
       "        78994.546,  38059.42 ,  69649.68 ,  44598.166,  60866.276,\n",
       "        74912.456,  61381.628,  43797.16 ,  70559.05 ,  29326.836,\n",
       "        35477.304,  72851.05 ,  50902.844,  44953.44 ,  18763.226,\n",
       "        48192.556,  55294.056,  33570.61 ,  65677.36 ,  77425.044,\n",
       "        31799.072,  67894.556,  82554.452,  36082.402,  42198.032,\n",
       "        76224.166,  54918.732,  73684.862,  49654.128,  26623.55 ,\n",
       "        25660.894,  36974.358,  35355.424,  54140.868,  27628.044,\n",
       "        31114.19 ,  83689.022,  41923.476,  74001.262,  47258.124,\n",
       "        48794.16 ,  25668.234,  42284.988,  27886.118,  82765.794,\n",
       "        20759.404,  31479.306,  33203.248, 135993.032,  35684.898,\n",
       "        83252.894,  34403.17 ,  40137.344,  36576.496,  34787.808,\n",
       "        29281.14 ,  64898.586,  74795.62 ,  37000.754,  31949.46 ,\n",
       "        67982.202,  57480.274,  71374.49 ,  57201.242,  58606.642,\n",
       "        80683.048,  53005.108,  60012.782,  82177.784,  85350.266,\n",
       "        76467.598,  38374.774,  34157.216,  62869.222,  49716.89 ,\n",
       "        33337.652,  27650.336,  47986.528,  51754.606,  40293.172,\n",
       "        83444.472,  70623.51 ,  72812.7  ,  47851.636,  44928.698,\n",
       "        45436.43 ,  74243.13 ,  54296.014,  26127.278,  76111.266,\n",
       "        54945.54 ,  30894.87 ,  47151.55 ,  30991.434,  71717.31 ,\n",
       "        65749.398,  53889.272,  43185.428,  37457.486,  31820.738,\n",
       "        25808.97 ,  35574.872,  85188.484,  33812.818,  63916.816,\n",
       "        32563.078,  82199.492,  30852.21 ,  85943.492,  37176.394,\n",
       "        58827.074,  36175.28 ,  63801.552,  76183.478,  73855.828,\n",
       "        22959.698,  42389.004,  48867.24 ,  27486.276,  23485.116,\n",
       "        21814.486,  15071.232,  65378.534,  50667.212,  86111.764,\n",
       "        32970.1  ,  85608.352,  58847.694,  19742.614,  55166.888,\n",
       "        79787.782,  31035.392,  74161.65 ,  29205.054,  35925.084,\n",
       "        64130.872,  81613.982,  67211.42 ,  29201.668,  78266.99 ,\n",
       "        40426.964,  58574.574,  70284.574,  53768.334,  70697.17 ,\n",
       "        74391.282,  34530.492,  87532.85 ,  43248.252,  27695.79 ,\n",
       "        80618.418,  20916.318,  66955.832,  72923.884,  31996.478,\n",
       "        25865.326,  55544.532,  27532.16 ,  52837.41 ,  35331.364,\n",
       "        70756.222,  48746.926,  29460.862,  47508.722,  58160.458,\n",
       "        66815.39 ,  77608.882,  23145.276,  40656.68 ,  73127.154,\n",
       "        56668.834,  30779.76 ,  55763.988,  78241.424,  35095.242,\n",
       "        50795.398,  29143.546,  27376.026,  45365.22 ,  73943.982,\n",
       "        69162.14 ,  25645.812,  18779.124,  56695.846,  70813.798,\n",
       "        89372.31 ,  63151.748,  45353.524,  42083.382,  73073.734,\n",
       "        34058.198,  42684.104,  77852.744,  37295.206,  71678.708,\n",
       "        85758.132,  59473.452,  21958.356,  53865.046,  54803.92 ,\n",
       "        72242.076,  33197.606,  33682.554,  64738.508,  47257.724,\n",
       "        78777.192,  46963.536,  43052.262,  30702.78 ,  35252.954,\n",
       "        38697.652,  43427.134,  66132.534,  40267.69 ,  52446.896,\n",
       "        79756.392,  63155.342,  33373.928,  42167.464,  37217.13 ,\n",
       "        75211.444,  29500.858,  31477.284,  46958.746,  73647.584,\n",
       "        43615.662,  66632.058,  60233.096,  60325.99 ,  66676.788,\n",
       "        75320.088,  36673.424,  35236.626,  74071.798,  31684.102,\n",
       "        67856.566,  33786.394,  36374.324,  60337.758,  31926.414,\n",
       "        68567.27 ,  41927.834,  69259.654,  45372.93 ,  24627.04 ,\n",
       "        19240.74 ,  24540.346,  78666.132,  57747.052,  30332.974,\n",
       "        70066.568,  83174.046,  80149.636,  73589.032,  55716.782,\n",
       "        89423.766,  62161.742,  47836.4  ,  61582.818,  32826.208,\n",
       "        27252.44 ,  73902.058,  64461.206,  33904.904,  58182.914,\n",
       "        62916.614,  47430.02 ,  35975.096,  28002.96 ,  25388.594,\n",
       "       131213.136,  78238.44 ,  87149.63 ,  46310.174,  27050.272,\n",
       "        23698.108,  75738.294,  70901.608,  51821.092,  78266.99 ,\n",
       "        22304.19 ,  31001.71 ,  34073.072,  35433.924,  64151.086,\n",
       "        37455.87 ,  15659.192,  88070.902,  59162.078,  38945.824,\n",
       "        80741.428,  49446.702,  39186.79 ,  49432.346,  76743.576,\n",
       "        19079.52 ,  29884.172,  74280.296,  30176.1  ,  66351.858,\n",
       "        26276.368,  81860.426,  30374.884,  68870.304,  29500.858,\n",
       "        62269.372,  22501.694,  73079.532,  49601.12 ,  32211.762])"
      ]
     },
     "execution_count": 35,
     "metadata": {},
     "output_type": "execute_result"
    }
   ],
   "source": [
    "pred_ts"
   ]
  },
  {
   "cell_type": "code",
   "execution_count": null,
   "metadata": {},
   "outputs": [],
   "source": []
  },
  {
   "cell_type": "markdown",
   "metadata": {},
   "source": [
    "Calculamos las metricas"
   ]
  },
  {
   "cell_type": "code",
   "execution_count": 38,
   "metadata": {},
   "outputs": [
    {
     "name": "stdout",
     "output_type": "stream",
     "text": [
      "{'MAE': 2328.682700910273, 'MAPE': 0.08345799308140699}\n"
     ]
    }
   ],
   "source": [
    "train_metrics = {\n",
    "    'MAE': mean_absolute_error(y_train, pred_tr),\n",
    "    'MAPE': mean_absolute_percentage_error(y_train, pred_tr),\n",
    "    #'MSE': mean_squared_error(y_train, pred_tr),\n",
    "    #'RMSE': np.sqrt(mean_squared_error(y_train, pred_tr)),\n",
    "}\n",
    "\n",
    "pprint(train_metrics)"
   ]
  },
  {
   "cell_type": "code",
   "execution_count": 39,
   "metadata": {},
   "outputs": [
    {
     "name": "stdout",
     "output_type": "stream",
     "text": [
      "{'MAE': 7163.789393939394, 'MAPE': 0.1824806962609339}\n"
     ]
    }
   ],
   "source": [
    "test_metrics = {\n",
    "    'MAE': mean_absolute_error(y_test, pred_ts),\n",
    "    'MAPE': mean_absolute_percentage_error(y_test, pred_ts),\n",
    "    #'MSE': mean_squared_error(y_test, pred_ts),\n",
    "    #'RMSE': np.sqrt(y_test(y_train, pred_ts)),\n",
    "}\n",
    "\n",
    "pprint(test_metrics)"
   ]
  },
  {
   "cell_type": "code",
   "execution_count": 40,
   "metadata": {},
   "outputs": [
    {
     "data": {
      "text/html": [
       "<div>\n",
       "<style scoped>\n",
       "    .dataframe tbody tr th:only-of-type {\n",
       "        vertical-align: middle;\n",
       "    }\n",
       "\n",
       "    .dataframe tbody tr th {\n",
       "        vertical-align: top;\n",
       "    }\n",
       "\n",
       "    .dataframe thead th {\n",
       "        text-align: right;\n",
       "    }\n",
       "</style>\n",
       "<table border=\"1\" class=\"dataframe\">\n",
       "  <thead>\n",
       "    <tr style=\"text-align: right;\">\n",
       "      <th></th>\n",
       "      <th>MAE</th>\n",
       "      <th>MAPE</th>\n",
       "    </tr>\n",
       "  </thead>\n",
       "  <tbody>\n",
       "    <tr>\n",
       "      <th>train</th>\n",
       "      <td>2328.682701</td>\n",
       "      <td>0.083458</td>\n",
       "    </tr>\n",
       "    <tr>\n",
       "      <th>test</th>\n",
       "      <td>7163.789394</td>\n",
       "      <td>0.182481</td>\n",
       "    </tr>\n",
       "  </tbody>\n",
       "</table>\n",
       "</div>"
      ],
      "text/plain": [
       "               MAE      MAPE\n",
       "train  2328.682701  0.083458\n",
       "test   7163.789394  0.182481"
      ]
     },
     "metadata": {},
     "output_type": "display_data"
    }
   ],
   "source": [
    "df_metrics_rf = pd.DataFrame([\n",
    "    train_metrics,\n",
    "    test_metrics,\n",
    "], index=['train', 'test'])\n",
    "\n",
    "display(df_metrics_rf)"
   ]
  },
  {
   "cell_type": "code",
   "execution_count": 41,
   "metadata": {},
   "outputs": [
    {
     "data": {
      "text/html": [
       "<div>\n",
       "<style scoped>\n",
       "    .dataframe tbody tr th:only-of-type {\n",
       "        vertical-align: middle;\n",
       "    }\n",
       "\n",
       "    .dataframe tbody tr th {\n",
       "        vertical-align: top;\n",
       "    }\n",
       "\n",
       "    .dataframe thead th {\n",
       "        text-align: right;\n",
       "    }\n",
       "</style>\n",
       "<table border=\"1\" class=\"dataframe\">\n",
       "  <thead>\n",
       "    <tr style=\"text-align: right;\">\n",
       "      <th></th>\n",
       "      <th>train</th>\n",
       "      <th>test</th>\n",
       "    </tr>\n",
       "  </thead>\n",
       "  <tbody>\n",
       "    <tr>\n",
       "      <th>MAE</th>\n",
       "      <td>2328.682701</td>\n",
       "      <td>7163.789394</td>\n",
       "    </tr>\n",
       "    <tr>\n",
       "      <th>MAPE</th>\n",
       "      <td>0.083458</td>\n",
       "      <td>0.182481</td>\n",
       "    </tr>\n",
       "  </tbody>\n",
       "</table>\n",
       "</div>"
      ],
      "text/plain": [
       "            train         test\n",
       "MAE   2328.682701  7163.789394\n",
       "MAPE     0.083458     0.182481"
      ]
     },
     "metadata": {},
     "output_type": "display_data"
    }
   ],
   "source": [
    "df_metrics_rf = df_metrics_rf.T\n",
    "display(df_metrics_rf)"
   ]
  },
  {
   "cell_type": "code",
   "execution_count": null,
   "metadata": {},
   "outputs": [],
   "source": []
  },
  {
   "cell_type": "code",
   "execution_count": 42,
   "metadata": {},
   "outputs": [
    {
     "data": {
      "text/html": [
       "<div>\n",
       "<style scoped>\n",
       "    .dataframe tbody tr th:only-of-type {\n",
       "        vertical-align: middle;\n",
       "    }\n",
       "\n",
       "    .dataframe tbody tr th {\n",
       "        vertical-align: top;\n",
       "    }\n",
       "\n",
       "    .dataframe thead th {\n",
       "        text-align: right;\n",
       "    }\n",
       "</style>\n",
       "<table border=\"1\" class=\"dataframe\">\n",
       "  <thead>\n",
       "    <tr style=\"text-align: right;\">\n",
       "      <th></th>\n",
       "      <th>max_features</th>\n",
       "      <th>n_estimators</th>\n",
       "      <th>neg_mean_absolute_error</th>\n",
       "    </tr>\n",
       "  </thead>\n",
       "  <tbody>\n",
       "    <tr>\n",
       "      <th>8</th>\n",
       "      <td>100</td>\n",
       "      <td>500</td>\n",
       "      <td>-6584.690098</td>\n",
       "    </tr>\n",
       "    <tr>\n",
       "      <th>4</th>\n",
       "      <td>50</td>\n",
       "      <td>5000</td>\n",
       "      <td>-6590.978605</td>\n",
       "    </tr>\n",
       "    <tr>\n",
       "      <th>3</th>\n",
       "      <td>50</td>\n",
       "      <td>500</td>\n",
       "      <td>-6591.469318</td>\n",
       "    </tr>\n",
       "    <tr>\n",
       "      <th>9</th>\n",
       "      <td>100</td>\n",
       "      <td>5000</td>\n",
       "      <td>-6600.994107</td>\n",
       "    </tr>\n",
       "    <tr>\n",
       "      <th>2</th>\n",
       "      <td>50</td>\n",
       "      <td>100</td>\n",
       "      <td>-6611.402283</td>\n",
       "    </tr>\n",
       "    <tr>\n",
       "      <th>7</th>\n",
       "      <td>100</td>\n",
       "      <td>100</td>\n",
       "      <td>-6611.833413</td>\n",
       "    </tr>\n",
       "    <tr>\n",
       "      <th>6</th>\n",
       "      <td>100</td>\n",
       "      <td>20</td>\n",
       "      <td>-6767.200185</td>\n",
       "    </tr>\n",
       "    <tr>\n",
       "      <th>1</th>\n",
       "      <td>50</td>\n",
       "      <td>20</td>\n",
       "      <td>-6848.125054</td>\n",
       "    </tr>\n",
       "    <tr>\n",
       "      <th>5</th>\n",
       "      <td>100</td>\n",
       "      <td>10</td>\n",
       "      <td>-6878.957126</td>\n",
       "    </tr>\n",
       "    <tr>\n",
       "      <th>0</th>\n",
       "      <td>50</td>\n",
       "      <td>10</td>\n",
       "      <td>-6933.308295</td>\n",
       "    </tr>\n",
       "  </tbody>\n",
       "</table>\n",
       "</div>"
      ],
      "text/plain": [
       "   max_features  n_estimators  neg_mean_absolute_error\n",
       "8           100           500             -6584.690098\n",
       "4            50          5000             -6590.978605\n",
       "3            50           500             -6591.469318\n",
       "9           100          5000             -6600.994107\n",
       "2            50           100             -6611.402283\n",
       "7           100           100             -6611.833413\n",
       "6           100            20             -6767.200185\n",
       "1            50            20             -6848.125054\n",
       "5           100            10             -6878.957126\n",
       "0            50            10             -6933.308295"
      ]
     },
     "execution_count": 42,
     "metadata": {},
     "output_type": "execute_result"
    }
   ],
   "source": [
    "pd.concat(\n",
    "    [\n",
    "        pd.DataFrame(rf_grid.cv_results_[\"params\"]),\n",
    "        pd.DataFrame(rf_grid.cv_results_[\"mean_test_score\"],  columns=[\"neg_mean_absolute_error\"])\n",
    "    ],\n",
    "    axis=1\n",
    ").sort_values('neg_mean_absolute_error', ascending=False)"
   ]
  },
  {
   "cell_type": "code",
   "execution_count": 43,
   "metadata": {},
   "outputs": [
    {
     "data": {
      "text/plain": [
       "-2328.682700910273"
      ]
     },
     "execution_count": 43,
     "metadata": {},
     "output_type": "execute_result"
    }
   ],
   "source": [
    "# neg_mean_absolute_error\n",
    "rf_grid.score(x_train, y_train)"
   ]
  },
  {
   "cell_type": "code",
   "execution_count": 44,
   "metadata": {},
   "outputs": [
    {
     "data": {
      "text/plain": [
       "-7163.789393939394"
      ]
     },
     "execution_count": 44,
     "metadata": {},
     "output_type": "execute_result"
    }
   ],
   "source": [
    "# neg_mean_absolute_error\n",
    "rf_grid.score(x_test, y_test)"
   ]
  },
  {
   "cell_type": "code",
   "execution_count": null,
   "metadata": {},
   "outputs": [],
   "source": []
  },
  {
   "cell_type": "code",
   "execution_count": 45,
   "metadata": {},
   "outputs": [],
   "source": [
    "from yellowbrick.regressor import PredictionError, ResidualsPlot"
   ]
  },
  {
   "cell_type": "markdown",
   "metadata": {},
   "source": [
    "Gráficamos la Curva de Error.\n",
    "- **Linea Gris**: Lo que nos gustaría que fuera\n",
    "- **Linea Negra**: El ajuste de regresión, de la regresión misma"
   ]
  },
  {
   "cell_type": "code",
   "execution_count": 46,
   "metadata": {},
   "outputs": [
    {
     "data": {
      "image/png": "[encoded data removed]",
      "text/plain": [
       "<Figure size 576x396 with 1 Axes>"
      ]
     },
     "metadata": {},
     "output_type": "display_data"
    },
    {
     "data": {
      "text/plain": [
       "<AxesSubplot:title={'center':'Prediction Error for GridSearchCV'}, xlabel='$y$', ylabel='$\\\\hat{y}$'>"
      ]
     },
     "execution_count": 46,
     "metadata": {},
     "output_type": "execute_result"
    }
   ],
   "source": [
    "# Grafico de la Curva de Error\n",
    "vis_pred_err = PredictionError(rf_grid)\n",
    "\n",
    "vis_pred_err.fit(x_train, y_train)  # Fiteamos los datos al visualizador\n",
    "vis_pred_err.score(x_test, y_test)  # Calculamos las métricas para test\n",
    "vis_pred_err.show()                 # Visualizamos!"
   ]
  },
  {
   "cell_type": "code",
   "execution_count": null,
   "metadata": {},
   "outputs": [],
   "source": []
  },
  {
   "cell_type": "markdown",
   "metadata": {},
   "source": [
    "Gráfico de Residuos"
   ]
  },
  {
   "cell_type": "code",
   "execution_count": 47,
   "metadata": {},
   "outputs": [
    {
     "data": {
      "image/png": "[encoded data removed]",
      "text/plain": [
       "<Figure size 576x396 with 2 Axes>"
      ]
     },
     "metadata": {},
     "output_type": "display_data"
    },
    {
     "data": {
      "text/plain": [
       "<AxesSubplot:title={'center':'Residuals for RandomForestRegressor Model'}, xlabel='Predicted Value', ylabel='Residuals'>"
      ]
     },
     "execution_count": 47,
     "metadata": {},
     "output_type": "execute_result"
    }
   ],
   "source": [
    "vis_res = ResidualsPlot(rf_grid.best_estimator_)\n",
    "\n",
    "# Copy-paste de la doc oficial: \n",
    "vis_res.fit(x_train, y_train)  # Fiteamos los datos al visualizador\n",
    "vis_res.score(x_test, y_test)  # Calculamos las métricas para test\n",
    "vis_res.show()                 # Visualizamos!"
   ]
  },
  {
   "cell_type": "code",
   "execution_count": null,
   "metadata": {},
   "outputs": [],
   "source": []
  }
 ],
 "metadata": {
  "kernelspec": {
   "display_name": "Python 3 (ipykernel)",
   "language": "python",
   "name": "python3"
  },
  "language_info": {
   "codemirror_mode": {
    "name": "ipython",
    "version": 3
   },
   "file_extension": ".py",
   "mimetype": "text/x-python",
   "name": "python",
   "nbconvert_exporter": "python",
   "pygments_lexer": "ipython3",
   "version": "3.8.12"
  }
 },
 "nbformat": 4,
 "nbformat_minor": 4
}
