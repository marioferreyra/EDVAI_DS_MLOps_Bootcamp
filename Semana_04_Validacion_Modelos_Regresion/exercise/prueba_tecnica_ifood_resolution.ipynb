{
 "cells": [
  {
   "cell_type": "markdown",
   "metadata": {},
   "source": [
    "# Bootcamp Data Science y MLOps\n",
    "\n",
    "<img src=\"https://i.ibb.co/5RM26Cw/LOGO-COLOR2.png\" width=\"500px\">\n",
    "\n",
    "Creado en [escueladedatosvivos.ai](https://escueladedatosvivos.ai) 🚀.\n",
    "\n",
    "¿Consultas? En la página tenés soporte por IA guiada, comunidad y el acceso a certificación.\n",
    "\n",
    "<br>\n",
    "\n",
    "---  "
   ]
  },
  {
   "cell_type": "markdown",
   "metadata": {},
   "source": [
    "# 0) Dataset 🌮🥤\n",
    "\n",
    "Nos basamos en el dataset de Kaggle: [Marketing Campaign](https://www.kaggle.com/datasets/rodsaldanha/arketing-campaign?select=marketing_campaign.csv).\n",
    "<br>En `Retail Company Case.pdf` pueden ver las consignas de la prueba técnica completa. <br>[Fuente: ifood](https://github.com/ifood/ifood-data-analyst-case)."
   ]
  },
  {
   "cell_type": "markdown",
   "metadata": {},
   "source": [
    "# 1) Cargamos los datos 📕"
   ]
  },
  {
   "cell_type": "code",
   "execution_count": 1,
   "metadata": {},
   "outputs": [],
   "source": [
    "import pandas as pd\n",
    "from funpymodeling.exploratory import status"
   ]
  },
  {
   "cell_type": "code",
   "execution_count": 2,
   "metadata": {},
   "outputs": [],
   "source": [
    "# Para este caso nos interesa visualizar todas las columnas\n",
    "pd.set_option('display.max_columns', None)"
   ]
  },
  {
   "cell_type": "code",
   "execution_count": 3,
   "metadata": {},
   "outputs": [],
   "source": [
    "data = pd.read_csv(\"data/marketing_campaign.csv\", sep=';') "
   ]
  },
  {
   "cell_type": "code",
   "execution_count": 4,
   "metadata": {},
   "outputs": [
    {
     "data": {
      "text/html": [
       "<div>\n",
       "<style scoped>\n",
       "    .dataframe tbody tr th:only-of-type {\n",
       "        vertical-align: middle;\n",
       "    }\n",
       "\n",
       "    .dataframe tbody tr th {\n",
       "        vertical-align: top;\n",
       "    }\n",
       "\n",
       "    .dataframe thead th {\n",
       "        text-align: right;\n",
       "    }\n",
       "</style>\n",
       "<table border=\"1\" class=\"dataframe\">\n",
       "  <thead>\n",
       "    <tr style=\"text-align: right;\">\n",
       "      <th></th>\n",
       "      <th>ID</th>\n",
       "      <th>Year_Birth</th>\n",
       "      <th>Education</th>\n",
       "      <th>Marital_Status</th>\n",
       "      <th>Income</th>\n",
       "      <th>Kidhome</th>\n",
       "      <th>Teenhome</th>\n",
       "      <th>Dt_Customer</th>\n",
       "      <th>Recency</th>\n",
       "      <th>MntWines</th>\n",
       "      <th>MntFruits</th>\n",
       "      <th>MntMeatProducts</th>\n",
       "      <th>MntFishProducts</th>\n",
       "      <th>MntSweetProducts</th>\n",
       "      <th>MntGoldProds</th>\n",
       "      <th>NumDealsPurchases</th>\n",
       "      <th>NumWebPurchases</th>\n",
       "      <th>NumCatalogPurchases</th>\n",
       "      <th>NumStorePurchases</th>\n",
       "      <th>NumWebVisitsMonth</th>\n",
       "      <th>AcceptedCmp3</th>\n",
       "      <th>AcceptedCmp4</th>\n",
       "      <th>AcceptedCmp5</th>\n",
       "      <th>AcceptedCmp1</th>\n",
       "      <th>AcceptedCmp2</th>\n",
       "      <th>Complain</th>\n",
       "      <th>Z_CostContact</th>\n",
       "      <th>Z_Revenue</th>\n",
       "      <th>Response</th>\n",
       "    </tr>\n",
       "  </thead>\n",
       "  <tbody>\n",
       "    <tr>\n",
       "      <th>0</th>\n",
       "      <td>5524</td>\n",
       "      <td>1957</td>\n",
       "      <td>Graduation</td>\n",
       "      <td>Single</td>\n",
       "      <td>58138.0</td>\n",
       "      <td>0</td>\n",
       "      <td>0</td>\n",
       "      <td>2012-09-04</td>\n",
       "      <td>58</td>\n",
       "      <td>635</td>\n",
       "      <td>88</td>\n",
       "      <td>546</td>\n",
       "      <td>172</td>\n",
       "      <td>88</td>\n",
       "      <td>88</td>\n",
       "      <td>3</td>\n",
       "      <td>8</td>\n",
       "      <td>10</td>\n",
       "      <td>4</td>\n",
       "      <td>7</td>\n",
       "      <td>0</td>\n",
       "      <td>0</td>\n",
       "      <td>0</td>\n",
       "      <td>0</td>\n",
       "      <td>0</td>\n",
       "      <td>0</td>\n",
       "      <td>3</td>\n",
       "      <td>11</td>\n",
       "      <td>1</td>\n",
       "    </tr>\n",
       "    <tr>\n",
       "      <th>1</th>\n",
       "      <td>2174</td>\n",
       "      <td>1954</td>\n",
       "      <td>Graduation</td>\n",
       "      <td>Single</td>\n",
       "      <td>46344.0</td>\n",
       "      <td>1</td>\n",
       "      <td>1</td>\n",
       "      <td>2014-03-08</td>\n",
       "      <td>38</td>\n",
       "      <td>11</td>\n",
       "      <td>1</td>\n",
       "      <td>6</td>\n",
       "      <td>2</td>\n",
       "      <td>1</td>\n",
       "      <td>6</td>\n",
       "      <td>2</td>\n",
       "      <td>1</td>\n",
       "      <td>1</td>\n",
       "      <td>2</td>\n",
       "      <td>5</td>\n",
       "      <td>0</td>\n",
       "      <td>0</td>\n",
       "      <td>0</td>\n",
       "      <td>0</td>\n",
       "      <td>0</td>\n",
       "      <td>0</td>\n",
       "      <td>3</td>\n",
       "      <td>11</td>\n",
       "      <td>0</td>\n",
       "    </tr>\n",
       "    <tr>\n",
       "      <th>2</th>\n",
       "      <td>4141</td>\n",
       "      <td>1965</td>\n",
       "      <td>Graduation</td>\n",
       "      <td>Together</td>\n",
       "      <td>71613.0</td>\n",
       "      <td>0</td>\n",
       "      <td>0</td>\n",
       "      <td>2013-08-21</td>\n",
       "      <td>26</td>\n",
       "      <td>426</td>\n",
       "      <td>49</td>\n",
       "      <td>127</td>\n",
       "      <td>111</td>\n",
       "      <td>21</td>\n",
       "      <td>42</td>\n",
       "      <td>1</td>\n",
       "      <td>8</td>\n",
       "      <td>2</td>\n",
       "      <td>10</td>\n",
       "      <td>4</td>\n",
       "      <td>0</td>\n",
       "      <td>0</td>\n",
       "      <td>0</td>\n",
       "      <td>0</td>\n",
       "      <td>0</td>\n",
       "      <td>0</td>\n",
       "      <td>3</td>\n",
       "      <td>11</td>\n",
       "      <td>0</td>\n",
       "    </tr>\n",
       "    <tr>\n",
       "      <th>3</th>\n",
       "      <td>6182</td>\n",
       "      <td>1984</td>\n",
       "      <td>Graduation</td>\n",
       "      <td>Together</td>\n",
       "      <td>26646.0</td>\n",
       "      <td>1</td>\n",
       "      <td>0</td>\n",
       "      <td>2014-02-10</td>\n",
       "      <td>26</td>\n",
       "      <td>11</td>\n",
       "      <td>4</td>\n",
       "      <td>20</td>\n",
       "      <td>10</td>\n",
       "      <td>3</td>\n",
       "      <td>5</td>\n",
       "      <td>2</td>\n",
       "      <td>2</td>\n",
       "      <td>0</td>\n",
       "      <td>4</td>\n",
       "      <td>6</td>\n",
       "      <td>0</td>\n",
       "      <td>0</td>\n",
       "      <td>0</td>\n",
       "      <td>0</td>\n",
       "      <td>0</td>\n",
       "      <td>0</td>\n",
       "      <td>3</td>\n",
       "      <td>11</td>\n",
       "      <td>0</td>\n",
       "    </tr>\n",
       "    <tr>\n",
       "      <th>4</th>\n",
       "      <td>5324</td>\n",
       "      <td>1981</td>\n",
       "      <td>PhD</td>\n",
       "      <td>Married</td>\n",
       "      <td>58293.0</td>\n",
       "      <td>1</td>\n",
       "      <td>0</td>\n",
       "      <td>2014-01-19</td>\n",
       "      <td>94</td>\n",
       "      <td>173</td>\n",
       "      <td>43</td>\n",
       "      <td>118</td>\n",
       "      <td>46</td>\n",
       "      <td>27</td>\n",
       "      <td>15</td>\n",
       "      <td>5</td>\n",
       "      <td>5</td>\n",
       "      <td>3</td>\n",
       "      <td>6</td>\n",
       "      <td>5</td>\n",
       "      <td>0</td>\n",
       "      <td>0</td>\n",
       "      <td>0</td>\n",
       "      <td>0</td>\n",
       "      <td>0</td>\n",
       "      <td>0</td>\n",
       "      <td>3</td>\n",
       "      <td>11</td>\n",
       "      <td>0</td>\n",
       "    </tr>\n",
       "  </tbody>\n",
       "</table>\n",
       "</div>"
      ],
      "text/plain": [
       "     ID  Year_Birth   Education Marital_Status   Income  Kidhome  Teenhome   \n",
       "0  5524        1957  Graduation         Single  58138.0        0         0  \\\n",
       "1  2174        1954  Graduation         Single  46344.0        1         1   \n",
       "2  4141        1965  Graduation       Together  71613.0        0         0   \n",
       "3  6182        1984  Graduation       Together  26646.0        1         0   \n",
       "4  5324        1981         PhD        Married  58293.0        1         0   \n",
       "\n",
       "  Dt_Customer  Recency  MntWines  MntFruits  MntMeatProducts  MntFishProducts   \n",
       "0  2012-09-04       58       635         88              546              172  \\\n",
       "1  2014-03-08       38        11          1                6                2   \n",
       "2  2013-08-21       26       426         49              127              111   \n",
       "3  2014-02-10       26        11          4               20               10   \n",
       "4  2014-01-19       94       173         43              118               46   \n",
       "\n",
       "   MntSweetProducts  MntGoldProds  NumDealsPurchases  NumWebPurchases   \n",
       "0                88            88                  3                8  \\\n",
       "1                 1             6                  2                1   \n",
       "2                21            42                  1                8   \n",
       "3                 3             5                  2                2   \n",
       "4                27            15                  5                5   \n",
       "\n",
       "   NumCatalogPurchases  NumStorePurchases  NumWebVisitsMonth  AcceptedCmp3   \n",
       "0                   10                  4                  7             0  \\\n",
       "1                    1                  2                  5             0   \n",
       "2                    2                 10                  4             0   \n",
       "3                    0                  4                  6             0   \n",
       "4                    3                  6                  5             0   \n",
       "\n",
       "   AcceptedCmp4  AcceptedCmp5  AcceptedCmp1  AcceptedCmp2  Complain   \n",
       "0             0             0             0             0         0  \\\n",
       "1             0             0             0             0         0   \n",
       "2             0             0             0             0         0   \n",
       "3             0             0             0             0         0   \n",
       "4             0             0             0             0         0   \n",
       "\n",
       "   Z_CostContact  Z_Revenue  Response  \n",
       "0              3         11         1  \n",
       "1              3         11         0  \n",
       "2              3         11         0  \n",
       "3              3         11         0  \n",
       "4              3         11         0  "
      ]
     },
     "execution_count": 4,
     "metadata": {},
     "output_type": "execute_result"
    }
   ],
   "source": [
    "data.head(5)"
   ]
  },
  {
   "cell_type": "markdown",
   "metadata": {},
   "source": [
    "*Nota:* si bien el valor defecto de sep en `read_csv` es la coma `,`. \n",
    "<br>Siempre lo hago explícito porque a veces los archivos vienen separados por punto y coma, u otro separador como tab. Es una buena práctica, y también aplica cuando graban archivos."
   ]
  },
  {
   "cell_type": "markdown",
   "metadata": {},
   "source": [
    "# 2) Preparación de la data 👀"
   ]
  },
  {
   "cell_type": "code",
   "execution_count": 5,
   "metadata": {},
   "outputs": [
    {
     "data": {
      "text/html": [
       "<div>\n",
       "<style scoped>\n",
       "    .dataframe tbody tr th:only-of-type {\n",
       "        vertical-align: middle;\n",
       "    }\n",
       "\n",
       "    .dataframe tbody tr th {\n",
       "        vertical-align: top;\n",
       "    }\n",
       "\n",
       "    .dataframe thead th {\n",
       "        text-align: right;\n",
       "    }\n",
       "</style>\n",
       "<table border=\"1\" class=\"dataframe\">\n",
       "  <thead>\n",
       "    <tr style=\"text-align: right;\">\n",
       "      <th></th>\n",
       "      <th>variable</th>\n",
       "      <th>q_nan</th>\n",
       "      <th>p_nan</th>\n",
       "      <th>q_zeros</th>\n",
       "      <th>p_zeros</th>\n",
       "      <th>unique</th>\n",
       "      <th>type</th>\n",
       "    </tr>\n",
       "  </thead>\n",
       "  <tbody>\n",
       "    <tr>\n",
       "      <th>0</th>\n",
       "      <td>ID</td>\n",
       "      <td>0</td>\n",
       "      <td>0.000000</td>\n",
       "      <td>1</td>\n",
       "      <td>0.000446</td>\n",
       "      <td>2240</td>\n",
       "      <td>int64</td>\n",
       "    </tr>\n",
       "    <tr>\n",
       "      <th>1</th>\n",
       "      <td>Year_Birth</td>\n",
       "      <td>0</td>\n",
       "      <td>0.000000</td>\n",
       "      <td>0</td>\n",
       "      <td>0.000000</td>\n",
       "      <td>59</td>\n",
       "      <td>int64</td>\n",
       "    </tr>\n",
       "    <tr>\n",
       "      <th>2</th>\n",
       "      <td>Education</td>\n",
       "      <td>0</td>\n",
       "      <td>0.000000</td>\n",
       "      <td>0</td>\n",
       "      <td>0.000000</td>\n",
       "      <td>5</td>\n",
       "      <td>object</td>\n",
       "    </tr>\n",
       "    <tr>\n",
       "      <th>3</th>\n",
       "      <td>Marital_Status</td>\n",
       "      <td>0</td>\n",
       "      <td>0.000000</td>\n",
       "      <td>0</td>\n",
       "      <td>0.000000</td>\n",
       "      <td>8</td>\n",
       "      <td>object</td>\n",
       "    </tr>\n",
       "    <tr>\n",
       "      <th>4</th>\n",
       "      <td>Income</td>\n",
       "      <td>24</td>\n",
       "      <td>0.010714</td>\n",
       "      <td>0</td>\n",
       "      <td>0.000000</td>\n",
       "      <td>1974</td>\n",
       "      <td>float64</td>\n",
       "    </tr>\n",
       "    <tr>\n",
       "      <th>5</th>\n",
       "      <td>Kidhome</td>\n",
       "      <td>0</td>\n",
       "      <td>0.000000</td>\n",
       "      <td>1293</td>\n",
       "      <td>0.577232</td>\n",
       "      <td>3</td>\n",
       "      <td>int64</td>\n",
       "    </tr>\n",
       "    <tr>\n",
       "      <th>6</th>\n",
       "      <td>Teenhome</td>\n",
       "      <td>0</td>\n",
       "      <td>0.000000</td>\n",
       "      <td>1158</td>\n",
       "      <td>0.516964</td>\n",
       "      <td>3</td>\n",
       "      <td>int64</td>\n",
       "    </tr>\n",
       "    <tr>\n",
       "      <th>7</th>\n",
       "      <td>Dt_Customer</td>\n",
       "      <td>0</td>\n",
       "      <td>0.000000</td>\n",
       "      <td>0</td>\n",
       "      <td>0.000000</td>\n",
       "      <td>663</td>\n",
       "      <td>object</td>\n",
       "    </tr>\n",
       "    <tr>\n",
       "      <th>8</th>\n",
       "      <td>Recency</td>\n",
       "      <td>0</td>\n",
       "      <td>0.000000</td>\n",
       "      <td>28</td>\n",
       "      <td>0.012500</td>\n",
       "      <td>100</td>\n",
       "      <td>int64</td>\n",
       "    </tr>\n",
       "    <tr>\n",
       "      <th>9</th>\n",
       "      <td>MntWines</td>\n",
       "      <td>0</td>\n",
       "      <td>0.000000</td>\n",
       "      <td>13</td>\n",
       "      <td>0.005804</td>\n",
       "      <td>776</td>\n",
       "      <td>int64</td>\n",
       "    </tr>\n",
       "    <tr>\n",
       "      <th>10</th>\n",
       "      <td>MntFruits</td>\n",
       "      <td>0</td>\n",
       "      <td>0.000000</td>\n",
       "      <td>400</td>\n",
       "      <td>0.178571</td>\n",
       "      <td>158</td>\n",
       "      <td>int64</td>\n",
       "    </tr>\n",
       "    <tr>\n",
       "      <th>11</th>\n",
       "      <td>MntMeatProducts</td>\n",
       "      <td>0</td>\n",
       "      <td>0.000000</td>\n",
       "      <td>1</td>\n",
       "      <td>0.000446</td>\n",
       "      <td>558</td>\n",
       "      <td>int64</td>\n",
       "    </tr>\n",
       "    <tr>\n",
       "      <th>12</th>\n",
       "      <td>MntFishProducts</td>\n",
       "      <td>0</td>\n",
       "      <td>0.000000</td>\n",
       "      <td>384</td>\n",
       "      <td>0.171429</td>\n",
       "      <td>182</td>\n",
       "      <td>int64</td>\n",
       "    </tr>\n",
       "    <tr>\n",
       "      <th>13</th>\n",
       "      <td>MntSweetProducts</td>\n",
       "      <td>0</td>\n",
       "      <td>0.000000</td>\n",
       "      <td>419</td>\n",
       "      <td>0.187054</td>\n",
       "      <td>177</td>\n",
       "      <td>int64</td>\n",
       "    </tr>\n",
       "    <tr>\n",
       "      <th>14</th>\n",
       "      <td>MntGoldProds</td>\n",
       "      <td>0</td>\n",
       "      <td>0.000000</td>\n",
       "      <td>61</td>\n",
       "      <td>0.027232</td>\n",
       "      <td>213</td>\n",
       "      <td>int64</td>\n",
       "    </tr>\n",
       "    <tr>\n",
       "      <th>15</th>\n",
       "      <td>NumDealsPurchases</td>\n",
       "      <td>0</td>\n",
       "      <td>0.000000</td>\n",
       "      <td>46</td>\n",
       "      <td>0.020536</td>\n",
       "      <td>15</td>\n",
       "      <td>int64</td>\n",
       "    </tr>\n",
       "    <tr>\n",
       "      <th>16</th>\n",
       "      <td>NumWebPurchases</td>\n",
       "      <td>0</td>\n",
       "      <td>0.000000</td>\n",
       "      <td>49</td>\n",
       "      <td>0.021875</td>\n",
       "      <td>15</td>\n",
       "      <td>int64</td>\n",
       "    </tr>\n",
       "    <tr>\n",
       "      <th>17</th>\n",
       "      <td>NumCatalogPurchases</td>\n",
       "      <td>0</td>\n",
       "      <td>0.000000</td>\n",
       "      <td>586</td>\n",
       "      <td>0.261607</td>\n",
       "      <td>14</td>\n",
       "      <td>int64</td>\n",
       "    </tr>\n",
       "    <tr>\n",
       "      <th>18</th>\n",
       "      <td>NumStorePurchases</td>\n",
       "      <td>0</td>\n",
       "      <td>0.000000</td>\n",
       "      <td>15</td>\n",
       "      <td>0.006696</td>\n",
       "      <td>14</td>\n",
       "      <td>int64</td>\n",
       "    </tr>\n",
       "    <tr>\n",
       "      <th>19</th>\n",
       "      <td>NumWebVisitsMonth</td>\n",
       "      <td>0</td>\n",
       "      <td>0.000000</td>\n",
       "      <td>11</td>\n",
       "      <td>0.004911</td>\n",
       "      <td>16</td>\n",
       "      <td>int64</td>\n",
       "    </tr>\n",
       "    <tr>\n",
       "      <th>20</th>\n",
       "      <td>AcceptedCmp3</td>\n",
       "      <td>0</td>\n",
       "      <td>0.000000</td>\n",
       "      <td>2077</td>\n",
       "      <td>0.927232</td>\n",
       "      <td>2</td>\n",
       "      <td>int64</td>\n",
       "    </tr>\n",
       "    <tr>\n",
       "      <th>21</th>\n",
       "      <td>AcceptedCmp4</td>\n",
       "      <td>0</td>\n",
       "      <td>0.000000</td>\n",
       "      <td>2073</td>\n",
       "      <td>0.925446</td>\n",
       "      <td>2</td>\n",
       "      <td>int64</td>\n",
       "    </tr>\n",
       "    <tr>\n",
       "      <th>22</th>\n",
       "      <td>AcceptedCmp5</td>\n",
       "      <td>0</td>\n",
       "      <td>0.000000</td>\n",
       "      <td>2077</td>\n",
       "      <td>0.927232</td>\n",
       "      <td>2</td>\n",
       "      <td>int64</td>\n",
       "    </tr>\n",
       "    <tr>\n",
       "      <th>23</th>\n",
       "      <td>AcceptedCmp1</td>\n",
       "      <td>0</td>\n",
       "      <td>0.000000</td>\n",
       "      <td>2096</td>\n",
       "      <td>0.935714</td>\n",
       "      <td>2</td>\n",
       "      <td>int64</td>\n",
       "    </tr>\n",
       "    <tr>\n",
       "      <th>24</th>\n",
       "      <td>AcceptedCmp2</td>\n",
       "      <td>0</td>\n",
       "      <td>0.000000</td>\n",
       "      <td>2210</td>\n",
       "      <td>0.986607</td>\n",
       "      <td>2</td>\n",
       "      <td>int64</td>\n",
       "    </tr>\n",
       "    <tr>\n",
       "      <th>25</th>\n",
       "      <td>Complain</td>\n",
       "      <td>0</td>\n",
       "      <td>0.000000</td>\n",
       "      <td>2219</td>\n",
       "      <td>0.990625</td>\n",
       "      <td>2</td>\n",
       "      <td>int64</td>\n",
       "    </tr>\n",
       "    <tr>\n",
       "      <th>26</th>\n",
       "      <td>Z_CostContact</td>\n",
       "      <td>0</td>\n",
       "      <td>0.000000</td>\n",
       "      <td>0</td>\n",
       "      <td>0.000000</td>\n",
       "      <td>1</td>\n",
       "      <td>int64</td>\n",
       "    </tr>\n",
       "    <tr>\n",
       "      <th>27</th>\n",
       "      <td>Z_Revenue</td>\n",
       "      <td>0</td>\n",
       "      <td>0.000000</td>\n",
       "      <td>0</td>\n",
       "      <td>0.000000</td>\n",
       "      <td>1</td>\n",
       "      <td>int64</td>\n",
       "    </tr>\n",
       "    <tr>\n",
       "      <th>28</th>\n",
       "      <td>Response</td>\n",
       "      <td>0</td>\n",
       "      <td>0.000000</td>\n",
       "      <td>1906</td>\n",
       "      <td>0.850893</td>\n",
       "      <td>2</td>\n",
       "      <td>int64</td>\n",
       "    </tr>\n",
       "  </tbody>\n",
       "</table>\n",
       "</div>"
      ],
      "text/plain": [
       "               variable  q_nan     p_nan  q_zeros   p_zeros  unique     type\n",
       "0                    ID      0  0.000000        1  0.000446    2240    int64\n",
       "1            Year_Birth      0  0.000000        0  0.000000      59    int64\n",
       "2             Education      0  0.000000        0  0.000000       5   object\n",
       "3        Marital_Status      0  0.000000        0  0.000000       8   object\n",
       "4                Income     24  0.010714        0  0.000000    1974  float64\n",
       "5               Kidhome      0  0.000000     1293  0.577232       3    int64\n",
       "6              Teenhome      0  0.000000     1158  0.516964       3    int64\n",
       "7           Dt_Customer      0  0.000000        0  0.000000     663   object\n",
       "8               Recency      0  0.000000       28  0.012500     100    int64\n",
       "9              MntWines      0  0.000000       13  0.005804     776    int64\n",
       "10            MntFruits      0  0.000000      400  0.178571     158    int64\n",
       "11      MntMeatProducts      0  0.000000        1  0.000446     558    int64\n",
       "12      MntFishProducts      0  0.000000      384  0.171429     182    int64\n",
       "13     MntSweetProducts      0  0.000000      419  0.187054     177    int64\n",
       "14         MntGoldProds      0  0.000000       61  0.027232     213    int64\n",
       "15    NumDealsPurchases      0  0.000000       46  0.020536      15    int64\n",
       "16      NumWebPurchases      0  0.000000       49  0.021875      15    int64\n",
       "17  NumCatalogPurchases      0  0.000000      586  0.261607      14    int64\n",
       "18    NumStorePurchases      0  0.000000       15  0.006696      14    int64\n",
       "19    NumWebVisitsMonth      0  0.000000       11  0.004911      16    int64\n",
       "20         AcceptedCmp3      0  0.000000     2077  0.927232       2    int64\n",
       "21         AcceptedCmp4      0  0.000000     2073  0.925446       2    int64\n",
       "22         AcceptedCmp5      0  0.000000     2077  0.927232       2    int64\n",
       "23         AcceptedCmp1      0  0.000000     2096  0.935714       2    int64\n",
       "24         AcceptedCmp2      0  0.000000     2210  0.986607       2    int64\n",
       "25             Complain      0  0.000000     2219  0.990625       2    int64\n",
       "26        Z_CostContact      0  0.000000        0  0.000000       1    int64\n",
       "27            Z_Revenue      0  0.000000        0  0.000000       1    int64\n",
       "28             Response      0  0.000000     1906  0.850893       2    int64"
      ]
     },
     "execution_count": 5,
     "metadata": {},
     "output_type": "execute_result"
    }
   ],
   "source": [
    "status(data)"
   ]
  },
  {
   "cell_type": "markdown",
   "metadata": {},
   "source": [
    "Eliminar columnas innecesarias:"
   ]
  },
  {
   "cell_type": "code",
   "execution_count": 6,
   "metadata": {},
   "outputs": [],
   "source": [
    "data = data.drop(['ID', 'Z_CostContact', 'Z_Revenue'], axis=1)"
   ]
  },
  {
   "cell_type": "markdown",
   "metadata": {},
   "source": [
    "Eliminar los valores NaN de la columna `Income`.\n",
    "<br>Existen 24 elementos NaN de 2240 en total, que representa un 1.07%.\n",
    "<br>Consideremos un valor muy pequeño que estamos dispuestos a perder.\n",
    "<br>**También pueden discretizar, rellenar los valores faltantes y evaluar si mejora o no el modelo respecto a si se eliminan.**"
   ]
  },
  {
   "cell_type": "code",
   "execution_count": 7,
   "metadata": {},
   "outputs": [],
   "source": [
    "data = data.dropna()\n",
    " \n",
    "# Resetting the indices using df.reset_index()\n",
    "data = data.reset_index(drop=True)"
   ]
  },
  {
   "cell_type": "markdown",
   "metadata": {},
   "source": [
    "Obtener la edad en vez de `Year_Birth`"
   ]
  },
  {
   "cell_type": "code",
   "execution_count": 8,
   "metadata": {},
   "outputs": [],
   "source": [
    "today = pd.to_datetime('today').normalize()"
   ]
  },
  {
   "cell_type": "code",
   "execution_count": 9,
   "metadata": {},
   "outputs": [],
   "source": [
    "data[\"age\"] = today.year - data[\"Year_Birth\"]"
   ]
  },
  {
   "cell_type": "markdown",
   "metadata": {},
   "source": [
    "Obtener días totales siendo clientes de ifood en vez de `Dt_Customer`"
   ]
  },
  {
   "cell_type": "code",
   "execution_count": 10,
   "metadata": {},
   "outputs": [],
   "source": [
    "data[\"client_day\"] = (today - pd.to_datetime(data[\"Dt_Customer\"], format=\"%Y-%m-%d\")).dt.days"
   ]
  },
  {
   "cell_type": "markdown",
   "metadata": {},
   "source": [
    "Eliminar columnas ya no necesarias `Year_Birth` y `Dt_Customer`."
   ]
  },
  {
   "cell_type": "code",
   "execution_count": 11,
   "metadata": {},
   "outputs": [],
   "source": [
    "data = data.drop(['Year_Birth', 'Dt_Customer'], axis=1)"
   ]
  },
  {
   "cell_type": "code",
   "execution_count": 12,
   "metadata": {},
   "outputs": [
    {
     "data": {
      "text/html": [
       "<div>\n",
       "<style scoped>\n",
       "    .dataframe tbody tr th:only-of-type {\n",
       "        vertical-align: middle;\n",
       "    }\n",
       "\n",
       "    .dataframe tbody tr th {\n",
       "        vertical-align: top;\n",
       "    }\n",
       "\n",
       "    .dataframe thead th {\n",
       "        text-align: right;\n",
       "    }\n",
       "</style>\n",
       "<table border=\"1\" class=\"dataframe\">\n",
       "  <thead>\n",
       "    <tr style=\"text-align: right;\">\n",
       "      <th></th>\n",
       "      <th>Education</th>\n",
       "      <th>Marital_Status</th>\n",
       "      <th>Income</th>\n",
       "      <th>Kidhome</th>\n",
       "      <th>Teenhome</th>\n",
       "      <th>Recency</th>\n",
       "      <th>MntWines</th>\n",
       "      <th>MntFruits</th>\n",
       "      <th>MntMeatProducts</th>\n",
       "      <th>MntFishProducts</th>\n",
       "      <th>MntSweetProducts</th>\n",
       "      <th>MntGoldProds</th>\n",
       "      <th>NumDealsPurchases</th>\n",
       "      <th>NumWebPurchases</th>\n",
       "      <th>NumCatalogPurchases</th>\n",
       "      <th>NumStorePurchases</th>\n",
       "      <th>NumWebVisitsMonth</th>\n",
       "      <th>AcceptedCmp3</th>\n",
       "      <th>AcceptedCmp4</th>\n",
       "      <th>AcceptedCmp5</th>\n",
       "      <th>AcceptedCmp1</th>\n",
       "      <th>AcceptedCmp2</th>\n",
       "      <th>Complain</th>\n",
       "      <th>Response</th>\n",
       "      <th>age</th>\n",
       "      <th>client_day</th>\n",
       "    </tr>\n",
       "  </thead>\n",
       "  <tbody>\n",
       "    <tr>\n",
       "      <th>0</th>\n",
       "      <td>Graduation</td>\n",
       "      <td>Single</td>\n",
       "      <td>58138.0</td>\n",
       "      <td>0</td>\n",
       "      <td>0</td>\n",
       "      <td>58</td>\n",
       "      <td>635</td>\n",
       "      <td>88</td>\n",
       "      <td>546</td>\n",
       "      <td>172</td>\n",
       "      <td>88</td>\n",
       "      <td>88</td>\n",
       "      <td>3</td>\n",
       "      <td>8</td>\n",
       "      <td>10</td>\n",
       "      <td>4</td>\n",
       "      <td>7</td>\n",
       "      <td>0</td>\n",
       "      <td>0</td>\n",
       "      <td>0</td>\n",
       "      <td>0</td>\n",
       "      <td>0</td>\n",
       "      <td>0</td>\n",
       "      <td>1</td>\n",
       "      <td>66</td>\n",
       "      <td>3878</td>\n",
       "    </tr>\n",
       "    <tr>\n",
       "      <th>1</th>\n",
       "      <td>Graduation</td>\n",
       "      <td>Single</td>\n",
       "      <td>46344.0</td>\n",
       "      <td>1</td>\n",
       "      <td>1</td>\n",
       "      <td>38</td>\n",
       "      <td>11</td>\n",
       "      <td>1</td>\n",
       "      <td>6</td>\n",
       "      <td>2</td>\n",
       "      <td>1</td>\n",
       "      <td>6</td>\n",
       "      <td>2</td>\n",
       "      <td>1</td>\n",
       "      <td>1</td>\n",
       "      <td>2</td>\n",
       "      <td>5</td>\n",
       "      <td>0</td>\n",
       "      <td>0</td>\n",
       "      <td>0</td>\n",
       "      <td>0</td>\n",
       "      <td>0</td>\n",
       "      <td>0</td>\n",
       "      <td>0</td>\n",
       "      <td>69</td>\n",
       "      <td>3328</td>\n",
       "    </tr>\n",
       "    <tr>\n",
       "      <th>2</th>\n",
       "      <td>Graduation</td>\n",
       "      <td>Together</td>\n",
       "      <td>71613.0</td>\n",
       "      <td>0</td>\n",
       "      <td>0</td>\n",
       "      <td>26</td>\n",
       "      <td>426</td>\n",
       "      <td>49</td>\n",
       "      <td>127</td>\n",
       "      <td>111</td>\n",
       "      <td>21</td>\n",
       "      <td>42</td>\n",
       "      <td>1</td>\n",
       "      <td>8</td>\n",
       "      <td>2</td>\n",
       "      <td>10</td>\n",
       "      <td>4</td>\n",
       "      <td>0</td>\n",
       "      <td>0</td>\n",
       "      <td>0</td>\n",
       "      <td>0</td>\n",
       "      <td>0</td>\n",
       "      <td>0</td>\n",
       "      <td>0</td>\n",
       "      <td>58</td>\n",
       "      <td>3527</td>\n",
       "    </tr>\n",
       "    <tr>\n",
       "      <th>3</th>\n",
       "      <td>Graduation</td>\n",
       "      <td>Together</td>\n",
       "      <td>26646.0</td>\n",
       "      <td>1</td>\n",
       "      <td>0</td>\n",
       "      <td>26</td>\n",
       "      <td>11</td>\n",
       "      <td>4</td>\n",
       "      <td>20</td>\n",
       "      <td>10</td>\n",
       "      <td>3</td>\n",
       "      <td>5</td>\n",
       "      <td>2</td>\n",
       "      <td>2</td>\n",
       "      <td>0</td>\n",
       "      <td>4</td>\n",
       "      <td>6</td>\n",
       "      <td>0</td>\n",
       "      <td>0</td>\n",
       "      <td>0</td>\n",
       "      <td>0</td>\n",
       "      <td>0</td>\n",
       "      <td>0</td>\n",
       "      <td>0</td>\n",
       "      <td>39</td>\n",
       "      <td>3354</td>\n",
       "    </tr>\n",
       "    <tr>\n",
       "      <th>4</th>\n",
       "      <td>PhD</td>\n",
       "      <td>Married</td>\n",
       "      <td>58293.0</td>\n",
       "      <td>1</td>\n",
       "      <td>0</td>\n",
       "      <td>94</td>\n",
       "      <td>173</td>\n",
       "      <td>43</td>\n",
       "      <td>118</td>\n",
       "      <td>46</td>\n",
       "      <td>27</td>\n",
       "      <td>15</td>\n",
       "      <td>5</td>\n",
       "      <td>5</td>\n",
       "      <td>3</td>\n",
       "      <td>6</td>\n",
       "      <td>5</td>\n",
       "      <td>0</td>\n",
       "      <td>0</td>\n",
       "      <td>0</td>\n",
       "      <td>0</td>\n",
       "      <td>0</td>\n",
       "      <td>0</td>\n",
       "      <td>0</td>\n",
       "      <td>42</td>\n",
       "      <td>3376</td>\n",
       "    </tr>\n",
       "  </tbody>\n",
       "</table>\n",
       "</div>"
      ],
      "text/plain": [
       "    Education Marital_Status   Income  Kidhome  Teenhome  Recency  MntWines   \n",
       "0  Graduation         Single  58138.0        0         0       58       635  \\\n",
       "1  Graduation         Single  46344.0        1         1       38        11   \n",
       "2  Graduation       Together  71613.0        0         0       26       426   \n",
       "3  Graduation       Together  26646.0        1         0       26        11   \n",
       "4         PhD        Married  58293.0        1         0       94       173   \n",
       "\n",
       "   MntFruits  MntMeatProducts  MntFishProducts  MntSweetProducts   \n",
       "0         88              546              172                88  \\\n",
       "1          1                6                2                 1   \n",
       "2         49              127              111                21   \n",
       "3          4               20               10                 3   \n",
       "4         43              118               46                27   \n",
       "\n",
       "   MntGoldProds  NumDealsPurchases  NumWebPurchases  NumCatalogPurchases   \n",
       "0            88                  3                8                   10  \\\n",
       "1             6                  2                1                    1   \n",
       "2            42                  1                8                    2   \n",
       "3             5                  2                2                    0   \n",
       "4            15                  5                5                    3   \n",
       "\n",
       "   NumStorePurchases  NumWebVisitsMonth  AcceptedCmp3  AcceptedCmp4   \n",
       "0                  4                  7             0             0  \\\n",
       "1                  2                  5             0             0   \n",
       "2                 10                  4             0             0   \n",
       "3                  4                  6             0             0   \n",
       "4                  6                  5             0             0   \n",
       "\n",
       "   AcceptedCmp5  AcceptedCmp1  AcceptedCmp2  Complain  Response  age   \n",
       "0             0             0             0         0         1   66  \\\n",
       "1             0             0             0         0         0   69   \n",
       "2             0             0             0         0         0   58   \n",
       "3             0             0             0         0         0   39   \n",
       "4             0             0             0         0         0   42   \n",
       "\n",
       "   client_day  \n",
       "0        3878  \n",
       "1        3328  \n",
       "2        3527  \n",
       "3        3354  \n",
       "4        3376  "
      ]
     },
     "execution_count": 12,
     "metadata": {},
     "output_type": "execute_result"
    }
   ],
   "source": [
    "data.head(5)"
   ]
  },
  {
   "cell_type": "markdown",
   "metadata": {},
   "source": [
    "Hacer un get dummies"
   ]
  },
  {
   "cell_type": "code",
   "execution_count": 13,
   "metadata": {},
   "outputs": [],
   "source": [
    "data = pd.get_dummies(data)"
   ]
  },
  {
   "cell_type": "markdown",
   "metadata": {},
   "source": [
    "Visualizar data acondicionada y preparada:"
   ]
  },
  {
   "cell_type": "code",
   "execution_count": 14,
   "metadata": {},
   "outputs": [
    {
     "data": {
      "text/html": [
       "<div>\n",
       "<style scoped>\n",
       "    .dataframe tbody tr th:only-of-type {\n",
       "        vertical-align: middle;\n",
       "    }\n",
       "\n",
       "    .dataframe tbody tr th {\n",
       "        vertical-align: top;\n",
       "    }\n",
       "\n",
       "    .dataframe thead th {\n",
       "        text-align: right;\n",
       "    }\n",
       "</style>\n",
       "<table border=\"1\" class=\"dataframe\">\n",
       "  <thead>\n",
       "    <tr style=\"text-align: right;\">\n",
       "      <th></th>\n",
       "      <th>Income</th>\n",
       "      <th>Kidhome</th>\n",
       "      <th>Teenhome</th>\n",
       "      <th>Recency</th>\n",
       "      <th>MntWines</th>\n",
       "      <th>MntFruits</th>\n",
       "      <th>MntMeatProducts</th>\n",
       "      <th>MntFishProducts</th>\n",
       "      <th>MntSweetProducts</th>\n",
       "      <th>MntGoldProds</th>\n",
       "      <th>NumDealsPurchases</th>\n",
       "      <th>NumWebPurchases</th>\n",
       "      <th>NumCatalogPurchases</th>\n",
       "      <th>NumStorePurchases</th>\n",
       "      <th>NumWebVisitsMonth</th>\n",
       "      <th>AcceptedCmp3</th>\n",
       "      <th>AcceptedCmp4</th>\n",
       "      <th>AcceptedCmp5</th>\n",
       "      <th>AcceptedCmp1</th>\n",
       "      <th>AcceptedCmp2</th>\n",
       "      <th>Complain</th>\n",
       "      <th>Response</th>\n",
       "      <th>age</th>\n",
       "      <th>client_day</th>\n",
       "      <th>Education_2n Cycle</th>\n",
       "      <th>Education_Basic</th>\n",
       "      <th>Education_Graduation</th>\n",
       "      <th>Education_Master</th>\n",
       "      <th>Education_PhD</th>\n",
       "      <th>Marital_Status_Absurd</th>\n",
       "      <th>Marital_Status_Alone</th>\n",
       "      <th>Marital_Status_Divorced</th>\n",
       "      <th>Marital_Status_Married</th>\n",
       "      <th>Marital_Status_Single</th>\n",
       "      <th>Marital_Status_Together</th>\n",
       "      <th>Marital_Status_Widow</th>\n",
       "      <th>Marital_Status_YOLO</th>\n",
       "    </tr>\n",
       "  </thead>\n",
       "  <tbody>\n",
       "    <tr>\n",
       "      <th>0</th>\n",
       "      <td>58138.0</td>\n",
       "      <td>0</td>\n",
       "      <td>0</td>\n",
       "      <td>58</td>\n",
       "      <td>635</td>\n",
       "      <td>88</td>\n",
       "      <td>546</td>\n",
       "      <td>172</td>\n",
       "      <td>88</td>\n",
       "      <td>88</td>\n",
       "      <td>3</td>\n",
       "      <td>8</td>\n",
       "      <td>10</td>\n",
       "      <td>4</td>\n",
       "      <td>7</td>\n",
       "      <td>0</td>\n",
       "      <td>0</td>\n",
       "      <td>0</td>\n",
       "      <td>0</td>\n",
       "      <td>0</td>\n",
       "      <td>0</td>\n",
       "      <td>1</td>\n",
       "      <td>66</td>\n",
       "      <td>3878</td>\n",
       "      <td>False</td>\n",
       "      <td>False</td>\n",
       "      <td>True</td>\n",
       "      <td>False</td>\n",
       "      <td>False</td>\n",
       "      <td>False</td>\n",
       "      <td>False</td>\n",
       "      <td>False</td>\n",
       "      <td>False</td>\n",
       "      <td>True</td>\n",
       "      <td>False</td>\n",
       "      <td>False</td>\n",
       "      <td>False</td>\n",
       "    </tr>\n",
       "    <tr>\n",
       "      <th>1</th>\n",
       "      <td>46344.0</td>\n",
       "      <td>1</td>\n",
       "      <td>1</td>\n",
       "      <td>38</td>\n",
       "      <td>11</td>\n",
       "      <td>1</td>\n",
       "      <td>6</td>\n",
       "      <td>2</td>\n",
       "      <td>1</td>\n",
       "      <td>6</td>\n",
       "      <td>2</td>\n",
       "      <td>1</td>\n",
       "      <td>1</td>\n",
       "      <td>2</td>\n",
       "      <td>5</td>\n",
       "      <td>0</td>\n",
       "      <td>0</td>\n",
       "      <td>0</td>\n",
       "      <td>0</td>\n",
       "      <td>0</td>\n",
       "      <td>0</td>\n",
       "      <td>0</td>\n",
       "      <td>69</td>\n",
       "      <td>3328</td>\n",
       "      <td>False</td>\n",
       "      <td>False</td>\n",
       "      <td>True</td>\n",
       "      <td>False</td>\n",
       "      <td>False</td>\n",
       "      <td>False</td>\n",
       "      <td>False</td>\n",
       "      <td>False</td>\n",
       "      <td>False</td>\n",
       "      <td>True</td>\n",
       "      <td>False</td>\n",
       "      <td>False</td>\n",
       "      <td>False</td>\n",
       "    </tr>\n",
       "    <tr>\n",
       "      <th>2</th>\n",
       "      <td>71613.0</td>\n",
       "      <td>0</td>\n",
       "      <td>0</td>\n",
       "      <td>26</td>\n",
       "      <td>426</td>\n",
       "      <td>49</td>\n",
       "      <td>127</td>\n",
       "      <td>111</td>\n",
       "      <td>21</td>\n",
       "      <td>42</td>\n",
       "      <td>1</td>\n",
       "      <td>8</td>\n",
       "      <td>2</td>\n",
       "      <td>10</td>\n",
       "      <td>4</td>\n",
       "      <td>0</td>\n",
       "      <td>0</td>\n",
       "      <td>0</td>\n",
       "      <td>0</td>\n",
       "      <td>0</td>\n",
       "      <td>0</td>\n",
       "      <td>0</td>\n",
       "      <td>58</td>\n",
       "      <td>3527</td>\n",
       "      <td>False</td>\n",
       "      <td>False</td>\n",
       "      <td>True</td>\n",
       "      <td>False</td>\n",
       "      <td>False</td>\n",
       "      <td>False</td>\n",
       "      <td>False</td>\n",
       "      <td>False</td>\n",
       "      <td>False</td>\n",
       "      <td>False</td>\n",
       "      <td>True</td>\n",
       "      <td>False</td>\n",
       "      <td>False</td>\n",
       "    </tr>\n",
       "    <tr>\n",
       "      <th>3</th>\n",
       "      <td>26646.0</td>\n",
       "      <td>1</td>\n",
       "      <td>0</td>\n",
       "      <td>26</td>\n",
       "      <td>11</td>\n",
       "      <td>4</td>\n",
       "      <td>20</td>\n",
       "      <td>10</td>\n",
       "      <td>3</td>\n",
       "      <td>5</td>\n",
       "      <td>2</td>\n",
       "      <td>2</td>\n",
       "      <td>0</td>\n",
       "      <td>4</td>\n",
       "      <td>6</td>\n",
       "      <td>0</td>\n",
       "      <td>0</td>\n",
       "      <td>0</td>\n",
       "      <td>0</td>\n",
       "      <td>0</td>\n",
       "      <td>0</td>\n",
       "      <td>0</td>\n",
       "      <td>39</td>\n",
       "      <td>3354</td>\n",
       "      <td>False</td>\n",
       "      <td>False</td>\n",
       "      <td>True</td>\n",
       "      <td>False</td>\n",
       "      <td>False</td>\n",
       "      <td>False</td>\n",
       "      <td>False</td>\n",
       "      <td>False</td>\n",
       "      <td>False</td>\n",
       "      <td>False</td>\n",
       "      <td>True</td>\n",
       "      <td>False</td>\n",
       "      <td>False</td>\n",
       "    </tr>\n",
       "    <tr>\n",
       "      <th>4</th>\n",
       "      <td>58293.0</td>\n",
       "      <td>1</td>\n",
       "      <td>0</td>\n",
       "      <td>94</td>\n",
       "      <td>173</td>\n",
       "      <td>43</td>\n",
       "      <td>118</td>\n",
       "      <td>46</td>\n",
       "      <td>27</td>\n",
       "      <td>15</td>\n",
       "      <td>5</td>\n",
       "      <td>5</td>\n",
       "      <td>3</td>\n",
       "      <td>6</td>\n",
       "      <td>5</td>\n",
       "      <td>0</td>\n",
       "      <td>0</td>\n",
       "      <td>0</td>\n",
       "      <td>0</td>\n",
       "      <td>0</td>\n",
       "      <td>0</td>\n",
       "      <td>0</td>\n",
       "      <td>42</td>\n",
       "      <td>3376</td>\n",
       "      <td>False</td>\n",
       "      <td>False</td>\n",
       "      <td>False</td>\n",
       "      <td>False</td>\n",
       "      <td>True</td>\n",
       "      <td>False</td>\n",
       "      <td>False</td>\n",
       "      <td>False</td>\n",
       "      <td>True</td>\n",
       "      <td>False</td>\n",
       "      <td>False</td>\n",
       "      <td>False</td>\n",
       "      <td>False</td>\n",
       "    </tr>\n",
       "  </tbody>\n",
       "</table>\n",
       "</div>"
      ],
      "text/plain": [
       "    Income  Kidhome  Teenhome  Recency  MntWines  MntFruits  MntMeatProducts   \n",
       "0  58138.0        0         0       58       635         88              546  \\\n",
       "1  46344.0        1         1       38        11          1                6   \n",
       "2  71613.0        0         0       26       426         49              127   \n",
       "3  26646.0        1         0       26        11          4               20   \n",
       "4  58293.0        1         0       94       173         43              118   \n",
       "\n",
       "   MntFishProducts  MntSweetProducts  MntGoldProds  NumDealsPurchases   \n",
       "0              172                88            88                  3  \\\n",
       "1                2                 1             6                  2   \n",
       "2              111                21            42                  1   \n",
       "3               10                 3             5                  2   \n",
       "4               46                27            15                  5   \n",
       "\n",
       "   NumWebPurchases  NumCatalogPurchases  NumStorePurchases  NumWebVisitsMonth   \n",
       "0                8                   10                  4                  7  \\\n",
       "1                1                    1                  2                  5   \n",
       "2                8                    2                 10                  4   \n",
       "3                2                    0                  4                  6   \n",
       "4                5                    3                  6                  5   \n",
       "\n",
       "   AcceptedCmp3  AcceptedCmp4  AcceptedCmp5  AcceptedCmp1  AcceptedCmp2   \n",
       "0             0             0             0             0             0  \\\n",
       "1             0             0             0             0             0   \n",
       "2             0             0             0             0             0   \n",
       "3             0             0             0             0             0   \n",
       "4             0             0             0             0             0   \n",
       "\n",
       "   Complain  Response  age  client_day  Education_2n Cycle  Education_Basic   \n",
       "0         0         1   66        3878               False            False  \\\n",
       "1         0         0   69        3328               False            False   \n",
       "2         0         0   58        3527               False            False   \n",
       "3         0         0   39        3354               False            False   \n",
       "4         0         0   42        3376               False            False   \n",
       "\n",
       "   Education_Graduation  Education_Master  Education_PhD   \n",
       "0                  True             False          False  \\\n",
       "1                  True             False          False   \n",
       "2                  True             False          False   \n",
       "3                  True             False          False   \n",
       "4                 False             False           True   \n",
       "\n",
       "   Marital_Status_Absurd  Marital_Status_Alone  Marital_Status_Divorced   \n",
       "0                  False                 False                    False  \\\n",
       "1                  False                 False                    False   \n",
       "2                  False                 False                    False   \n",
       "3                  False                 False                    False   \n",
       "4                  False                 False                    False   \n",
       "\n",
       "   Marital_Status_Married  Marital_Status_Single  Marital_Status_Together   \n",
       "0                   False                   True                    False  \\\n",
       "1                   False                   True                    False   \n",
       "2                   False                  False                     True   \n",
       "3                   False                  False                     True   \n",
       "4                    True                  False                    False   \n",
       "\n",
       "   Marital_Status_Widow  Marital_Status_YOLO  \n",
       "0                 False                False  \n",
       "1                 False                False  \n",
       "2                 False                False  \n",
       "3                 False                False  \n",
       "4                 False                False  "
      ]
     },
     "execution_count": 14,
     "metadata": {},
     "output_type": "execute_result"
    }
   ],
   "source": [
    "data.head(5)"
   ]
  },
  {
   "cell_type": "code",
   "execution_count": 15,
   "metadata": {},
   "outputs": [
    {
     "data": {
      "text/html": [
       "<div>\n",
       "<style scoped>\n",
       "    .dataframe tbody tr th:only-of-type {\n",
       "        vertical-align: middle;\n",
       "    }\n",
       "\n",
       "    .dataframe tbody tr th {\n",
       "        vertical-align: top;\n",
       "    }\n",
       "\n",
       "    .dataframe thead th {\n",
       "        text-align: right;\n",
       "    }\n",
       "</style>\n",
       "<table border=\"1\" class=\"dataframe\">\n",
       "  <thead>\n",
       "    <tr style=\"text-align: right;\">\n",
       "      <th></th>\n",
       "      <th>variable</th>\n",
       "      <th>q_nan</th>\n",
       "      <th>p_nan</th>\n",
       "      <th>q_zeros</th>\n",
       "      <th>p_zeros</th>\n",
       "      <th>unique</th>\n",
       "      <th>type</th>\n",
       "    </tr>\n",
       "  </thead>\n",
       "  <tbody>\n",
       "    <tr>\n",
       "      <th>0</th>\n",
       "      <td>Income</td>\n",
       "      <td>0</td>\n",
       "      <td>0.0</td>\n",
       "      <td>0</td>\n",
       "      <td>0.000000</td>\n",
       "      <td>1974</td>\n",
       "      <td>float64</td>\n",
       "    </tr>\n",
       "    <tr>\n",
       "      <th>1</th>\n",
       "      <td>Kidhome</td>\n",
       "      <td>0</td>\n",
       "      <td>0.0</td>\n",
       "      <td>1283</td>\n",
       "      <td>0.578971</td>\n",
       "      <td>3</td>\n",
       "      <td>int64</td>\n",
       "    </tr>\n",
       "    <tr>\n",
       "      <th>2</th>\n",
       "      <td>Teenhome</td>\n",
       "      <td>0</td>\n",
       "      <td>0.0</td>\n",
       "      <td>1147</td>\n",
       "      <td>0.517599</td>\n",
       "      <td>3</td>\n",
       "      <td>int64</td>\n",
       "    </tr>\n",
       "    <tr>\n",
       "      <th>3</th>\n",
       "      <td>Recency</td>\n",
       "      <td>0</td>\n",
       "      <td>0.0</td>\n",
       "      <td>28</td>\n",
       "      <td>0.012635</td>\n",
       "      <td>100</td>\n",
       "      <td>int64</td>\n",
       "    </tr>\n",
       "    <tr>\n",
       "      <th>4</th>\n",
       "      <td>MntWines</td>\n",
       "      <td>0</td>\n",
       "      <td>0.0</td>\n",
       "      <td>13</td>\n",
       "      <td>0.005866</td>\n",
       "      <td>776</td>\n",
       "      <td>int64</td>\n",
       "    </tr>\n",
       "    <tr>\n",
       "      <th>5</th>\n",
       "      <td>MntFruits</td>\n",
       "      <td>0</td>\n",
       "      <td>0.0</td>\n",
       "      <td>395</td>\n",
       "      <td>0.178249</td>\n",
       "      <td>158</td>\n",
       "      <td>int64</td>\n",
       "    </tr>\n",
       "    <tr>\n",
       "      <th>6</th>\n",
       "      <td>MntMeatProducts</td>\n",
       "      <td>0</td>\n",
       "      <td>0.0</td>\n",
       "      <td>1</td>\n",
       "      <td>0.000451</td>\n",
       "      <td>554</td>\n",
       "      <td>int64</td>\n",
       "    </tr>\n",
       "    <tr>\n",
       "      <th>7</th>\n",
       "      <td>MntFishProducts</td>\n",
       "      <td>0</td>\n",
       "      <td>0.0</td>\n",
       "      <td>379</td>\n",
       "      <td>0.171029</td>\n",
       "      <td>182</td>\n",
       "      <td>int64</td>\n",
       "    </tr>\n",
       "    <tr>\n",
       "      <th>8</th>\n",
       "      <td>MntSweetProducts</td>\n",
       "      <td>0</td>\n",
       "      <td>0.0</td>\n",
       "      <td>413</td>\n",
       "      <td>0.186372</td>\n",
       "      <td>176</td>\n",
       "      <td>int64</td>\n",
       "    </tr>\n",
       "    <tr>\n",
       "      <th>9</th>\n",
       "      <td>MntGoldProds</td>\n",
       "      <td>0</td>\n",
       "      <td>0.0</td>\n",
       "      <td>61</td>\n",
       "      <td>0.027527</td>\n",
       "      <td>212</td>\n",
       "      <td>int64</td>\n",
       "    </tr>\n",
       "    <tr>\n",
       "      <th>10</th>\n",
       "      <td>NumDealsPurchases</td>\n",
       "      <td>0</td>\n",
       "      <td>0.0</td>\n",
       "      <td>44</td>\n",
       "      <td>0.019856</td>\n",
       "      <td>15</td>\n",
       "      <td>int64</td>\n",
       "    </tr>\n",
       "    <tr>\n",
       "      <th>11</th>\n",
       "      <td>NumWebPurchases</td>\n",
       "      <td>0</td>\n",
       "      <td>0.0</td>\n",
       "      <td>48</td>\n",
       "      <td>0.021661</td>\n",
       "      <td>15</td>\n",
       "      <td>int64</td>\n",
       "    </tr>\n",
       "    <tr>\n",
       "      <th>12</th>\n",
       "      <td>NumCatalogPurchases</td>\n",
       "      <td>0</td>\n",
       "      <td>0.0</td>\n",
       "      <td>576</td>\n",
       "      <td>0.259928</td>\n",
       "      <td>14</td>\n",
       "      <td>int64</td>\n",
       "    </tr>\n",
       "    <tr>\n",
       "      <th>13</th>\n",
       "      <td>NumStorePurchases</td>\n",
       "      <td>0</td>\n",
       "      <td>0.0</td>\n",
       "      <td>14</td>\n",
       "      <td>0.006318</td>\n",
       "      <td>14</td>\n",
       "      <td>int64</td>\n",
       "    </tr>\n",
       "    <tr>\n",
       "      <th>14</th>\n",
       "      <td>NumWebVisitsMonth</td>\n",
       "      <td>0</td>\n",
       "      <td>0.0</td>\n",
       "      <td>10</td>\n",
       "      <td>0.004513</td>\n",
       "      <td>16</td>\n",
       "      <td>int64</td>\n",
       "    </tr>\n",
       "    <tr>\n",
       "      <th>15</th>\n",
       "      <td>AcceptedCmp3</td>\n",
       "      <td>0</td>\n",
       "      <td>0.0</td>\n",
       "      <td>2053</td>\n",
       "      <td>0.926444</td>\n",
       "      <td>2</td>\n",
       "      <td>int64</td>\n",
       "    </tr>\n",
       "    <tr>\n",
       "      <th>16</th>\n",
       "      <td>AcceptedCmp4</td>\n",
       "      <td>0</td>\n",
       "      <td>0.0</td>\n",
       "      <td>2052</td>\n",
       "      <td>0.925993</td>\n",
       "      <td>2</td>\n",
       "      <td>int64</td>\n",
       "    </tr>\n",
       "    <tr>\n",
       "      <th>17</th>\n",
       "      <td>AcceptedCmp5</td>\n",
       "      <td>0</td>\n",
       "      <td>0.0</td>\n",
       "      <td>2054</td>\n",
       "      <td>0.926895</td>\n",
       "      <td>2</td>\n",
       "      <td>int64</td>\n",
       "    </tr>\n",
       "    <tr>\n",
       "      <th>18</th>\n",
       "      <td>AcceptedCmp1</td>\n",
       "      <td>0</td>\n",
       "      <td>0.0</td>\n",
       "      <td>2074</td>\n",
       "      <td>0.935921</td>\n",
       "      <td>2</td>\n",
       "      <td>int64</td>\n",
       "    </tr>\n",
       "    <tr>\n",
       "      <th>19</th>\n",
       "      <td>AcceptedCmp2</td>\n",
       "      <td>0</td>\n",
       "      <td>0.0</td>\n",
       "      <td>2186</td>\n",
       "      <td>0.986462</td>\n",
       "      <td>2</td>\n",
       "      <td>int64</td>\n",
       "    </tr>\n",
       "    <tr>\n",
       "      <th>20</th>\n",
       "      <td>Complain</td>\n",
       "      <td>0</td>\n",
       "      <td>0.0</td>\n",
       "      <td>2195</td>\n",
       "      <td>0.990523</td>\n",
       "      <td>2</td>\n",
       "      <td>int64</td>\n",
       "    </tr>\n",
       "    <tr>\n",
       "      <th>21</th>\n",
       "      <td>Response</td>\n",
       "      <td>0</td>\n",
       "      <td>0.0</td>\n",
       "      <td>1883</td>\n",
       "      <td>0.849729</td>\n",
       "      <td>2</td>\n",
       "      <td>int64</td>\n",
       "    </tr>\n",
       "    <tr>\n",
       "      <th>22</th>\n",
       "      <td>age</td>\n",
       "      <td>0</td>\n",
       "      <td>0.0</td>\n",
       "      <td>0</td>\n",
       "      <td>0.000000</td>\n",
       "      <td>59</td>\n",
       "      <td>int64</td>\n",
       "    </tr>\n",
       "    <tr>\n",
       "      <th>23</th>\n",
       "      <td>client_day</td>\n",
       "      <td>0</td>\n",
       "      <td>0.0</td>\n",
       "      <td>0</td>\n",
       "      <td>0.000000</td>\n",
       "      <td>662</td>\n",
       "      <td>int32</td>\n",
       "    </tr>\n",
       "    <tr>\n",
       "      <th>24</th>\n",
       "      <td>Education_2n Cycle</td>\n",
       "      <td>0</td>\n",
       "      <td>0.0</td>\n",
       "      <td>2016</td>\n",
       "      <td>0.909747</td>\n",
       "      <td>2</td>\n",
       "      <td>bool</td>\n",
       "    </tr>\n",
       "    <tr>\n",
       "      <th>25</th>\n",
       "      <td>Education_Basic</td>\n",
       "      <td>0</td>\n",
       "      <td>0.0</td>\n",
       "      <td>2162</td>\n",
       "      <td>0.975632</td>\n",
       "      <td>2</td>\n",
       "      <td>bool</td>\n",
       "    </tr>\n",
       "    <tr>\n",
       "      <th>26</th>\n",
       "      <td>Education_Graduation</td>\n",
       "      <td>0</td>\n",
       "      <td>0.0</td>\n",
       "      <td>1100</td>\n",
       "      <td>0.496390</td>\n",
       "      <td>2</td>\n",
       "      <td>bool</td>\n",
       "    </tr>\n",
       "    <tr>\n",
       "      <th>27</th>\n",
       "      <td>Education_Master</td>\n",
       "      <td>0</td>\n",
       "      <td>0.0</td>\n",
       "      <td>1851</td>\n",
       "      <td>0.835289</td>\n",
       "      <td>2</td>\n",
       "      <td>bool</td>\n",
       "    </tr>\n",
       "    <tr>\n",
       "      <th>28</th>\n",
       "      <td>Education_PhD</td>\n",
       "      <td>0</td>\n",
       "      <td>0.0</td>\n",
       "      <td>1735</td>\n",
       "      <td>0.782942</td>\n",
       "      <td>2</td>\n",
       "      <td>bool</td>\n",
       "    </tr>\n",
       "    <tr>\n",
       "      <th>29</th>\n",
       "      <td>Marital_Status_Absurd</td>\n",
       "      <td>0</td>\n",
       "      <td>0.0</td>\n",
       "      <td>2214</td>\n",
       "      <td>0.999097</td>\n",
       "      <td>2</td>\n",
       "      <td>bool</td>\n",
       "    </tr>\n",
       "    <tr>\n",
       "      <th>30</th>\n",
       "      <td>Marital_Status_Alone</td>\n",
       "      <td>0</td>\n",
       "      <td>0.0</td>\n",
       "      <td>2213</td>\n",
       "      <td>0.998646</td>\n",
       "      <td>2</td>\n",
       "      <td>bool</td>\n",
       "    </tr>\n",
       "    <tr>\n",
       "      <th>31</th>\n",
       "      <td>Marital_Status_Divorced</td>\n",
       "      <td>0</td>\n",
       "      <td>0.0</td>\n",
       "      <td>1984</td>\n",
       "      <td>0.895307</td>\n",
       "      <td>2</td>\n",
       "      <td>bool</td>\n",
       "    </tr>\n",
       "    <tr>\n",
       "      <th>32</th>\n",
       "      <td>Marital_Status_Married</td>\n",
       "      <td>0</td>\n",
       "      <td>0.0</td>\n",
       "      <td>1359</td>\n",
       "      <td>0.613267</td>\n",
       "      <td>2</td>\n",
       "      <td>bool</td>\n",
       "    </tr>\n",
       "    <tr>\n",
       "      <th>33</th>\n",
       "      <td>Marital_Status_Single</td>\n",
       "      <td>0</td>\n",
       "      <td>0.0</td>\n",
       "      <td>1745</td>\n",
       "      <td>0.787455</td>\n",
       "      <td>2</td>\n",
       "      <td>bool</td>\n",
       "    </tr>\n",
       "    <tr>\n",
       "      <th>34</th>\n",
       "      <td>Marital_Status_Together</td>\n",
       "      <td>0</td>\n",
       "      <td>0.0</td>\n",
       "      <td>1643</td>\n",
       "      <td>0.741426</td>\n",
       "      <td>2</td>\n",
       "      <td>bool</td>\n",
       "    </tr>\n",
       "    <tr>\n",
       "      <th>35</th>\n",
       "      <td>Marital_Status_Widow</td>\n",
       "      <td>0</td>\n",
       "      <td>0.0</td>\n",
       "      <td>2140</td>\n",
       "      <td>0.965704</td>\n",
       "      <td>2</td>\n",
       "      <td>bool</td>\n",
       "    </tr>\n",
       "    <tr>\n",
       "      <th>36</th>\n",
       "      <td>Marital_Status_YOLO</td>\n",
       "      <td>0</td>\n",
       "      <td>0.0</td>\n",
       "      <td>2214</td>\n",
       "      <td>0.999097</td>\n",
       "      <td>2</td>\n",
       "      <td>bool</td>\n",
       "    </tr>\n",
       "  </tbody>\n",
       "</table>\n",
       "</div>"
      ],
      "text/plain": [
       "                   variable  q_nan  p_nan  q_zeros   p_zeros  unique     type\n",
       "0                    Income      0    0.0        0  0.000000    1974  float64\n",
       "1                   Kidhome      0    0.0     1283  0.578971       3    int64\n",
       "2                  Teenhome      0    0.0     1147  0.517599       3    int64\n",
       "3                   Recency      0    0.0       28  0.012635     100    int64\n",
       "4                  MntWines      0    0.0       13  0.005866     776    int64\n",
       "5                 MntFruits      0    0.0      395  0.178249     158    int64\n",
       "6           MntMeatProducts      0    0.0        1  0.000451     554    int64\n",
       "7           MntFishProducts      0    0.0      379  0.171029     182    int64\n",
       "8          MntSweetProducts      0    0.0      413  0.186372     176    int64\n",
       "9              MntGoldProds      0    0.0       61  0.027527     212    int64\n",
       "10        NumDealsPurchases      0    0.0       44  0.019856      15    int64\n",
       "11          NumWebPurchases      0    0.0       48  0.021661      15    int64\n",
       "12      NumCatalogPurchases      0    0.0      576  0.259928      14    int64\n",
       "13        NumStorePurchases      0    0.0       14  0.006318      14    int64\n",
       "14        NumWebVisitsMonth      0    0.0       10  0.004513      16    int64\n",
       "15             AcceptedCmp3      0    0.0     2053  0.926444       2    int64\n",
       "16             AcceptedCmp4      0    0.0     2052  0.925993       2    int64\n",
       "17             AcceptedCmp5      0    0.0     2054  0.926895       2    int64\n",
       "18             AcceptedCmp1      0    0.0     2074  0.935921       2    int64\n",
       "19             AcceptedCmp2      0    0.0     2186  0.986462       2    int64\n",
       "20                 Complain      0    0.0     2195  0.990523       2    int64\n",
       "21                 Response      0    0.0     1883  0.849729       2    int64\n",
       "22                      age      0    0.0        0  0.000000      59    int64\n",
       "23               client_day      0    0.0        0  0.000000     662    int32\n",
       "24       Education_2n Cycle      0    0.0     2016  0.909747       2     bool\n",
       "25          Education_Basic      0    0.0     2162  0.975632       2     bool\n",
       "26     Education_Graduation      0    0.0     1100  0.496390       2     bool\n",
       "27         Education_Master      0    0.0     1851  0.835289       2     bool\n",
       "28            Education_PhD      0    0.0     1735  0.782942       2     bool\n",
       "29    Marital_Status_Absurd      0    0.0     2214  0.999097       2     bool\n",
       "30     Marital_Status_Alone      0    0.0     2213  0.998646       2     bool\n",
       "31  Marital_Status_Divorced      0    0.0     1984  0.895307       2     bool\n",
       "32   Marital_Status_Married      0    0.0     1359  0.613267       2     bool\n",
       "33    Marital_Status_Single      0    0.0     1745  0.787455       2     bool\n",
       "34  Marital_Status_Together      0    0.0     1643  0.741426       2     bool\n",
       "35     Marital_Status_Widow      0    0.0     2140  0.965704       2     bool\n",
       "36      Marital_Status_YOLO      0    0.0     2214  0.999097       2     bool"
      ]
     },
     "execution_count": 15,
     "metadata": {},
     "output_type": "execute_result"
    }
   ],
   "source": [
    "status(data)"
   ]
  },
  {
   "cell_type": "markdown",
   "metadata": {},
   "source": [
    "# 3) Clasificación 🎯"
   ]
  },
  {
   "cell_type": "markdown",
   "metadata": {},
   "source": [
    "## 3.1) Separación de X de Y, y luego TR de TS (rutina):"
   ]
  },
  {
   "cell_type": "code",
   "execution_count": 16,
   "metadata": {},
   "outputs": [],
   "source": [
    "data_x = data.drop('Response', axis=1)\n",
    "data_y = data['Response']"
   ]
  },
  {
   "cell_type": "markdown",
   "metadata": {},
   "source": [
    "Nos quedamos solo con los valores del dataframe"
   ]
  },
  {
   "cell_type": "code",
   "execution_count": 17,
   "metadata": {},
   "outputs": [],
   "source": [
    "data_x = data_x.values\n",
    "data_y = data_y.values"
   ]
  },
  {
   "cell_type": "code",
   "execution_count": 18,
   "metadata": {},
   "outputs": [],
   "source": [
    "from sklearn.model_selection import train_test_split\n",
    "\n",
    "x_train, x_test, y_train, y_test = train_test_split(data_x, data_y, test_size=0.3)"
   ]
  },
  {
   "cell_type": "markdown",
   "metadata": {},
   "source": [
    "## 3.2) Creación del modelo predictivo"
   ]
  },
  {
   "cell_type": "code",
   "execution_count": 19,
   "metadata": {},
   "outputs": [],
   "source": [
    "from sklearn.ensemble import RandomForestClassifier \n",
    "\n",
    "# Creamos 1000 decision trees\n",
    "rf = RandomForestClassifier(n_estimators = 1000, random_state = 42)"
   ]
  },
  {
   "cell_type": "code",
   "execution_count": 20,
   "metadata": {},
   "outputs": [
    {
     "data": {
      "text/html": [
       "<style>#sk-container-id-1 {color: black;background-color: white;}#sk-container-id-1 pre{padding: 0;}#sk-container-id-1 div.sk-toggleable {background-color: white;}#sk-container-id-1 label.sk-toggleable__label {cursor: pointer;display: block;width: 100%;margin-bottom: 0;padding: 0.3em;box-sizing: border-box;text-align: center;}#sk-container-id-1 label.sk-toggleable__label-arrow:before {content: \"▸\";float: left;margin-right: 0.25em;color: #696969;}#sk-container-id-1 label.sk-toggleable__label-arrow:hover:before {color: black;}#sk-container-id-1 div.sk-estimator:hover label.sk-toggleable__label-arrow:before {color: black;}#sk-container-id-1 div.sk-toggleable__content {max-height: 0;max-width: 0;overflow: hidden;text-align: left;background-color: #f0f8ff;}#sk-container-id-1 div.sk-toggleable__content pre {margin: 0.2em;color: black;border-radius: 0.25em;background-color: #f0f8ff;}#sk-container-id-1 input.sk-toggleable__control:checked~div.sk-toggleable__content {max-height: 200px;max-width: 100%;overflow: auto;}#sk-container-id-1 input.sk-toggleable__control:checked~label.sk-toggleable__label-arrow:before {content: \"▾\";}#sk-container-id-1 div.sk-estimator input.sk-toggleable__control:checked~label.sk-toggleable__label {background-color: #d4ebff;}#sk-container-id-1 div.sk-label input.sk-toggleable__control:checked~label.sk-toggleable__label {background-color: #d4ebff;}#sk-container-id-1 input.sk-hidden--visually {border: 0;clip: rect(1px 1px 1px 1px);clip: rect(1px, 1px, 1px, 1px);height: 1px;margin: -1px;overflow: hidden;padding: 0;position: absolute;width: 1px;}#sk-container-id-1 div.sk-estimator {font-family: monospace;background-color: #f0f8ff;border: 1px dotted black;border-radius: 0.25em;box-sizing: border-box;margin-bottom: 0.5em;}#sk-container-id-1 div.sk-estimator:hover {background-color: #d4ebff;}#sk-container-id-1 div.sk-parallel-item::after {content: \"\";width: 100%;border-bottom: 1px solid gray;flex-grow: 1;}#sk-container-id-1 div.sk-label:hover label.sk-toggleable__label {background-color: #d4ebff;}#sk-container-id-1 div.sk-serial::before {content: \"\";position: absolute;border-left: 1px solid gray;box-sizing: border-box;top: 0;bottom: 0;left: 50%;z-index: 0;}#sk-container-id-1 div.sk-serial {display: flex;flex-direction: column;align-items: center;background-color: white;padding-right: 0.2em;padding-left: 0.2em;position: relative;}#sk-container-id-1 div.sk-item {position: relative;z-index: 1;}#sk-container-id-1 div.sk-parallel {display: flex;align-items: stretch;justify-content: center;background-color: white;position: relative;}#sk-container-id-1 div.sk-item::before, #sk-container-id-1 div.sk-parallel-item::before {content: \"\";position: absolute;border-left: 1px solid gray;box-sizing: border-box;top: 0;bottom: 0;left: 50%;z-index: -1;}#sk-container-id-1 div.sk-parallel-item {display: flex;flex-direction: column;z-index: 1;position: relative;background-color: white;}#sk-container-id-1 div.sk-parallel-item:first-child::after {align-self: flex-end;width: 50%;}#sk-container-id-1 div.sk-parallel-item:last-child::after {align-self: flex-start;width: 50%;}#sk-container-id-1 div.sk-parallel-item:only-child::after {width: 0;}#sk-container-id-1 div.sk-dashed-wrapped {border: 1px dashed gray;margin: 0 0.4em 0.5em 0.4em;box-sizing: border-box;padding-bottom: 0.4em;background-color: white;}#sk-container-id-1 div.sk-label label {font-family: monospace;font-weight: bold;display: inline-block;line-height: 1.2em;}#sk-container-id-1 div.sk-label-container {text-align: center;}#sk-container-id-1 div.sk-container {/* jupyter's `normalize.less` sets `[hidden] { display: none; }` but bootstrap.min.css set `[hidden] { display: none !important; }` so we also need the `!important` here to be able to override the default hidden behavior on the sphinx rendered scikit-learn.org. See: https://github.com/scikit-learn/scikit-learn/issues/21755 */display: inline-block !important;position: relative;}#sk-container-id-1 div.sk-text-repr-fallback {display: none;}</style><div id=\"sk-container-id-1\" class=\"sk-top-container\"><div class=\"sk-text-repr-fallback\"><pre>RandomForestClassifier(n_estimators=1000, random_state=42)</pre><b>In a Jupyter environment, please rerun this cell to show the HTML representation or trust the notebook. <br />On GitHub, the HTML representation is unable to render, please try loading this page with nbviewer.org.</b></div><div class=\"sk-container\" hidden><div class=\"sk-item\"><div class=\"sk-estimator sk-toggleable\"><input class=\"sk-toggleable__control sk-hidden--visually\" id=\"sk-estimator-id-1\" type=\"checkbox\" checked><label for=\"sk-estimator-id-1\" class=\"sk-toggleable__label sk-toggleable__label-arrow\">RandomForestClassifier</label><div class=\"sk-toggleable__content\"><pre>RandomForestClassifier(n_estimators=1000, random_state=42)</pre></div></div></div></div></div>"
      ],
      "text/plain": [
       "RandomForestClassifier(n_estimators=1000, random_state=42)"
      ]
     },
     "execution_count": 20,
     "metadata": {},
     "output_type": "execute_result"
    }
   ],
   "source": [
    "rf.fit(x_train, y_train)"
   ]
  },
  {
   "cell_type": "markdown",
   "metadata": {},
   "source": [
    "## 3.3) Predicción de la clase y score"
   ]
  },
  {
   "cell_type": "code",
   "execution_count": 21,
   "metadata": {},
   "outputs": [
    {
     "data": {
      "text/plain": [
       "array([0, 0, 0, ..., 0, 0, 0], dtype=int64)"
      ]
     },
     "execution_count": 21,
     "metadata": {},
     "output_type": "execute_result"
    }
   ],
   "source": [
    "rf.predict(x_train)"
   ]
  },
  {
   "cell_type": "code",
   "execution_count": 22,
   "metadata": {},
   "outputs": [],
   "source": [
    "pred_probs=rf.predict_proba(x_train)"
   ]
  },
  {
   "cell_type": "code",
   "execution_count": 23,
   "metadata": {},
   "outputs": [
    {
     "data": {
      "text/plain": [
       "array([[0.96833333, 0.03166667],\n",
       "       [0.987     , 0.013     ],\n",
       "       [0.988     , 0.012     ],\n",
       "       ...,\n",
       "       [0.99733333, 0.00266667],\n",
       "       [1.        , 0.        ],\n",
       "       [1.        , 0.        ]])"
      ]
     },
     "execution_count": 23,
     "metadata": {},
     "output_type": "execute_result"
    }
   ],
   "source": [
    "pred_probs"
   ]
  },
  {
   "cell_type": "code",
   "execution_count": 24,
   "metadata": {},
   "outputs": [],
   "source": [
    "y_prob_tr=pred_probs[:,1]"
   ]
  },
  {
   "cell_type": "code",
   "execution_count": 25,
   "metadata": {},
   "outputs": [
    {
     "data": {
      "text/plain": [
       "array([0.03166667, 0.013     , 0.012     , ..., 0.00266667, 0.        ,\n",
       "       0.        ])"
      ]
     },
     "execution_count": 25,
     "metadata": {},
     "output_type": "execute_result"
    }
   ],
   "source": [
    "y_prob_tr"
   ]
  },
  {
   "cell_type": "markdown",
   "metadata": {},
   "source": [
    "Lo que sigue:\n",
    "    \n",
    "- Matriz de confusión (MC) default (con sklearn)\n",
    "- MC con crosstab\n",
    "- Cambiar el punto de corte y graficar la MC\n",
    "- Comparar antes y después de MC\n",
    "- Función para \"encontrar\" punto de corte\n",
    "- Curva ROC"
   ]
  },
  {
   "cell_type": "markdown",
   "metadata": {},
   "source": [
    "## 3.4) Matriz de confusión"
   ]
  },
  {
   "cell_type": "code",
   "execution_count": 26,
   "metadata": {},
   "outputs": [],
   "source": [
    "# atención, asume 0.5 como punto de corte\n",
    "from sklearn.metrics import ConfusionMatrixDisplay"
   ]
  },
  {
   "cell_type": "markdown",
   "metadata": {},
   "source": [
    "Sino se los toma, actualicen la librería: `!pip install --upgrade scikit-learn`"
   ]
  },
  {
   "cell_type": "markdown",
   "metadata": {},
   "source": [
    "Vamos a usar directamente el que grafica porque incluye la matriz original"
   ]
  },
  {
   "cell_type": "markdown",
   "metadata": {},
   "source": [
    "### a) Valores absolutos:"
   ]
  },
  {
   "cell_type": "code",
   "execution_count": 27,
   "metadata": {},
   "outputs": [],
   "source": [
    "import seaborn as sns"
   ]
  },
  {
   "cell_type": "code",
   "execution_count": 28,
   "metadata": {},
   "outputs": [
    {
     "data": {
      "text/plain": [
       "<sklearn.metrics._plot.confusion_matrix.ConfusionMatrixDisplay at 0x1b345e92e80>"
      ]
     },
     "execution_count": 28,
     "metadata": {},
     "output_type": "execute_result"
    },
    {
     "data": {
      "image/png": "[encoded data removed]",
      "text/plain": [
       "<Figure size 432x288 with 2 Axes>"
      ]
     },
     "metadata": {},
     "output_type": "display_data"
    }
   ],
   "source": [
    "sns.set(font_scale=1.2) #  Ajuste tamaño de letra (var global)\n",
    "\n",
    "ConfusionMatrixDisplay.from_estimator(\n",
    "    rf, x_train, y_train,\n",
    "    display_labels=['no','si'],\n",
    "    cmap='Blues',\n",
    "    )"
   ]
  },
  {
   "cell_type": "markdown",
   "metadata": {},
   "source": [
    "### b) Normalizando por fila:"
   ]
  },
  {
   "cell_type": "code",
   "execution_count": 29,
   "metadata": {},
   "outputs": [
    {
     "data": {
      "text/plain": [
       "<sklearn.metrics._plot.confusion_matrix.ConfusionMatrixDisplay at 0x1b34b4e8ca0>"
      ]
     },
     "execution_count": 29,
     "metadata": {},
     "output_type": "execute_result"
    },
    {
     "data": {
      "image/png": "[encoded data removed]",
      "text/plain": [
       "<Figure size 432x288 with 2 Axes>"
      ]
     },
     "metadata": {},
     "output_type": "display_data"
    }
   ],
   "source": [
    "sns.set(font_scale=1.2) #  Ajuste tamaño de letra (var global)\n",
    "\n",
    "ConfusionMatrixDisplay.from_estimator(\n",
    "    rf, x_train, y_train,\n",
    "    display_labels=['no','si'],\n",
    "    cmap='Blues',\n",
    "    normalize='true',\n",
    "    )"
   ]
  },
  {
   "cell_type": "markdown",
   "metadata": {},
   "source": [
    "### c) No permite variar el punto de corte, entonces:"
   ]
  },
  {
   "cell_type": "code",
   "execution_count": 30,
   "metadata": {},
   "outputs": [
    {
     "data": {
      "text/plain": [
       "<AxesSubplot:xlabel='Pred', ylabel='Actual'>"
      ]
     },
     "execution_count": 30,
     "metadata": {},
     "output_type": "execute_result"
    },
    {
     "data": {
      "image/png": "[encoded data removed]",
      "text/plain": [
       "<Figure size 432x288 with 2 Axes>"
      ]
     },
     "metadata": {},
     "output_type": "display_data"
    }
   ],
   "source": [
    "y_pred1=rf.predict(x_train)\n",
    "\n",
    "sns.set(font_scale=1.5)                 # Ajuste tamaño de letra (var global)\n",
    "conf_mat1=pd.crosstab(index=y_train,    # filas = valor real\n",
    "                     columns=y_pred1,   # columnas = valor predicho\n",
    "                     rownames=['Actual'], \n",
    "                     colnames=['Pred'], \n",
    "                     normalize='index')\n",
    "\n",
    "sns.heatmap(conf_mat1, annot=True, cmap='Blues', fmt='g')"
   ]
  },
  {
   "cell_type": "markdown",
   "metadata": {},
   "source": [
    "### d) Seteo del punto de corte"
   ]
  },
  {
   "cell_type": "code",
   "execution_count": 31,
   "metadata": {},
   "outputs": [
    {
     "data": {
      "text/plain": [
       "array([0.03166667, 0.013     , 0.012     , ..., 0.00266667, 0.        ,\n",
       "       0.        ])"
      ]
     },
     "execution_count": 31,
     "metadata": {},
     "output_type": "execute_result"
    }
   ],
   "source": [
    "y_prob_tr"
   ]
  },
  {
   "cell_type": "markdown",
   "metadata": {},
   "source": [
    "### ¡Importante! Elección de un punto de corte"
   ]
  },
  {
   "cell_type": "markdown",
   "metadata": {},
   "source": [
    "La primer opción es un punto que sea mayor al promedio."
   ]
  },
  {
   "cell_type": "code",
   "execution_count": 32,
   "metadata": {},
   "outputs": [
    {
     "data": {
      "text/plain": [
       "0.15651118863406094"
      ]
     },
     "execution_count": 32,
     "metadata": {},
     "output_type": "execute_result"
    }
   ],
   "source": [
    "y_prob_tr.mean()"
   ]
  },
  {
   "cell_type": "markdown",
   "metadata": {},
   "source": [
    "Creamos el label 🦾"
   ]
  },
  {
   "cell_type": "code",
   "execution_count": 33,
   "metadata": {},
   "outputs": [
    {
     "data": {
      "text/plain": [
       "array(['no', 'no', 'no', ..., 'no', 'no', 'no'], dtype='<U2')"
      ]
     },
     "execution_count": 33,
     "metadata": {},
     "output_type": "execute_result"
    }
   ],
   "source": [
    "import numpy as np\n",
    "np.where(y_prob_tr > 0.15, \"si\", \"no\")"
   ]
  },
  {
   "cell_type": "markdown",
   "metadata": {},
   "source": [
    "Lo asignamos..."
   ]
  },
  {
   "cell_type": "code",
   "execution_count": 34,
   "metadata": {},
   "outputs": [],
   "source": [
    "y_pred2=np.where(y_prob_tr > 0.15, 1, 0)"
   ]
  },
  {
   "cell_type": "code",
   "execution_count": 35,
   "metadata": {},
   "outputs": [
    {
     "data": {
      "text/plain": [
       "array([0, 0, 0, ..., 0, 0, 0])"
      ]
     },
     "execution_count": 35,
     "metadata": {},
     "output_type": "execute_result"
    }
   ],
   "source": [
    "y_pred2"
   ]
  },
  {
   "cell_type": "markdown",
   "metadata": {},
   "source": [
    "### e) Matriz de confusión (punto de corte custom)"
   ]
  },
  {
   "cell_type": "code",
   "execution_count": 36,
   "metadata": {},
   "outputs": [
    {
     "data": {
      "text/plain": [
       "<AxesSubplot:xlabel='Pred', ylabel='Actual'>"
      ]
     },
     "execution_count": 36,
     "metadata": {},
     "output_type": "execute_result"
    },
    {
     "data": {
      "image/png": "[encoded data removed]",
      "text/plain": [
       "<Figure size 432x288 with 2 Axes>"
      ]
     },
     "metadata": {},
     "output_type": "display_data"
    }
   ],
   "source": [
    "conf_mat2=pd.crosstab(index=y_train, \n",
    "                      columns=y_pred2,      # ¡cambio!\n",
    "                      rownames=['Actual'], \n",
    "                      colnames=['Pred'], \n",
    "                      normalize='index')\n",
    "\n",
    "sns.heatmap(conf_mat2, annot=True, cmap='Blues', fmt='g')"
   ]
  },
  {
   "cell_type": "markdown",
   "metadata": {},
   "source": [
    "Comparando antes y después:"
   ]
  },
  {
   "cell_type": "code",
   "execution_count": 37,
   "metadata": {},
   "outputs": [],
   "source": [
    "import matplotlib.pyplot as plt"
   ]
  },
  {
   "cell_type": "code",
   "execution_count": 38,
   "metadata": {},
   "outputs": [
    {
     "data": {
      "image/png": "[encoded data removed]",
      "text/plain": [
       "<Figure size 432x288 with 4 Axes>"
      ]
     },
     "metadata": {},
     "output_type": "display_data"
    }
   ],
   "source": [
    "sns.set(font_scale=1)       # Ajuste tamaño de letra (var global)\n",
    "fig, ax = plt.subplots(1,2)  \n",
    "\n",
    "sns.heatmap(conf_mat1, annot=True, cmap='Blues', fmt='g', ax=ax[0])\n",
    "sns.heatmap(conf_mat2, annot=True, cmap='Blues', fmt='g', ax=ax[1])\n",
    "\n",
    "fig.show(warn=False)"
   ]
  },
  {
   "cell_type": "markdown",
   "metadata": {},
   "source": [
    "### f) Análisis de los distintos puntos de corte"
   ]
  },
  {
   "cell_type": "markdown",
   "metadata": {},
   "source": [
    "**Nota:** Nunca elegir el punto de corte con los datos de testing"
   ]
  },
  {
   "cell_type": "code",
   "execution_count": 40,
   "metadata": {},
   "outputs": [],
   "source": [
    "#!pip3 install yellowbrick"
   ]
  },
  {
   "cell_type": "markdown",
   "metadata": {},
   "source": [
    "Esta celda resuelve la tarea pero con muchos warnings ☢️\n",
    "```\n",
    "from yellowbrick.classifier.threshold import discrimination_threshold\n",
    "\n",
    "dis_res=discrimination_threshold(rf, x_train, y_train,)\n",
    "dis_res\n",
    "```"
   ]
  },
  {
   "cell_type": "markdown",
   "metadata": {},
   "source": [
    "👆 Así que la vamos a actualizar por esta celda:"
   ]
  },
  {
   "cell_type": "markdown",
   "metadata": {},
   "source": [
    "**Nota:** Esta celda toma algunos minutos, mientras tanto espera el resultado con un café o mate 😎"
   ]
  },
  {
   "cell_type": "code",
   "execution_count": 39,
   "metadata": {},
   "outputs": [
    {
     "data": {
      "image/png": "[encoded data removed]",
      "text/plain": [
       "<Figure size 576x396 with 1 Axes>"
      ]
     },
     "metadata": {},
     "output_type": "display_data"
    },
    {
     "data": {
      "text/plain": [
       "<AxesSubplot:title={'center':'Threshold Plot for RandomForestClassifier'}, xlabel='discrimination threshold', ylabel='score'>"
      ]
     },
     "execution_count": 39,
     "metadata": {},
     "output_type": "execute_result"
    }
   ],
   "source": [
    "from yellowbrick.classifier import DiscriminationThreshold\n",
    "\n",
    "visualizer = DiscriminationThreshold(rf)\n",
    "\n",
    "visualizer.fit(x_train, y_train)        # Ajustar data al visualizador\n",
    "visualizer.show()                       # Mostrar figura"
   ]
  },
  {
   "cell_type": "markdown",
   "metadata": {},
   "source": [
    "### g) Curva ROC"
   ]
  },
  {
   "cell_type": "markdown",
   "metadata": {},
   "source": [
    "Graficamos para training y para test"
   ]
  },
  {
   "cell_type": "code",
   "execution_count": 40,
   "metadata": {},
   "outputs": [
    {
     "data": {
      "image/png": "[encoded data removed]",
      "text/plain": [
       "<Figure size 576x396 with 1 Axes>"
      ]
     },
     "metadata": {},
     "output_type": "display_data"
    }
   ],
   "source": [
    "from sklearn.metrics import RocCurveDisplay\n",
    "\n",
    "tr_disp = RocCurveDisplay.from_estimator(rf, x_train, y_train)\n",
    "ts_disp = RocCurveDisplay.from_estimator(rf, x_test, y_test, ax=tr_disp.ax_)\n",
    "ts_disp.figure_.suptitle(\"ROC curve comparison\")\n",
    "\n",
    "plt.show()"
   ]
  },
  {
   "cell_type": "markdown",
   "metadata": {},
   "source": [
    "# 4) Regresión 🤑"
   ]
  },
  {
   "cell_type": "markdown",
   "metadata": {},
   "source": [
    "### 4.1) Análisis exploratorio de datos (AED)"
   ]
  },
  {
   "cell_type": "code",
   "execution_count": 41,
   "metadata": {},
   "outputs": [
    {
     "data": {
      "text/html": [
       "<div>\n",
       "<style scoped>\n",
       "    .dataframe tbody tr th:only-of-type {\n",
       "        vertical-align: middle;\n",
       "    }\n",
       "\n",
       "    .dataframe tbody tr th {\n",
       "        vertical-align: top;\n",
       "    }\n",
       "\n",
       "    .dataframe thead th {\n",
       "        text-align: right;\n",
       "    }\n",
       "</style>\n",
       "<table border=\"1\" class=\"dataframe\">\n",
       "  <thead>\n",
       "    <tr style=\"text-align: right;\">\n",
       "      <th></th>\n",
       "      <th>variable</th>\n",
       "      <th>q_nan</th>\n",
       "      <th>p_nan</th>\n",
       "      <th>q_zeros</th>\n",
       "      <th>p_zeros</th>\n",
       "      <th>unique</th>\n",
       "      <th>type</th>\n",
       "    </tr>\n",
       "  </thead>\n",
       "  <tbody>\n",
       "    <tr>\n",
       "      <th>0</th>\n",
       "      <td>Income</td>\n",
       "      <td>0</td>\n",
       "      <td>0.0</td>\n",
       "      <td>0</td>\n",
       "      <td>0.000000</td>\n",
       "      <td>1974</td>\n",
       "      <td>float64</td>\n",
       "    </tr>\n",
       "    <tr>\n",
       "      <th>1</th>\n",
       "      <td>Kidhome</td>\n",
       "      <td>0</td>\n",
       "      <td>0.0</td>\n",
       "      <td>1283</td>\n",
       "      <td>0.578971</td>\n",
       "      <td>3</td>\n",
       "      <td>int64</td>\n",
       "    </tr>\n",
       "    <tr>\n",
       "      <th>2</th>\n",
       "      <td>Teenhome</td>\n",
       "      <td>0</td>\n",
       "      <td>0.0</td>\n",
       "      <td>1147</td>\n",
       "      <td>0.517599</td>\n",
       "      <td>3</td>\n",
       "      <td>int64</td>\n",
       "    </tr>\n",
       "    <tr>\n",
       "      <th>3</th>\n",
       "      <td>Recency</td>\n",
       "      <td>0</td>\n",
       "      <td>0.0</td>\n",
       "      <td>28</td>\n",
       "      <td>0.012635</td>\n",
       "      <td>100</td>\n",
       "      <td>int64</td>\n",
       "    </tr>\n",
       "    <tr>\n",
       "      <th>4</th>\n",
       "      <td>MntWines</td>\n",
       "      <td>0</td>\n",
       "      <td>0.0</td>\n",
       "      <td>13</td>\n",
       "      <td>0.005866</td>\n",
       "      <td>776</td>\n",
       "      <td>int64</td>\n",
       "    </tr>\n",
       "    <tr>\n",
       "      <th>5</th>\n",
       "      <td>MntFruits</td>\n",
       "      <td>0</td>\n",
       "      <td>0.0</td>\n",
       "      <td>395</td>\n",
       "      <td>0.178249</td>\n",
       "      <td>158</td>\n",
       "      <td>int64</td>\n",
       "    </tr>\n",
       "    <tr>\n",
       "      <th>6</th>\n",
       "      <td>MntMeatProducts</td>\n",
       "      <td>0</td>\n",
       "      <td>0.0</td>\n",
       "      <td>1</td>\n",
       "      <td>0.000451</td>\n",
       "      <td>554</td>\n",
       "      <td>int64</td>\n",
       "    </tr>\n",
       "    <tr>\n",
       "      <th>7</th>\n",
       "      <td>MntFishProducts</td>\n",
       "      <td>0</td>\n",
       "      <td>0.0</td>\n",
       "      <td>379</td>\n",
       "      <td>0.171029</td>\n",
       "      <td>182</td>\n",
       "      <td>int64</td>\n",
       "    </tr>\n",
       "    <tr>\n",
       "      <th>8</th>\n",
       "      <td>MntSweetProducts</td>\n",
       "      <td>0</td>\n",
       "      <td>0.0</td>\n",
       "      <td>413</td>\n",
       "      <td>0.186372</td>\n",
       "      <td>176</td>\n",
       "      <td>int64</td>\n",
       "    </tr>\n",
       "    <tr>\n",
       "      <th>9</th>\n",
       "      <td>MntGoldProds</td>\n",
       "      <td>0</td>\n",
       "      <td>0.0</td>\n",
       "      <td>61</td>\n",
       "      <td>0.027527</td>\n",
       "      <td>212</td>\n",
       "      <td>int64</td>\n",
       "    </tr>\n",
       "    <tr>\n",
       "      <th>10</th>\n",
       "      <td>NumDealsPurchases</td>\n",
       "      <td>0</td>\n",
       "      <td>0.0</td>\n",
       "      <td>44</td>\n",
       "      <td>0.019856</td>\n",
       "      <td>15</td>\n",
       "      <td>int64</td>\n",
       "    </tr>\n",
       "    <tr>\n",
       "      <th>11</th>\n",
       "      <td>NumWebPurchases</td>\n",
       "      <td>0</td>\n",
       "      <td>0.0</td>\n",
       "      <td>48</td>\n",
       "      <td>0.021661</td>\n",
       "      <td>15</td>\n",
       "      <td>int64</td>\n",
       "    </tr>\n",
       "    <tr>\n",
       "      <th>12</th>\n",
       "      <td>NumCatalogPurchases</td>\n",
       "      <td>0</td>\n",
       "      <td>0.0</td>\n",
       "      <td>576</td>\n",
       "      <td>0.259928</td>\n",
       "      <td>14</td>\n",
       "      <td>int64</td>\n",
       "    </tr>\n",
       "    <tr>\n",
       "      <th>13</th>\n",
       "      <td>NumStorePurchases</td>\n",
       "      <td>0</td>\n",
       "      <td>0.0</td>\n",
       "      <td>14</td>\n",
       "      <td>0.006318</td>\n",
       "      <td>14</td>\n",
       "      <td>int64</td>\n",
       "    </tr>\n",
       "    <tr>\n",
       "      <th>14</th>\n",
       "      <td>NumWebVisitsMonth</td>\n",
       "      <td>0</td>\n",
       "      <td>0.0</td>\n",
       "      <td>10</td>\n",
       "      <td>0.004513</td>\n",
       "      <td>16</td>\n",
       "      <td>int64</td>\n",
       "    </tr>\n",
       "    <tr>\n",
       "      <th>15</th>\n",
       "      <td>AcceptedCmp3</td>\n",
       "      <td>0</td>\n",
       "      <td>0.0</td>\n",
       "      <td>2053</td>\n",
       "      <td>0.926444</td>\n",
       "      <td>2</td>\n",
       "      <td>int64</td>\n",
       "    </tr>\n",
       "    <tr>\n",
       "      <th>16</th>\n",
       "      <td>AcceptedCmp4</td>\n",
       "      <td>0</td>\n",
       "      <td>0.0</td>\n",
       "      <td>2052</td>\n",
       "      <td>0.925993</td>\n",
       "      <td>2</td>\n",
       "      <td>int64</td>\n",
       "    </tr>\n",
       "    <tr>\n",
       "      <th>17</th>\n",
       "      <td>AcceptedCmp5</td>\n",
       "      <td>0</td>\n",
       "      <td>0.0</td>\n",
       "      <td>2054</td>\n",
       "      <td>0.926895</td>\n",
       "      <td>2</td>\n",
       "      <td>int64</td>\n",
       "    </tr>\n",
       "    <tr>\n",
       "      <th>18</th>\n",
       "      <td>AcceptedCmp1</td>\n",
       "      <td>0</td>\n",
       "      <td>0.0</td>\n",
       "      <td>2074</td>\n",
       "      <td>0.935921</td>\n",
       "      <td>2</td>\n",
       "      <td>int64</td>\n",
       "    </tr>\n",
       "    <tr>\n",
       "      <th>19</th>\n",
       "      <td>AcceptedCmp2</td>\n",
       "      <td>0</td>\n",
       "      <td>0.0</td>\n",
       "      <td>2186</td>\n",
       "      <td>0.986462</td>\n",
       "      <td>2</td>\n",
       "      <td>int64</td>\n",
       "    </tr>\n",
       "    <tr>\n",
       "      <th>20</th>\n",
       "      <td>Complain</td>\n",
       "      <td>0</td>\n",
       "      <td>0.0</td>\n",
       "      <td>2195</td>\n",
       "      <td>0.990523</td>\n",
       "      <td>2</td>\n",
       "      <td>int64</td>\n",
       "    </tr>\n",
       "    <tr>\n",
       "      <th>21</th>\n",
       "      <td>Response</td>\n",
       "      <td>0</td>\n",
       "      <td>0.0</td>\n",
       "      <td>1883</td>\n",
       "      <td>0.849729</td>\n",
       "      <td>2</td>\n",
       "      <td>int64</td>\n",
       "    </tr>\n",
       "    <tr>\n",
       "      <th>22</th>\n",
       "      <td>age</td>\n",
       "      <td>0</td>\n",
       "      <td>0.0</td>\n",
       "      <td>0</td>\n",
       "      <td>0.000000</td>\n",
       "      <td>59</td>\n",
       "      <td>int64</td>\n",
       "    </tr>\n",
       "    <tr>\n",
       "      <th>23</th>\n",
       "      <td>client_day</td>\n",
       "      <td>0</td>\n",
       "      <td>0.0</td>\n",
       "      <td>0</td>\n",
       "      <td>0.000000</td>\n",
       "      <td>662</td>\n",
       "      <td>int32</td>\n",
       "    </tr>\n",
       "    <tr>\n",
       "      <th>24</th>\n",
       "      <td>Education_2n Cycle</td>\n",
       "      <td>0</td>\n",
       "      <td>0.0</td>\n",
       "      <td>2016</td>\n",
       "      <td>0.909747</td>\n",
       "      <td>2</td>\n",
       "      <td>bool</td>\n",
       "    </tr>\n",
       "    <tr>\n",
       "      <th>25</th>\n",
       "      <td>Education_Basic</td>\n",
       "      <td>0</td>\n",
       "      <td>0.0</td>\n",
       "      <td>2162</td>\n",
       "      <td>0.975632</td>\n",
       "      <td>2</td>\n",
       "      <td>bool</td>\n",
       "    </tr>\n",
       "    <tr>\n",
       "      <th>26</th>\n",
       "      <td>Education_Graduation</td>\n",
       "      <td>0</td>\n",
       "      <td>0.0</td>\n",
       "      <td>1100</td>\n",
       "      <td>0.496390</td>\n",
       "      <td>2</td>\n",
       "      <td>bool</td>\n",
       "    </tr>\n",
       "    <tr>\n",
       "      <th>27</th>\n",
       "      <td>Education_Master</td>\n",
       "      <td>0</td>\n",
       "      <td>0.0</td>\n",
       "      <td>1851</td>\n",
       "      <td>0.835289</td>\n",
       "      <td>2</td>\n",
       "      <td>bool</td>\n",
       "    </tr>\n",
       "    <tr>\n",
       "      <th>28</th>\n",
       "      <td>Education_PhD</td>\n",
       "      <td>0</td>\n",
       "      <td>0.0</td>\n",
       "      <td>1735</td>\n",
       "      <td>0.782942</td>\n",
       "      <td>2</td>\n",
       "      <td>bool</td>\n",
       "    </tr>\n",
       "    <tr>\n",
       "      <th>29</th>\n",
       "      <td>Marital_Status_Absurd</td>\n",
       "      <td>0</td>\n",
       "      <td>0.0</td>\n",
       "      <td>2214</td>\n",
       "      <td>0.999097</td>\n",
       "      <td>2</td>\n",
       "      <td>bool</td>\n",
       "    </tr>\n",
       "    <tr>\n",
       "      <th>30</th>\n",
       "      <td>Marital_Status_Alone</td>\n",
       "      <td>0</td>\n",
       "      <td>0.0</td>\n",
       "      <td>2213</td>\n",
       "      <td>0.998646</td>\n",
       "      <td>2</td>\n",
       "      <td>bool</td>\n",
       "    </tr>\n",
       "    <tr>\n",
       "      <th>31</th>\n",
       "      <td>Marital_Status_Divorced</td>\n",
       "      <td>0</td>\n",
       "      <td>0.0</td>\n",
       "      <td>1984</td>\n",
       "      <td>0.895307</td>\n",
       "      <td>2</td>\n",
       "      <td>bool</td>\n",
       "    </tr>\n",
       "    <tr>\n",
       "      <th>32</th>\n",
       "      <td>Marital_Status_Married</td>\n",
       "      <td>0</td>\n",
       "      <td>0.0</td>\n",
       "      <td>1359</td>\n",
       "      <td>0.613267</td>\n",
       "      <td>2</td>\n",
       "      <td>bool</td>\n",
       "    </tr>\n",
       "    <tr>\n",
       "      <th>33</th>\n",
       "      <td>Marital_Status_Single</td>\n",
       "      <td>0</td>\n",
       "      <td>0.0</td>\n",
       "      <td>1745</td>\n",
       "      <td>0.787455</td>\n",
       "      <td>2</td>\n",
       "      <td>bool</td>\n",
       "    </tr>\n",
       "    <tr>\n",
       "      <th>34</th>\n",
       "      <td>Marital_Status_Together</td>\n",
       "      <td>0</td>\n",
       "      <td>0.0</td>\n",
       "      <td>1643</td>\n",
       "      <td>0.741426</td>\n",
       "      <td>2</td>\n",
       "      <td>bool</td>\n",
       "    </tr>\n",
       "    <tr>\n",
       "      <th>35</th>\n",
       "      <td>Marital_Status_Widow</td>\n",
       "      <td>0</td>\n",
       "      <td>0.0</td>\n",
       "      <td>2140</td>\n",
       "      <td>0.965704</td>\n",
       "      <td>2</td>\n",
       "      <td>bool</td>\n",
       "    </tr>\n",
       "    <tr>\n",
       "      <th>36</th>\n",
       "      <td>Marital_Status_YOLO</td>\n",
       "      <td>0</td>\n",
       "      <td>0.0</td>\n",
       "      <td>2214</td>\n",
       "      <td>0.999097</td>\n",
       "      <td>2</td>\n",
       "      <td>bool</td>\n",
       "    </tr>\n",
       "  </tbody>\n",
       "</table>\n",
       "</div>"
      ],
      "text/plain": [
       "                   variable  q_nan  p_nan  q_zeros   p_zeros  unique     type\n",
       "0                    Income      0    0.0        0  0.000000    1974  float64\n",
       "1                   Kidhome      0    0.0     1283  0.578971       3    int64\n",
       "2                  Teenhome      0    0.0     1147  0.517599       3    int64\n",
       "3                   Recency      0    0.0       28  0.012635     100    int64\n",
       "4                  MntWines      0    0.0       13  0.005866     776    int64\n",
       "5                 MntFruits      0    0.0      395  0.178249     158    int64\n",
       "6           MntMeatProducts      0    0.0        1  0.000451     554    int64\n",
       "7           MntFishProducts      0    0.0      379  0.171029     182    int64\n",
       "8          MntSweetProducts      0    0.0      413  0.186372     176    int64\n",
       "9              MntGoldProds      0    0.0       61  0.027527     212    int64\n",
       "10        NumDealsPurchases      0    0.0       44  0.019856      15    int64\n",
       "11          NumWebPurchases      0    0.0       48  0.021661      15    int64\n",
       "12      NumCatalogPurchases      0    0.0      576  0.259928      14    int64\n",
       "13        NumStorePurchases      0    0.0       14  0.006318      14    int64\n",
       "14        NumWebVisitsMonth      0    0.0       10  0.004513      16    int64\n",
       "15             AcceptedCmp3      0    0.0     2053  0.926444       2    int64\n",
       "16             AcceptedCmp4      0    0.0     2052  0.925993       2    int64\n",
       "17             AcceptedCmp5      0    0.0     2054  0.926895       2    int64\n",
       "18             AcceptedCmp1      0    0.0     2074  0.935921       2    int64\n",
       "19             AcceptedCmp2      0    0.0     2186  0.986462       2    int64\n",
       "20                 Complain      0    0.0     2195  0.990523       2    int64\n",
       "21                 Response      0    0.0     1883  0.849729       2    int64\n",
       "22                      age      0    0.0        0  0.000000      59    int64\n",
       "23               client_day      0    0.0        0  0.000000     662    int32\n",
       "24       Education_2n Cycle      0    0.0     2016  0.909747       2     bool\n",
       "25          Education_Basic      0    0.0     2162  0.975632       2     bool\n",
       "26     Education_Graduation      0    0.0     1100  0.496390       2     bool\n",
       "27         Education_Master      0    0.0     1851  0.835289       2     bool\n",
       "28            Education_PhD      0    0.0     1735  0.782942       2     bool\n",
       "29    Marital_Status_Absurd      0    0.0     2214  0.999097       2     bool\n",
       "30     Marital_Status_Alone      0    0.0     2213  0.998646       2     bool\n",
       "31  Marital_Status_Divorced      0    0.0     1984  0.895307       2     bool\n",
       "32   Marital_Status_Married      0    0.0     1359  0.613267       2     bool\n",
       "33    Marital_Status_Single      0    0.0     1745  0.787455       2     bool\n",
       "34  Marital_Status_Together      0    0.0     1643  0.741426       2     bool\n",
       "35     Marital_Status_Widow      0    0.0     2140  0.965704       2     bool\n",
       "36      Marital_Status_YOLO      0    0.0     2214  0.999097       2     bool"
      ]
     },
     "execution_count": 41,
     "metadata": {},
     "output_type": "execute_result"
    }
   ],
   "source": [
    "status(data)"
   ]
  },
  {
   "cell_type": "markdown",
   "metadata": {},
   "source": [
    "### 4.2) Separación TR/TS"
   ]
  },
  {
   "cell_type": "code",
   "execution_count": 42,
   "metadata": {},
   "outputs": [],
   "source": [
    "data_x = data.drop('Income', axis=1)\n",
    "data_y = data['Income']"
   ]
  },
  {
   "cell_type": "markdown",
   "metadata": {},
   "source": [
    "Nos quedamos solo con los valores del dataframe"
   ]
  },
  {
   "cell_type": "code",
   "execution_count": 43,
   "metadata": {},
   "outputs": [],
   "source": [
    "data_x = data_x.values\n",
    "data_y = data_y.values"
   ]
  },
  {
   "cell_type": "code",
   "execution_count": 44,
   "metadata": {},
   "outputs": [],
   "source": [
    "x_train, x_test, y_train, y_test = train_test_split(data_x, data_y, test_size=0.3)"
   ]
  },
  {
   "cell_type": "markdown",
   "metadata": {},
   "source": [
    "### 4.3) Creación del modelo de regresión lineal"
   ]
  },
  {
   "cell_type": "code",
   "execution_count": 45,
   "metadata": {},
   "outputs": [],
   "source": [
    "from sklearn.linear_model import LinearRegression\n",
    "\n",
    "# a.Creamos modelo\n",
    "model = LinearRegression()\n",
    "\n",
    "# b. fiteamos\n",
    "model.fit(x_train, y_train)\n",
    "\n",
    "# c. obtenemos predicciónes para tr y ts\n",
    "pred_tr=model.predict(x_train)\n",
    "pred_ts=model.predict(x_test)"
   ]
  },
  {
   "cell_type": "code",
   "execution_count": 46,
   "metadata": {},
   "outputs": [
    {
     "data": {
      "text/plain": [
       "array([40874.96120209, 40288.93660624, 24590.6757569 , 27368.46315197,\n",
       "       52380.77051817])"
      ]
     },
     "execution_count": 46,
     "metadata": {},
     "output_type": "execute_result"
    }
   ],
   "source": [
    "pred_tr[0:5]"
   ]
  },
  {
   "cell_type": "markdown",
   "metadata": {},
   "source": [
    "**Nota:** No hay parámetros"
   ]
  },
  {
   "cell_type": "markdown",
   "metadata": {},
   "source": [
    "### 4.4) Creación del RF con hypertuning (usando grid search)"
   ]
  },
  {
   "cell_type": "code",
   "execution_count": 47,
   "metadata": {},
   "outputs": [],
   "source": [
    "from sklearn.model_selection import GridSearchCV\n",
    "from sklearn.ensemble import RandomForestRegressor \n",
    "\n",
    "model_rf = RandomForestRegressor()"
   ]
  },
  {
   "cell_type": "code",
   "execution_count": 48,
   "metadata": {},
   "outputs": [],
   "source": [
    "params = {\n",
    "    'n_estimators' : [500, 5000],\n",
    "    'max_features': [50, 100],\n",
    "}\n",
    "\n",
    "grid_rf = GridSearchCV(estimator = model_rf,\n",
    "                        param_grid = params,\n",
    "                        scoring = 'neg_mean_absolute_error',\n",
    "                        cv = 5, \n",
    "                        verbose = 1)"
   ]
  },
  {
   "cell_type": "markdown",
   "metadata": {},
   "source": [
    "Actualmente hay un conflicto de procesamiento en paralelo con GridSearchCV, por eso no se recomienda el uso de n_paralel."
   ]
  },
  {
   "cell_type": "markdown",
   "metadata": {},
   "source": [
    "Esta celda toma algunos minutos (aprox 10 min), mientras tanto espera el resultado con un café o mate 😎"
   ]
  },
  {
   "cell_type": "code",
   "execution_count": 49,
   "metadata": {},
   "outputs": [
    {
     "name": "stdout",
     "output_type": "stream",
     "text": [
      "Fitting 5 folds for each of 4 candidates, totalling 20 fits\n"
     ]
    },
    {
     "data": {
      "text/html": [
       "<style>#sk-container-id-2 {color: black;background-color: white;}#sk-container-id-2 pre{padding: 0;}#sk-container-id-2 div.sk-toggleable {background-color: white;}#sk-container-id-2 label.sk-toggleable__label {cursor: pointer;display: block;width: 100%;margin-bottom: 0;padding: 0.3em;box-sizing: border-box;text-align: center;}#sk-container-id-2 label.sk-toggleable__label-arrow:before {content: \"▸\";float: left;margin-right: 0.25em;color: #696969;}#sk-container-id-2 label.sk-toggleable__label-arrow:hover:before {color: black;}#sk-container-id-2 div.sk-estimator:hover label.sk-toggleable__label-arrow:before {color: black;}#sk-container-id-2 div.sk-toggleable__content {max-height: 0;max-width: 0;overflow: hidden;text-align: left;background-color: #f0f8ff;}#sk-container-id-2 div.sk-toggleable__content pre {margin: 0.2em;color: black;border-radius: 0.25em;background-color: #f0f8ff;}#sk-container-id-2 input.sk-toggleable__control:checked~div.sk-toggleable__content {max-height: 200px;max-width: 100%;overflow: auto;}#sk-container-id-2 input.sk-toggleable__control:checked~label.sk-toggleable__label-arrow:before {content: \"▾\";}#sk-container-id-2 div.sk-estimator input.sk-toggleable__control:checked~label.sk-toggleable__label {background-color: #d4ebff;}#sk-container-id-2 div.sk-label input.sk-toggleable__control:checked~label.sk-toggleable__label {background-color: #d4ebff;}#sk-container-id-2 input.sk-hidden--visually {border: 0;clip: rect(1px 1px 1px 1px);clip: rect(1px, 1px, 1px, 1px);height: 1px;margin: -1px;overflow: hidden;padding: 0;position: absolute;width: 1px;}#sk-container-id-2 div.sk-estimator {font-family: monospace;background-color: #f0f8ff;border: 1px dotted black;border-radius: 0.25em;box-sizing: border-box;margin-bottom: 0.5em;}#sk-container-id-2 div.sk-estimator:hover {background-color: #d4ebff;}#sk-container-id-2 div.sk-parallel-item::after {content: \"\";width: 100%;border-bottom: 1px solid gray;flex-grow: 1;}#sk-container-id-2 div.sk-label:hover label.sk-toggleable__label {background-color: #d4ebff;}#sk-container-id-2 div.sk-serial::before {content: \"\";position: absolute;border-left: 1px solid gray;box-sizing: border-box;top: 0;bottom: 0;left: 50%;z-index: 0;}#sk-container-id-2 div.sk-serial {display: flex;flex-direction: column;align-items: center;background-color: white;padding-right: 0.2em;padding-left: 0.2em;position: relative;}#sk-container-id-2 div.sk-item {position: relative;z-index: 1;}#sk-container-id-2 div.sk-parallel {display: flex;align-items: stretch;justify-content: center;background-color: white;position: relative;}#sk-container-id-2 div.sk-item::before, #sk-container-id-2 div.sk-parallel-item::before {content: \"\";position: absolute;border-left: 1px solid gray;box-sizing: border-box;top: 0;bottom: 0;left: 50%;z-index: -1;}#sk-container-id-2 div.sk-parallel-item {display: flex;flex-direction: column;z-index: 1;position: relative;background-color: white;}#sk-container-id-2 div.sk-parallel-item:first-child::after {align-self: flex-end;width: 50%;}#sk-container-id-2 div.sk-parallel-item:last-child::after {align-self: flex-start;width: 50%;}#sk-container-id-2 div.sk-parallel-item:only-child::after {width: 0;}#sk-container-id-2 div.sk-dashed-wrapped {border: 1px dashed gray;margin: 0 0.4em 0.5em 0.4em;box-sizing: border-box;padding-bottom: 0.4em;background-color: white;}#sk-container-id-2 div.sk-label label {font-family: monospace;font-weight: bold;display: inline-block;line-height: 1.2em;}#sk-container-id-2 div.sk-label-container {text-align: center;}#sk-container-id-2 div.sk-container {/* jupyter's `normalize.less` sets `[hidden] { display: none; }` but bootstrap.min.css set `[hidden] { display: none !important; }` so we also need the `!important` here to be able to override the default hidden behavior on the sphinx rendered scikit-learn.org. See: https://github.com/scikit-learn/scikit-learn/issues/21755 */display: inline-block !important;position: relative;}#sk-container-id-2 div.sk-text-repr-fallback {display: none;}</style><div id=\"sk-container-id-2\" class=\"sk-top-container\"><div class=\"sk-text-repr-fallback\"><pre>GridSearchCV(cv=5, estimator=RandomForestRegressor(),\n",
       "             param_grid={&#x27;max_features&#x27;: [50, 100],\n",
       "                         &#x27;n_estimators&#x27;: [500, 5000]},\n",
       "             scoring=&#x27;neg_mean_absolute_error&#x27;, verbose=1)</pre><b>In a Jupyter environment, please rerun this cell to show the HTML representation or trust the notebook. <br />On GitHub, the HTML representation is unable to render, please try loading this page with nbviewer.org.</b></div><div class=\"sk-container\" hidden><div class=\"sk-item sk-dashed-wrapped\"><div class=\"sk-label-container\"><div class=\"sk-label sk-toggleable\"><input class=\"sk-toggleable__control sk-hidden--visually\" id=\"sk-estimator-id-2\" type=\"checkbox\" ><label for=\"sk-estimator-id-2\" class=\"sk-toggleable__label sk-toggleable__label-arrow\">GridSearchCV</label><div class=\"sk-toggleable__content\"><pre>GridSearchCV(cv=5, estimator=RandomForestRegressor(),\n",
       "             param_grid={&#x27;max_features&#x27;: [50, 100],\n",
       "                         &#x27;n_estimators&#x27;: [500, 5000]},\n",
       "             scoring=&#x27;neg_mean_absolute_error&#x27;, verbose=1)</pre></div></div></div><div class=\"sk-parallel\"><div class=\"sk-parallel-item\"><div class=\"sk-item\"><div class=\"sk-label-container\"><div class=\"sk-label sk-toggleable\"><input class=\"sk-toggleable__control sk-hidden--visually\" id=\"sk-estimator-id-3\" type=\"checkbox\" ><label for=\"sk-estimator-id-3\" class=\"sk-toggleable__label sk-toggleable__label-arrow\">estimator: RandomForestRegressor</label><div class=\"sk-toggleable__content\"><pre>RandomForestRegressor()</pre></div></div></div><div class=\"sk-serial\"><div class=\"sk-item\"><div class=\"sk-estimator sk-toggleable\"><input class=\"sk-toggleable__control sk-hidden--visually\" id=\"sk-estimator-id-4\" type=\"checkbox\" ><label for=\"sk-estimator-id-4\" class=\"sk-toggleable__label sk-toggleable__label-arrow\">RandomForestRegressor</label><div class=\"sk-toggleable__content\"><pre>RandomForestRegressor()</pre></div></div></div></div></div></div></div></div></div></div>"
      ],
      "text/plain": [
       "GridSearchCV(cv=5, estimator=RandomForestRegressor(),\n",
       "             param_grid={'max_features': [50, 100],\n",
       "                         'n_estimators': [500, 5000]},\n",
       "             scoring='neg_mean_absolute_error', verbose=1)"
      ]
     },
     "execution_count": 49,
     "metadata": {},
     "output_type": "execute_result"
    }
   ],
   "source": [
    "grid_rf.fit(x_train, y_train)"
   ]
  },
  {
   "cell_type": "code",
   "execution_count": 50,
   "metadata": {},
   "outputs": [
    {
     "data": {
      "text/html": [
       "<style>#sk-container-id-3 {color: black;background-color: white;}#sk-container-id-3 pre{padding: 0;}#sk-container-id-3 div.sk-toggleable {background-color: white;}#sk-container-id-3 label.sk-toggleable__label {cursor: pointer;display: block;width: 100%;margin-bottom: 0;padding: 0.3em;box-sizing: border-box;text-align: center;}#sk-container-id-3 label.sk-toggleable__label-arrow:before {content: \"▸\";float: left;margin-right: 0.25em;color: #696969;}#sk-container-id-3 label.sk-toggleable__label-arrow:hover:before {color: black;}#sk-container-id-3 div.sk-estimator:hover label.sk-toggleable__label-arrow:before {color: black;}#sk-container-id-3 div.sk-toggleable__content {max-height: 0;max-width: 0;overflow: hidden;text-align: left;background-color: #f0f8ff;}#sk-container-id-3 div.sk-toggleable__content pre {margin: 0.2em;color: black;border-radius: 0.25em;background-color: #f0f8ff;}#sk-container-id-3 input.sk-toggleable__control:checked~div.sk-toggleable__content {max-height: 200px;max-width: 100%;overflow: auto;}#sk-container-id-3 input.sk-toggleable__control:checked~label.sk-toggleable__label-arrow:before {content: \"▾\";}#sk-container-id-3 div.sk-estimator input.sk-toggleable__control:checked~label.sk-toggleable__label {background-color: #d4ebff;}#sk-container-id-3 div.sk-label input.sk-toggleable__control:checked~label.sk-toggleable__label {background-color: #d4ebff;}#sk-container-id-3 input.sk-hidden--visually {border: 0;clip: rect(1px 1px 1px 1px);clip: rect(1px, 1px, 1px, 1px);height: 1px;margin: -1px;overflow: hidden;padding: 0;position: absolute;width: 1px;}#sk-container-id-3 div.sk-estimator {font-family: monospace;background-color: #f0f8ff;border: 1px dotted black;border-radius: 0.25em;box-sizing: border-box;margin-bottom: 0.5em;}#sk-container-id-3 div.sk-estimator:hover {background-color: #d4ebff;}#sk-container-id-3 div.sk-parallel-item::after {content: \"\";width: 100%;border-bottom: 1px solid gray;flex-grow: 1;}#sk-container-id-3 div.sk-label:hover label.sk-toggleable__label {background-color: #d4ebff;}#sk-container-id-3 div.sk-serial::before {content: \"\";position: absolute;border-left: 1px solid gray;box-sizing: border-box;top: 0;bottom: 0;left: 50%;z-index: 0;}#sk-container-id-3 div.sk-serial {display: flex;flex-direction: column;align-items: center;background-color: white;padding-right: 0.2em;padding-left: 0.2em;position: relative;}#sk-container-id-3 div.sk-item {position: relative;z-index: 1;}#sk-container-id-3 div.sk-parallel {display: flex;align-items: stretch;justify-content: center;background-color: white;position: relative;}#sk-container-id-3 div.sk-item::before, #sk-container-id-3 div.sk-parallel-item::before {content: \"\";position: absolute;border-left: 1px solid gray;box-sizing: border-box;top: 0;bottom: 0;left: 50%;z-index: -1;}#sk-container-id-3 div.sk-parallel-item {display: flex;flex-direction: column;z-index: 1;position: relative;background-color: white;}#sk-container-id-3 div.sk-parallel-item:first-child::after {align-self: flex-end;width: 50%;}#sk-container-id-3 div.sk-parallel-item:last-child::after {align-self: flex-start;width: 50%;}#sk-container-id-3 div.sk-parallel-item:only-child::after {width: 0;}#sk-container-id-3 div.sk-dashed-wrapped {border: 1px dashed gray;margin: 0 0.4em 0.5em 0.4em;box-sizing: border-box;padding-bottom: 0.4em;background-color: white;}#sk-container-id-3 div.sk-label label {font-family: monospace;font-weight: bold;display: inline-block;line-height: 1.2em;}#sk-container-id-3 div.sk-label-container {text-align: center;}#sk-container-id-3 div.sk-container {/* jupyter's `normalize.less` sets `[hidden] { display: none; }` but bootstrap.min.css set `[hidden] { display: none !important; }` so we also need the `!important` here to be able to override the default hidden behavior on the sphinx rendered scikit-learn.org. See: https://github.com/scikit-learn/scikit-learn/issues/21755 */display: inline-block !important;position: relative;}#sk-container-id-3 div.sk-text-repr-fallback {display: none;}</style><div id=\"sk-container-id-3\" class=\"sk-top-container\"><div class=\"sk-text-repr-fallback\"><pre>RandomForestRegressor(max_features=50, n_estimators=5000)</pre><b>In a Jupyter environment, please rerun this cell to show the HTML representation or trust the notebook. <br />On GitHub, the HTML representation is unable to render, please try loading this page with nbviewer.org.</b></div><div class=\"sk-container\" hidden><div class=\"sk-item\"><div class=\"sk-estimator sk-toggleable\"><input class=\"sk-toggleable__control sk-hidden--visually\" id=\"sk-estimator-id-5\" type=\"checkbox\" checked><label for=\"sk-estimator-id-5\" class=\"sk-toggleable__label sk-toggleable__label-arrow\">RandomForestRegressor</label><div class=\"sk-toggleable__content\"><pre>RandomForestRegressor(max_features=50, n_estimators=5000)</pre></div></div></div></div></div>"
      ],
      "text/plain": [
       "RandomForestRegressor(max_features=50, n_estimators=5000)"
      ]
     },
     "execution_count": 50,
     "metadata": {},
     "output_type": "execute_result"
    }
   ],
   "source": [
    "grid_rf.best_estimator_"
   ]
  },
  {
   "cell_type": "markdown",
   "metadata": {},
   "source": [
    "Predicción de casos nuevos:"
   ]
  },
  {
   "cell_type": "code",
   "execution_count": 51,
   "metadata": {},
   "outputs": [
    {
     "data": {
      "text/plain": [
       "array([ 58562.185 ,  42713.4032,  24087.2584,  71752.8254,  75986.7608,\n",
       "        47392.4184,  29207.3082,  55670.4934,  50580.4454,  49050.591 ,\n",
       "        28295.9444,  58847.0434,  30725.823 ,  36717.3296,  81829.9964,\n",
       "        81571.83  ,  33206.0612,  36281.0446,  25072.965 ,  26068.2578,\n",
       "        33799.054 ,  78527.6988,  29263.625 ,  31918.2918,  62425.228 ,\n",
       "        82558.7612,  80087.8922,  31687.116 ,  63006.1716,  22776.7762,\n",
       "        26593.2208,  66265.325 ,  49916.3202,  44350.5116,  52853.2498,\n",
       "        79286.0716,  56710.523 ,  74271.5714,  53688.213 ,  27860.4838,\n",
       "        41991.6002,  64224.1106,  28648.1222,  52364.034 ,  49285.8756,\n",
       "        73920.9364,  58353.1028,  54842.4684,  41167.2296,  49450.8224,\n",
       "        65752.6522,  46067.2506,  79126.1634,  65163.5216,  79605.7714,\n",
       "        75900.0658,  40417.4982,  56191.6318,  24353.1674,  68352.7956,\n",
       "        37351.1954,  52018.8686,  36561.652 ,  40409.0078,  29634.103 ,\n",
       "        57812.1564,  43679.3664,  77717.878 ,  29955.9816,  52516.4884,\n",
       "        46531.2958,  76430.1104,  79372.7528,  22657.4364,  55543.0654,\n",
       "        53453.6188,  36693.267 ,  35860.672 ,  48120.06  ,  78941.654 ,\n",
       "        76960.5702,  38081.49  ,  49934.305 ,  62821.1304,  69585.1746,\n",
       "        76208.0106,  80080.838 ,  46068.8152,  23687.8134,  40521.4112,\n",
       "        35898.6788,  75049.2506,  27015.9398,  52791.076 ,  33216.516 ,\n",
       "        78431.425 ,  70790.6142,  58303.609 ,  56507.1068,  44379.2184,\n",
       "        25795.1596,  19376.7302,  72209.0636,  41838.6346,  31985.5806,\n",
       "        21407.9864,  20944.9862,  68685.4008,  60297.0502,  79098.8034,\n",
       "        83492.3094,  39082.0282,  72288.6198,  82714.2906,  56611.6164,\n",
       "        67042.5876,  32391.9038,  44787.4676,  26928.8972,  21958.7148,\n",
       "        45521.8898,  78865.8944,  53839.2112,  22400.8662,  54185.5382,\n",
       "        70367.9654,  47778.0906,  32755.641 ,  82599.4332,  81187.0634,\n",
       "        67251.1712,  61945.342 ,  31783.2942,  24591.821 ,  52751.6886,\n",
       "        62080.4876,  26494.0032,  53378.3892,  22746.8474,  74753.1552,\n",
       "        70392.8648,  51415.6656,  28002.741 ,  75197.6162,  26992.2444,\n",
       "        47015.4574,  34957.0816,  48354.893 ,  60433.6304,  35488.1898,\n",
       "        34113.8146,  65051.3134,  27166.728 ,  39889.7234,  27015.9398,\n",
       "        82284.7206,  39402.9482,  72446.0776,  13386.264 ,  52916.674 ,\n",
       "        61036.513 ,  48059.0508,  22695.3102,  49389.3976,  85924.8616,\n",
       "        25069.7486,  24399.4438,  65472.6378,  35355.6268,  80723.3882,\n",
       "        88744.0442,  21614.5738,  46287.0044,  45647.4796,  35099.1218,\n",
       "        75158.3016,  36019.516 ,  38046.259 ,  68212.4988,  40318.8378,\n",
       "        35848.6812,  72608.9624,  72396.434 ,  35029.2552,  26689.4586,\n",
       "        37797.8352,  55326.4692,  28851.7624,  33142.8794,  31618.3234,\n",
       "        33530.4598,  56237.9506,  67778.4092,  47449.1846,  54995.716 ,\n",
       "        70916.3586,  35293.6686,  76101.8434,  82478.4276,  57144.1556,\n",
       "        81511.679 ,  66275.9162,  63562.5274,  22400.6106,  68607.6534,\n",
       "        49542.7208,  60252.0336,  73858.7364,  38439.7632,  40049.6966,\n",
       "        31845.4652,  38383.3316,  37557.4756,  70796.811 ,  50815.3244,\n",
       "        26598.5104,  54055.1498,  39859.8564,  78522.5878,  26766.1652,\n",
       "        24133.8644,  44076.512 ,  43183.5468,  56518.4492,  81612.2884,\n",
       "        73243.7938,  75070.88  ,  78099.1778,  91863.0738,  42327.8446,\n",
       "        44680.7106,  70691.0176,  49605.5032,  80118.0278,  59894.6986,\n",
       "        23176.5658,  46823.4016,  21525.5756,  66248.5622,  67397.3302,\n",
       "        59674.165 ,  40589.7302,  28688.8492,  59186.775 ,  39364.8756,\n",
       "        71971.1254,  81245.6624,  27127.4968,  27889.6544,  41977.3892,\n",
       "        73186.5652,  42098.6224,  74878.5082,  26127.6278,  26593.2208,\n",
       "        51178.9596,  89516.7272,  57222.6136,  45304.6732,  64333.2492,\n",
       "        62193.799 ,  52058.2568,  76579.4528,  58610.2938,  47967.0688,\n",
       "        38541.8098,  86963.367 ,  27370.3744,  77900.4258,  40364.8432,\n",
       "        42412.8476,  54293.4646,  27619.526 ,  43304.3304,  33324.4752,\n",
       "        37420.0962,  46618.113 ,  63740.6602,  67642.759 ,  62102.292 ,\n",
       "        69817.9646,  65913.0902,  72626.0236,  24978.8944,  42597.656 ,\n",
       "        47890.3906,  45813.0766,  81984.3952,  56926.5122,  81282.4188,\n",
       "        20200.9048,  20002.51  ,  54242.75  ,  21815.9564,  30082.3014,\n",
       "        39408.8104,  40288.9414,  53200.6872,  71381.505 ,  42831.152 ,\n",
       "        22038.1064,  81868.3216,  40075.346 ,  50387.4938,  56611.6236,\n",
       "        65562.4838,  79428.0242,  64085.9946,  55602.2704,  66976.6382,\n",
       "        40674.8608,  61288.136 ,  46237.2654,  30443.7328,  68389.8612,\n",
       "        47610.2172,  73775.2018,  43419.8848,  71091.5544,  79298.632 ,\n",
       "        60447.7918,  35360.34  ,  37847.1502,  71731.9316,  66521.9794,\n",
       "        78036.2622,  42571.7518,  66061.8598,  40670.7276,  77844.8854,\n",
       "        35777.078 ,  27290.0444,  76540.8952,  56164.4294,  23606.5552,\n",
       "        58942.4886,  69983.3278,  73995.5106,  68647.6138,  30141.6346,\n",
       "        60445.3916,  80615.3766,  30195.9444,  59321.7856,  49155.1138,\n",
       "        72502.825 ,  77495.7144,  33820.278 ,  54719.7214,  62163.8798,\n",
       "        65562.4838, 111446.8506,  81975.9766,  71726.1258,  44441.6742,\n",
       "        71116.3126,  47236.4502,  38721.7972,  79126.1634,  52384.9796,\n",
       "        73345.591 ,  28069.1294,  50320.8762,  59134.0476,  71009.8944,\n",
       "        71871.8976,  70293.3524,  81439.3144,  65094.734 ,  35975.4508,\n",
       "        34445.4582,  71311.572 ,  63252.5396,  36886.9162,  75099.3126,\n",
       "        75171.4172,  75347.8968,  55136.1552,  45954.1228,  34374.415 ,\n",
       "        75977.9148,  65720.2524,  76123.9258,  56809.161 ,  89428.8716,\n",
       "        75836.0476,  81322.6994,  37428.3638,  31539.4504,  71217.3764,\n",
       "        70023.6914,  39684.6484,  57242.6376,  69673.571 ,  24548.557 ,\n",
       "        34827.7262,  84644.5042,  72847.3292,  56219.1292,  70967.3498,\n",
       "        30200.4532,  33883.3784,  22878.8862,  58711.3246,  44014.0434,\n",
       "        67695.4014,  92750.9478,  47771.7626,  36764.8922,  40314.8716,\n",
       "        19855.6122,  18294.1302,  42006.8986,  68207.4754,  25821.6852,\n",
       "        54198.5122,  41579.7194,  37847.1502,  55956.3976,  61424.9018,\n",
       "        20435.5856,  79379.0388,  20900.1466,  26127.6278,  22654.757 ,\n",
       "        21899.1532, 147093.2116,  33620.738 ,  32934.4288,  69673.571 ,\n",
       "        46068.8152,  37400.014 ,  54765.2594,  83958.1506,  51237.5434,\n",
       "        32445.0692,  60326.1052,  71423.3108,  63677.8718,  65327.1644,\n",
       "        40742.7424,  21838.8784,  78986.543 ,  44690.7504,  81850.6754,\n",
       "        75506.5448,  74585.3334,  30752.9704,  52537.288 ,  61652.7302,\n",
       "        22109.18  ,  67370.6232,  60771.352 ,  74701.8176,  50152.8002,\n",
       "        22097.872 ,  71356.1424,  59532.7132,  52146.0008,  76158.346 ,\n",
       "        68752.3268,  52576.4976,  54766.1798,  50676.6512,  57033.054 ,\n",
       "        38580.0188,  24424.8424,  48172.703 ,  77839.64  ,  69151.5424,\n",
       "        81887.5544,  26272.8142,  80842.7602,  64687.2322,  28661.2772,\n",
       "        38545.5984,  74379.6168,  76004.7962,  28777.0964,  43464.87  ,\n",
       "        23928.2884,  59717.2206,  54209.1226,  33809.3928,  48098.0966,\n",
       "        84581.3378,  74456.39  ,  44547.568 ,  45085.0594,  52403.0278,\n",
       "        38471.6646,  77145.1212,  23655.1814,  60155.1282,  25586.1382,\n",
       "        29529.014 ,  38814.0438,  75217.5076,  35072.8122,  37619.3422,\n",
       "        27614.448 ,  52193.1432,  46252.0568,  42575.8324,  38527.1548,\n",
       "        71945.625 ,  70126.1644,  72610.9836,  80837.4264,  43084.2922,\n",
       "        46258.4882,  67615.5196,  38661.0468,  56825.0566,  35855.7334,\n",
       "        49751.0334,  37631.4774,  58687.2568,  28467.9426,  81212.6624,\n",
       "        68084.718 ,  64695.5942,  27316.3962,  42769.8538,  63552.258 ,\n",
       "        30315.0462,  53397.3268,  81975.9766,  72023.3496,  65128.6124,\n",
       "        67718.4066,  36159.794 ,  77930.3228,  76120.1538,  47236.4502,\n",
       "        79617.9712,  27095.6612,  88901.029 ,  39579.1888,  44470.872 ,\n",
       "        56926.0144,  75106.9614,  74927.0088,  75532.2008,  30220.1544,\n",
       "        23441.9578,  41139.5142,  38387.2414,  43490.3494,  65539.4246,\n",
       "        53511.6318,  60260.2598,  32904.5124,  36056.0618,  51735.1572,\n",
       "        69887.499 ,  57654.3148,  47765.2916,  55524.2948,  47334.0274,\n",
       "        27729.0358,  55555.2208,  54559.284 ,  42007.7512,  73876.5206,\n",
       "        35009.4068,  71663.634 ,  80367.4668,  37883.3844,  59916.1788,\n",
       "        74311.044 ,  27959.466 ,  31845.4652,  42904.3708,  25069.7486,\n",
       "        62989.607 ,  42119.4208,  61365.2598,  76592.1992,  29880.4934,\n",
       "        33082.3318,  63978.5198,  79946.9244,  53377.0522,  53492.6504,\n",
       "        76593.1738,  74096.4812,  74369.1764,  56742.9466,  74633.8024,\n",
       "        38062.7854,  48965.6082,  63378.5118,  78463.1246,  75836.0476,\n",
       "        34112.1124,  78185.1682,  47882.1314,  38267.7074,  33464.388 ,\n",
       "        58644.9282,  86277.6582,  75398.014 ,  22311.4984,  22259.4764,\n",
       "        74136.2658,  44381.791 ,  87792.4682,  40123.2592,  21966.8288,\n",
       "        65458.0834,  45336.093 ,  62566.6218,  59153.6764,  27359.9534,\n",
       "        66343.6802,  39216.5266,  31722.586 ,  22061.7196,  39176.0192,\n",
       "        35021.4864,  20992.4296,  65737.5644,  41930.0608,  42132.8178,\n",
       "        72446.0776,  46692.2274,  29662.5216,  85245.1662,  41014.6436,\n",
       "        26023.5144,  55982.3234,  66716.3424,  73727.6786,  37703.5084,\n",
       "        90387.528 ,  54029.3504,  46004.3238,  39533.245 ,  62300.1666,\n",
       "        56163.5032,  61590.1394,  75790.7072,  69053.5452,  65921.1018,\n",
       "        81245.6624,  29646.9526,  26959.5762,  57227.268 ,  54430.0878,\n",
       "        34251.6234,  54938.7968,  57327.8622,  59726.5872,  41979.3708,\n",
       "        68957.1408,  53338.7398,  30547.4878,  71555.6314,  44403.4538,\n",
       "        61576.1758,  45404.5776,  19808.6268,  47374.6766,  56222.4034])"
      ]
     },
     "execution_count": 51,
     "metadata": {},
     "output_type": "execute_result"
    }
   ],
   "source": [
    "grid_rf.predict(x_train)\n",
    "grid_rf.predict(x_test)"
   ]
  },
  {
   "cell_type": "markdown",
   "metadata": {},
   "source": [
    "### 4.5) Análisis de las métricas de error"
   ]
  },
  {
   "cell_type": "markdown",
   "metadata": {},
   "source": [
    "**NOTA:** neg_mean_absolute_error más cercano a 0 es mucho mejor."
   ]
  },
  {
   "cell_type": "code",
   "execution_count": 52,
   "metadata": {},
   "outputs": [
    {
     "data": {
      "text/html": [
       "<div>\n",
       "<style scoped>\n",
       "    .dataframe tbody tr th:only-of-type {\n",
       "        vertical-align: middle;\n",
       "    }\n",
       "\n",
       "    .dataframe tbody tr th {\n",
       "        vertical-align: top;\n",
       "    }\n",
       "\n",
       "    .dataframe thead th {\n",
       "        text-align: right;\n",
       "    }\n",
       "</style>\n",
       "<table border=\"1\" class=\"dataframe\">\n",
       "  <thead>\n",
       "    <tr style=\"text-align: right;\">\n",
       "      <th></th>\n",
       "      <th>max_features</th>\n",
       "      <th>n_estimators</th>\n",
       "      <th>neg_mean_absolute_error</th>\n",
       "    </tr>\n",
       "  </thead>\n",
       "  <tbody>\n",
       "    <tr>\n",
       "      <th>1</th>\n",
       "      <td>50</td>\n",
       "      <td>5000</td>\n",
       "      <td>-6864.370858</td>\n",
       "    </tr>\n",
       "    <tr>\n",
       "      <th>0</th>\n",
       "      <td>50</td>\n",
       "      <td>500</td>\n",
       "      <td>-6877.579996</td>\n",
       "    </tr>\n",
       "    <tr>\n",
       "      <th>3</th>\n",
       "      <td>100</td>\n",
       "      <td>5000</td>\n",
       "      <td>-6877.592653</td>\n",
       "    </tr>\n",
       "    <tr>\n",
       "      <th>2</th>\n",
       "      <td>100</td>\n",
       "      <td>500</td>\n",
       "      <td>-6976.484211</td>\n",
       "    </tr>\n",
       "  </tbody>\n",
       "</table>\n",
       "</div>"
      ],
      "text/plain": [
       "   max_features  n_estimators  neg_mean_absolute_error\n",
       "1            50          5000             -6864.370858\n",
       "0            50           500             -6877.579996\n",
       "3           100          5000             -6877.592653\n",
       "2           100           500             -6976.484211"
      ]
     },
     "execution_count": 52,
     "metadata": {},
     "output_type": "execute_result"
    }
   ],
   "source": [
    "pd.concat([pd.DataFrame(grid_rf.cv_results_[\"params\"]),\n",
    "           pd.DataFrame(grid_rf.cv_results_[\"mean_test_score\"], \n",
    "                        columns=[\"neg_mean_absolute_error\"])],axis=1).sort_values('neg_mean_absolute_error', ascending=False)"
   ]
  },
  {
   "cell_type": "markdown",
   "metadata": {},
   "source": [
    "Análisis métrica TR vs TS:"
   ]
  },
  {
   "cell_type": "code",
   "execution_count": 53,
   "metadata": {},
   "outputs": [
    {
     "data": {
      "text/plain": [
       "-2398.7404724693747"
      ]
     },
     "execution_count": 53,
     "metadata": {},
     "output_type": "execute_result"
    }
   ],
   "source": [
    "grid_rf.score(x_train, y_train)"
   ]
  },
  {
   "cell_type": "code",
   "execution_count": 54,
   "metadata": {},
   "outputs": [
    {
     "data": {
      "text/plain": [
       "-5887.723622255639"
      ]
     },
     "execution_count": 54,
     "metadata": {},
     "output_type": "execute_result"
    }
   ],
   "source": [
    "grid_rf.score(x_test, y_test)"
   ]
  },
  {
   "cell_type": "markdown",
   "metadata": {},
   "source": [
    "Links útiles:\n",
    "\n",
    "- Para investigar más de `gridsearch`: [Hyperparameter Tuning the Random Forest in Python](https://towardsdatascience.com/hyperparameter-tuning-the-random-forest-in-python-using-scikit-learn-28d2aa77dd74).\n",
    "- Doc oficial [GridSearchCV](https://scikit-learn.org/stable/modules/generated/sklearn.model_selection.GridSearchCV.html#sklearn.model_selection.GridSearchCV)"
   ]
  },
  {
   "cell_type": "markdown",
   "metadata": {},
   "source": [
    "### 4.6) Gráfico de la curva del error"
   ]
  },
  {
   "cell_type": "markdown",
   "metadata": {},
   "source": [
    "**Gráfico de prediction error**\n",
    "\n",
    "- Linea gris: Lo que nos gustaría que fuera\n",
    "- Linea negra: El ajuste de regresión, de la regresión misma"
   ]
  },
  {
   "cell_type": "code",
   "execution_count": 55,
   "metadata": {},
   "outputs": [
    {
     "data": {
      "image/png": "[encoded data removed]",
      "text/plain": [
       "<Figure size 576x396 with 1 Axes>"
      ]
     },
     "metadata": {},
     "output_type": "display_data"
    },
    {
     "data": {
      "text/plain": [
       "<AxesSubplot:title={'center':'Prediction Error for GridSearchCV'}, xlabel='$y$', ylabel='$\\\\hat{y}$'>"
      ]
     },
     "execution_count": 55,
     "metadata": {},
     "output_type": "execute_result"
    }
   ],
   "source": [
    "from yellowbrick.regressor import PredictionError\n",
    "\n",
    "vis_pred_err = PredictionError(grid_rf)\n",
    "\n",
    "vis_pred_err.fit(x_train, y_train)  # Fiteamos los datos al visualizador\n",
    "vis_pred_err.score(x_test, y_test)  # Calculamos las métricas para test\n",
    "vis_pred_err.show()                 # Visualizamos!"
   ]
  },
  {
   "cell_type": "markdown",
   "metadata": {},
   "source": [
    "**Gráfico de residuos**"
   ]
  },
  {
   "cell_type": "code",
   "execution_count": 56,
   "metadata": {},
   "outputs": [
    {
     "data": {
      "image/png": "[encoded data removed]",
      "text/plain": [
       "<Figure size 576x396 with 2 Axes>"
      ]
     },
     "metadata": {},
     "output_type": "display_data"
    },
    {
     "data": {
      "text/plain": [
       "<AxesSubplot:title={'center':'Residuals for RandomForestRegressor Model'}, xlabel='Predicted Value', ylabel='Residuals'>"
      ]
     },
     "execution_count": 56,
     "metadata": {},
     "output_type": "execute_result"
    }
   ],
   "source": [
    "from yellowbrick.regressor import ResidualsPlot\n",
    "\n",
    "# ojo: poner best_estimator_\n",
    "vis_res = ResidualsPlot(grid_rf.best_estimator_)\n",
    "\n",
    "\n",
    "# Copy-paste de la doc oficial: \n",
    "vis_res.fit(x_train, y_train)  # Fiteamos los datos al visualizador\n",
    "vis_res.score(x_test, y_test)  # Calculamos las métricas para test\n",
    "vis_res.show()                 # Visualizamos!"
   ]
  },
  {
   "cell_type": "code",
   "execution_count": 57,
   "metadata": {},
   "outputs": [
    {
     "data": {
      "image/png": "[encoded data removed]",
      "text/plain": [
       "<Figure size 576x396 with 2 Axes>"
      ]
     },
     "metadata": {},
     "output_type": "display_data"
    },
    {
     "data": {
      "text/plain": [
       "<AxesSubplot:title={'center':'Residuals for GridSearchCV Model'}, xlabel='Predicted Value', ylabel='Residuals'>"
      ]
     },
     "execution_count": 57,
     "metadata": {},
     "output_type": "execute_result"
    }
   ],
   "source": [
    "vis_res2 = ResidualsPlot(grid_rf)\n",
    "\n",
    "# Copy-paste de la doc oficial: https://www.scikit-yb.org/en/latest/quickstart.html\n",
    "vis_res2.fit(x_train, y_train)  # Fiteamos los datos al visualizador\n",
    "vis_res2.score(x_test, y_test)  # Calculamos las métricas para test\n",
    "vis_res2.show()                 # Visualizamos!"
   ]
  },
  {
   "cell_type": "markdown",
   "metadata": {},
   "source": [
    "Doc oficial: https://www.scikit-yb.org/en/latest/quickstart.html"
   ]
  },
  {
   "cell_type": "markdown",
   "metadata": {},
   "source": [
    "# 5) Guardar un modelo"
   ]
  },
  {
   "cell_type": "markdown",
   "metadata": {},
   "source": [
    "Vamos a guardar el modelo de clasificación"
   ]
  },
  {
   "cell_type": "code",
   "execution_count": 36,
   "metadata": {},
   "outputs": [],
   "source": [
    "import pickle"
   ]
  },
  {
   "cell_type": "code",
   "execution_count": 37,
   "metadata": {},
   "outputs": [],
   "source": [
    "# Guardar en el disco\n",
    "filename = 'rf.pkl'\n",
    "pickle.dump(rf, open(filename, 'wb')) # rf = nuestro modelo"
   ]
  },
  {
   "cell_type": "code",
   "execution_count": 38,
   "metadata": {},
   "outputs": [],
   "source": [
    "# Lo cargamos para usarlo en otro momento. \n",
    "rf_loaded = pickle.load(open(filename, 'rb'))"
   ]
  },
  {
   "cell_type": "code",
   "execution_count": null,
   "metadata": {},
   "outputs": [],
   "source": []
  }
 ],
 "metadata": {
  "kernelspec": {
   "display_name": "Python 3 (ipykernel)",
   "language": "python",
   "name": "python3"
  },
  "language_info": {
   "codemirror_mode": {
    "name": "ipython",
    "version": 3
   },
   "file_extension": ".py",
   "mimetype": "text/x-python",
   "name": "python",
   "nbconvert_exporter": "python",
   "pygments_lexer": "ipython3",
   "version": "3.9.16"
  }
 },
 "nbformat": 4,
 "nbformat_minor": 4
}
