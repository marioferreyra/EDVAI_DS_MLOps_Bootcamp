{
 "cells": [
  {
   "cell_type": "markdown",
   "metadata": {},
   "source": [
    "## Importar librerías 🙌"
   ]
  },
  {
   "cell_type": "code",
   "execution_count": 37,
   "metadata": {},
   "outputs": [],
   "source": [
    "import pandas as pd\n",
    "import matplotlib.pyplot as plt"
   ]
  },
  {
   "cell_type": "markdown",
   "metadata": {},
   "source": [
    "## Cargar data y visualizarla 👀"
   ]
  },
  {
   "cell_type": "code",
   "execution_count": 31,
   "metadata": {},
   "outputs": [],
   "source": [
    "data = pd.read_csv(\"./layoffs.csv\")"
   ]
  },
  {
   "cell_type": "code",
   "execution_count": 32,
   "metadata": {},
   "outputs": [
    {
     "data": {
      "text/html": [
       "<div>\n",
       "<style scoped>\n",
       "    .dataframe tbody tr th:only-of-type {\n",
       "        vertical-align: middle;\n",
       "    }\n",
       "\n",
       "    .dataframe tbody tr th {\n",
       "        vertical-align: top;\n",
       "    }\n",
       "\n",
       "    .dataframe thead th {\n",
       "        text-align: right;\n",
       "    }\n",
       "</style>\n",
       "<table border=\"1\" class=\"dataframe\">\n",
       "  <thead>\n",
       "    <tr style=\"text-align: right;\">\n",
       "      <th></th>\n",
       "      <th>Id</th>\n",
       "      <th>Nombre</th>\n",
       "      <th>Apellido</th>\n",
       "      <th>Area</th>\n",
       "      <th>Fecha comienzo</th>\n",
       "      <th>Fecha fin</th>\n",
       "      <th>Nivel</th>\n",
       "      <th>Grupo recruitment</th>\n",
       "      <th>Tiempo recruitment</th>\n",
       "      <th>Rango Salarial</th>\n",
       "      <th>RS competencia</th>\n",
       "      <th>Manager</th>\n",
       "      <th>Realizo Cursos</th>\n",
       "    </tr>\n",
       "  </thead>\n",
       "  <tbody>\n",
       "    <tr>\n",
       "      <th>0</th>\n",
       "      <td>1</td>\n",
       "      <td>Romina</td>\n",
       "      <td>Brito</td>\n",
       "      <td>Marketing</td>\n",
       "      <td>03/05/2018</td>\n",
       "      <td>12/31/2018</td>\n",
       "      <td>N3</td>\n",
       "      <td>Grupo B</td>\n",
       "      <td>3</td>\n",
       "      <td>Rango 3</td>\n",
       "      <td>Rango 3</td>\n",
       "      <td>1</td>\n",
       "      <td>SI</td>\n",
       "    </tr>\n",
       "    <tr>\n",
       "      <th>1</th>\n",
       "      <td>2</td>\n",
       "      <td>Pedro</td>\n",
       "      <td>Lujan</td>\n",
       "      <td>Compras</td>\n",
       "      <td>03/06/2017</td>\n",
       "      <td>12/31/2021</td>\n",
       "      <td>N3</td>\n",
       "      <td>Grupo B</td>\n",
       "      <td>3</td>\n",
       "      <td>Rango 2</td>\n",
       "      <td>Rango 2</td>\n",
       "      <td>2</td>\n",
       "      <td>SI</td>\n",
       "    </tr>\n",
       "    <tr>\n",
       "      <th>2</th>\n",
       "      <td>3</td>\n",
       "      <td>Juan</td>\n",
       "      <td>Albornoz</td>\n",
       "      <td>IT</td>\n",
       "      <td>06/04/2018</td>\n",
       "      <td>04/30/2019</td>\n",
       "      <td>N4</td>\n",
       "      <td>Grupo C</td>\n",
       "      <td>4</td>\n",
       "      <td>Rango 4</td>\n",
       "      <td>Rango 4</td>\n",
       "      <td>5</td>\n",
       "      <td>NO</td>\n",
       "    </tr>\n",
       "    <tr>\n",
       "      <th>3</th>\n",
       "      <td>4</td>\n",
       "      <td>Sebastian</td>\n",
       "      <td>González</td>\n",
       "      <td>Legales</td>\n",
       "      <td>05/07/2018</td>\n",
       "      <td>05/30/2021</td>\n",
       "      <td>N2</td>\n",
       "      <td>Grupo A</td>\n",
       "      <td>4</td>\n",
       "      <td>Rango 2</td>\n",
       "      <td>Rango 2</td>\n",
       "      <td>3</td>\n",
       "      <td>SI</td>\n",
       "    </tr>\n",
       "    <tr>\n",
       "      <th>4</th>\n",
       "      <td>5</td>\n",
       "      <td>Franco</td>\n",
       "      <td>Rodríguez</td>\n",
       "      <td>Marketing</td>\n",
       "      <td>05/01/2017</td>\n",
       "      <td>11/30/2017</td>\n",
       "      <td>N5</td>\n",
       "      <td>Grupo C</td>\n",
       "      <td>6</td>\n",
       "      <td>Rango 5</td>\n",
       "      <td>Rango 4</td>\n",
       "      <td>1</td>\n",
       "      <td>SI</td>\n",
       "    </tr>\n",
       "  </tbody>\n",
       "</table>\n",
       "</div>"
      ],
      "text/plain": [
       "   Id     Nombre   Apellido       Area Fecha comienzo   Fecha fin Nivel  \\\n",
       "0   1     Romina      Brito  Marketing     03/05/2018  12/31/2018    N3   \n",
       "1   2      Pedro      Lujan    Compras     03/06/2017  12/31/2021    N3   \n",
       "2   3       Juan   Albornoz         IT     06/04/2018  04/30/2019    N4   \n",
       "3   4  Sebastian   González    Legales     05/07/2018  05/30/2021    N2   \n",
       "4   5     Franco  Rodríguez  Marketing     05/01/2017  11/30/2017    N5   \n",
       "\n",
       "  Grupo recruitment  Tiempo recruitment Rango Salarial RS competencia  \\\n",
       "0           Grupo B                   3        Rango 3        Rango 3   \n",
       "1           Grupo B                   3        Rango 2        Rango 2   \n",
       "2           Grupo C                   4        Rango 4        Rango 4   \n",
       "3           Grupo A                   4        Rango 2        Rango 2   \n",
       "4           Grupo C                   6        Rango 5        Rango 4   \n",
       "\n",
       "   Manager Realizo Cursos  \n",
       "0        1             SI  \n",
       "1        2             SI  \n",
       "2        5             NO  \n",
       "3        3             SI  \n",
       "4        1             SI  "
      ]
     },
     "execution_count": 32,
     "metadata": {},
     "output_type": "execute_result"
    }
   ],
   "source": [
    "data.head(5)"
   ]
  },
  {
   "cell_type": "code",
   "execution_count": 33,
   "metadata": {},
   "outputs": [
    {
     "data": {
      "text/plain": [
       "Index(['Id', 'Nombre', 'Apellido', 'Area', 'Fecha comienzo', 'Fecha fin',\n",
       "       'Nivel', 'Grupo recruitment', 'Tiempo recruitment', 'Rango Salarial',\n",
       "       'RS competencia', 'Manager', 'Realizo Cursos'],\n",
       "      dtype='object')"
      ]
     },
     "execution_count": 33,
     "metadata": {},
     "output_type": "execute_result"
    }
   ],
   "source": [
    "data.columns"
   ]
  },
  {
   "cell_type": "markdown",
   "metadata": {},
   "source": [
    "## Análisis de datos 🤓"
   ]
  },
  {
   "cell_type": "code",
   "execution_count": 34,
   "metadata": {},
   "outputs": [],
   "source": [
    "data[\"Fecha comienzo\"] = pd.to_datetime(data[\"Fecha comienzo\"], format=\"%m/%d/%Y\")\n",
    "data[\"Fecha fin\"] = pd.to_datetime(data[\"Fecha fin\"], format=\"%m/%d/%Y\")"
   ]
  },
  {
   "cell_type": "code",
   "execution_count": 51,
   "metadata": {},
   "outputs": [],
   "source": [
    "data[\"Dias transcurridos\"] = (data[\"Fecha fin\"] - data[\"Fecha comienzo\"]).dt.days"
   ]
  },
  {
   "cell_type": "code",
   "execution_count": 52,
   "metadata": {},
   "outputs": [
    {
     "data": {
      "text/html": [
       "<div>\n",
       "<style scoped>\n",
       "    .dataframe tbody tr th:only-of-type {\n",
       "        vertical-align: middle;\n",
       "    }\n",
       "\n",
       "    .dataframe tbody tr th {\n",
       "        vertical-align: top;\n",
       "    }\n",
       "\n",
       "    .dataframe thead th {\n",
       "        text-align: right;\n",
       "    }\n",
       "</style>\n",
       "<table border=\"1\" class=\"dataframe\">\n",
       "  <thead>\n",
       "    <tr style=\"text-align: right;\">\n",
       "      <th></th>\n",
       "      <th>Id</th>\n",
       "      <th>Nombre</th>\n",
       "      <th>Apellido</th>\n",
       "      <th>Area</th>\n",
       "      <th>Fecha comienzo</th>\n",
       "      <th>Fecha fin</th>\n",
       "      <th>Nivel</th>\n",
       "      <th>Grupo recruitment</th>\n",
       "      <th>Tiempo recruitment</th>\n",
       "      <th>Rango Salarial</th>\n",
       "      <th>RS competencia</th>\n",
       "      <th>Manager</th>\n",
       "      <th>Realizo Cursos</th>\n",
       "      <th>Dias transcurridos</th>\n",
       "    </tr>\n",
       "  </thead>\n",
       "  <tbody>\n",
       "    <tr>\n",
       "      <th>0</th>\n",
       "      <td>1</td>\n",
       "      <td>Romina</td>\n",
       "      <td>Brito</td>\n",
       "      <td>Marketing</td>\n",
       "      <td>2018-03-05</td>\n",
       "      <td>2018-12-31</td>\n",
       "      <td>N3</td>\n",
       "      <td>Grupo B</td>\n",
       "      <td>3</td>\n",
       "      <td>Rango 3</td>\n",
       "      <td>Rango 3</td>\n",
       "      <td>1</td>\n",
       "      <td>SI</td>\n",
       "      <td>301</td>\n",
       "    </tr>\n",
       "    <tr>\n",
       "      <th>1</th>\n",
       "      <td>2</td>\n",
       "      <td>Pedro</td>\n",
       "      <td>Lujan</td>\n",
       "      <td>Compras</td>\n",
       "      <td>2017-03-06</td>\n",
       "      <td>2021-12-31</td>\n",
       "      <td>N3</td>\n",
       "      <td>Grupo B</td>\n",
       "      <td>3</td>\n",
       "      <td>Rango 2</td>\n",
       "      <td>Rango 2</td>\n",
       "      <td>2</td>\n",
       "      <td>SI</td>\n",
       "      <td>1761</td>\n",
       "    </tr>\n",
       "    <tr>\n",
       "      <th>2</th>\n",
       "      <td>3</td>\n",
       "      <td>Juan</td>\n",
       "      <td>Albornoz</td>\n",
       "      <td>IT</td>\n",
       "      <td>2018-06-04</td>\n",
       "      <td>2019-04-30</td>\n",
       "      <td>N4</td>\n",
       "      <td>Grupo C</td>\n",
       "      <td>4</td>\n",
       "      <td>Rango 4</td>\n",
       "      <td>Rango 4</td>\n",
       "      <td>5</td>\n",
       "      <td>NO</td>\n",
       "      <td>330</td>\n",
       "    </tr>\n",
       "    <tr>\n",
       "      <th>3</th>\n",
       "      <td>4</td>\n",
       "      <td>Sebastian</td>\n",
       "      <td>González</td>\n",
       "      <td>Legales</td>\n",
       "      <td>2018-05-07</td>\n",
       "      <td>2021-05-30</td>\n",
       "      <td>N2</td>\n",
       "      <td>Grupo A</td>\n",
       "      <td>4</td>\n",
       "      <td>Rango 2</td>\n",
       "      <td>Rango 2</td>\n",
       "      <td>3</td>\n",
       "      <td>SI</td>\n",
       "      <td>1119</td>\n",
       "    </tr>\n",
       "    <tr>\n",
       "      <th>4</th>\n",
       "      <td>5</td>\n",
       "      <td>Franco</td>\n",
       "      <td>Rodríguez</td>\n",
       "      <td>Marketing</td>\n",
       "      <td>2017-05-01</td>\n",
       "      <td>2017-11-30</td>\n",
       "      <td>N5</td>\n",
       "      <td>Grupo C</td>\n",
       "      <td>6</td>\n",
       "      <td>Rango 5</td>\n",
       "      <td>Rango 4</td>\n",
       "      <td>1</td>\n",
       "      <td>SI</td>\n",
       "      <td>213</td>\n",
       "    </tr>\n",
       "  </tbody>\n",
       "</table>\n",
       "</div>"
      ],
      "text/plain": [
       "   Id     Nombre   Apellido       Area Fecha comienzo  Fecha fin Nivel  \\\n",
       "0   1     Romina      Brito  Marketing     2018-03-05 2018-12-31    N3   \n",
       "1   2      Pedro      Lujan    Compras     2017-03-06 2021-12-31    N3   \n",
       "2   3       Juan   Albornoz         IT     2018-06-04 2019-04-30    N4   \n",
       "3   4  Sebastian   González    Legales     2018-05-07 2021-05-30    N2   \n",
       "4   5     Franco  Rodríguez  Marketing     2017-05-01 2017-11-30    N5   \n",
       "\n",
       "  Grupo recruitment  Tiempo recruitment Rango Salarial RS competencia  \\\n",
       "0           Grupo B                   3        Rango 3        Rango 3   \n",
       "1           Grupo B                   3        Rango 2        Rango 2   \n",
       "2           Grupo C                   4        Rango 4        Rango 4   \n",
       "3           Grupo A                   4        Rango 2        Rango 2   \n",
       "4           Grupo C                   6        Rango 5        Rango 4   \n",
       "\n",
       "   Manager Realizo Cursos  Dias transcurridos  \n",
       "0        1             SI                 301  \n",
       "1        2             SI                1761  \n",
       "2        5             NO                 330  \n",
       "3        3             SI                1119  \n",
       "4        1             SI                 213  "
      ]
     },
     "execution_count": 52,
     "metadata": {},
     "output_type": "execute_result"
    }
   ],
   "source": [
    "data.head(5)"
   ]
  },
  {
   "cell_type": "markdown",
   "metadata": {},
   "source": [
    "## Visualización 💸"
   ]
  },
  {
   "cell_type": "code",
   "execution_count": 53,
   "metadata": {},
   "outputs": [
    {
     "data": {
      "text/plain": [
       "Text(0.5, 0.98, 'Permanencia en la empresa según el área')"
      ]
     },
     "execution_count": 53,
     "metadata": {},
     "output_type": "execute_result"
    },
    {
     "data": {
      "image/png": "[encoded data removed]",
      "text/plain": [
       "<Figure size 720x288 with 1 Axes>"
      ]
     },
     "metadata": {
      "needs_background": "light"
     },
     "output_type": "display_data"
    }
   ],
   "source": [
    "plt.rcParams[\"figure.figsize\"] = (10,4)\n",
    "\n",
    "plt.bar(data['Area'], data['Dias transcurridos'])\n",
    "plt.suptitle('Permanencia en la empresa según el área')"
   ]
  },
  {
   "cell_type": "code",
   "execution_count": 57,
   "metadata": {},
   "outputs": [
    {
     "data": {
      "text/plain": [
       "Text(0.5, 0.98, 'Permanencia en la empresa según el manager')"
      ]
     },
     "execution_count": 57,
     "metadata": {},
     "output_type": "execute_result"
    },
    {
     "data": {
      "image/png": "[encoded data removed]",
      "text/plain": [
       "<Figure size 720x288 with 1 Axes>"
      ]
     },
     "metadata": {
      "needs_background": "light"
     },
     "output_type": "display_data"
    }
   ],
   "source": [
    "plt.rcParams[\"figure.figsize\"] = (10,4)\n",
    "\n",
    "plt.bar(data['Manager'], data['Dias transcurridos'])\n",
    "plt.suptitle('Permanencia en la empresa según el manager')"
   ]
  },
  {
   "cell_type": "code",
   "execution_count": 56,
   "metadata": {},
   "outputs": [
    {
     "data": {
      "text/plain": [
       "Text(0.5, 0.98, 'Permanencia en la empresa según equipo de recruiters que te evaluaron')"
      ]
     },
     "execution_count": 56,
     "metadata": {},
     "output_type": "execute_result"
    },
    {
     "data": {
      "image/png": "[encoded data removed]",
      "text/plain": [
       "<Figure size 720x288 with 1 Axes>"
      ]
     },
     "metadata": {
      "needs_background": "light"
     },
     "output_type": "display_data"
    }
   ],
   "source": [
    "plt.rcParams[\"figure.figsize\"] = (10,4)\n",
    "\n",
    "plt.bar(data['Grupo recruitment'], data['Dias transcurridos'])\n",
    "plt.suptitle('Permanencia en la empresa según equipo de recruiters que te evaluaron')"
   ]
  },
  {
   "cell_type": "code",
   "execution_count": null,
   "metadata": {},
   "outputs": [],
   "source": []
  }
 ],
 "metadata": {
  "kernelspec": {
   "display_name": "Python 3 (ipykernel)",
   "language": "python",
   "name": "python3"
  },
  "language_info": {
   "codemirror_mode": {
    "name": "ipython",
    "version": 3
   },
   "file_extension": ".py",
   "mimetype": "text/x-python",
   "name": "python",
   "nbconvert_exporter": "python",
   "pygments_lexer": "ipython3",
   "version": "3.9.16"
  }
 },
 "nbformat": 4,
 "nbformat_minor": 4
}
