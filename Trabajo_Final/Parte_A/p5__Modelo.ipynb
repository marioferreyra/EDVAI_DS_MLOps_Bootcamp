{
 "cells": [
  {
   "cell_type": "markdown",
   "id": "58e6cfe5-b5dd-4ac4-b5a9-7c8478196db8",
   "metadata": {},
   "source": [
    "# Bootcamp Data Science y MLOps\n",
    "\n",
    "<img src=\"https://i.ibb.co/5RM26Cw/LOGO-COLOR2.png\" width=\"500px\">\n",
    "\n",
    "Creado en [escueladedatosvivos.ai](https://escueladedatosvivos.ai) 🚀.\n",
    "\n",
    "¿Consultas? En la página tenés soporte por IA guiada, comunidad y el acceso a certificación.\n",
    "\n",
    "<br>\n",
    "\n",
    "---  "
   ]
  },
  {
   "cell_type": "markdown",
   "id": "a8e335fb-4738-4070-9105-d167cb56185c",
   "metadata": {},
   "source": [
    "# 1) Cargamos los datos"
   ]
  },
  {
   "cell_type": "code",
   "execution_count": 1,
   "id": "3a907ce7-a218-4c01-9fec-d5591d155d50",
   "metadata": {
    "tags": []
   },
   "outputs": [],
   "source": [
    "import numpy as np\n",
    "import pandas as pd\n",
    "import funpymodeling\n",
    "import matplotlib.pyplot as plt"
   ]
  },
  {
   "cell_type": "code",
   "execution_count": 2,
   "id": "4bf862cd-aee4-45ac-a590-cb75e1a3e2f4",
   "metadata": {
    "tags": []
   },
   "outputs": [],
   "source": [
    "import mlflow.sklearn"
   ]
  },
  {
   "cell_type": "code",
   "execution_count": 3,
   "id": "f4e2675b-eff3-42ab-a234-7ea40a3f11fc",
   "metadata": {
    "tags": []
   },
   "outputs": [
    {
     "name": "stderr",
     "output_type": "stream",
     "text": [
      "2023/06/20 13:40:16 INFO mlflow.tracking.fluent: Experiment with name 'edvai_ds_mlops_bootcampi_trabajo_final' does not exist. Creating a new experiment.\n"
     ]
    },
    {
     "data": {
      "text/plain": [
       "<Experiment: artifact_location='file:///Users/maferreyra/Documents/EDVAI_DS_MLOps_Bootcamp/Trabajo_Final/Parte_A/mlruns/244941314405736838', creation_time=1687279216968, experiment_id='244941314405736838', last_update_time=1687279216968, lifecycle_stage='active', name='edvai_ds_mlops_bootcampi_trabajo_final', tags={}>"
      ]
     },
     "execution_count": 3,
     "metadata": {},
     "output_type": "execute_result"
    }
   ],
   "source": [
    "# Creamos el experimento en MLFlow\n",
    "mlflow.set_experiment(experiment_name=\"edvai_ds_mlops_bootcampi_trabajo_final\")"
   ]
  },
  {
   "cell_type": "code",
   "execution_count": 4,
   "id": "5264b622-7467-4997-939f-e87fe8b93f14",
   "metadata": {
    "tags": []
   },
   "outputs": [],
   "source": [
    "# Para visualizar todas las columnas\n",
    "pd.set_option('display.max_columns', None)"
   ]
  },
  {
   "cell_type": "code",
   "execution_count": 5,
   "id": "6e227a0b-7fd0-48f2-a420-e48160a4701f",
   "metadata": {
    "tags": []
   },
   "outputs": [],
   "source": [
    "df_data = pd.read_csv('../data/ohe_customer_dataset.csv', sep=',')"
   ]
  },
  {
   "cell_type": "code",
   "execution_count": 6,
   "id": "fa28c581-5048-45b5-a042-a298bfb33614",
   "metadata": {
    "tags": []
   },
   "outputs": [
    {
     "name": "stdout",
     "output_type": "stream",
     "text": [
      "(623, 52)\n",
      "Index(['fraudulent', 'transactionFailed', 'paymentMethodRegistrationFailure',\n",
      "       'orderAmount_(9.999, 18.0]', 'orderAmount_(18.0, 30.0]',\n",
      "       'orderAmount_(30.0, 38.0]', 'orderAmount_(38.0, 47.0]',\n",
      "       'orderAmount_(47.0, 353.0]', 'orderState_failed',\n",
      "       'orderState_fulfilled', 'orderState_pending',\n",
      "       'paymentMethodType_apple pay', 'paymentMethodType_bitcoin',\n",
      "       'paymentMethodType_card', 'paymentMethodType_paypal',\n",
      "       'paymentMethodProvider_American Express',\n",
      "       'paymentMethodProvider_Diners Club / Carte Blanche',\n",
      "       'paymentMethodProvider_Discover', 'paymentMethodProvider_JCB 15 digit',\n",
      "       'paymentMethodProvider_JCB 16 digit', 'paymentMethodProvider_Maestro',\n",
      "       'paymentMethodProvider_Mastercard',\n",
      "       'paymentMethodProvider_VISA 13 digit',\n",
      "       'paymentMethodProvider_VISA 16 digit', 'paymentMethodProvider_Voyager',\n",
      "       'paymentMethodIssuer_Bastion Banks',\n",
      "       'paymentMethodIssuer_Bulwark Trust Corp.',\n",
      "       'paymentMethodIssuer_Citizens First Banks',\n",
      "       'paymentMethodIssuer_Fountain Financial Inc.',\n",
      "       'paymentMethodIssuer_Grand Credit Corporation',\n",
      "       'paymentMethodIssuer_Her Majesty Trust',\n",
      "       'paymentMethodIssuer_His Majesty Bank Corp.',\n",
      "       'paymentMethodIssuer_Rose Bancshares',\n",
      "       'paymentMethodIssuer_Solace Banks',\n",
      "       'paymentMethodIssuer_Vertex Bancorp', 'paymentMethodIssuer_weird',\n",
      "       'emailDomain_biz', 'emailDomain_com', 'emailDomain_info',\n",
      "       'emailDomain_net', 'emailDomain_org', 'emailDomain_weird',\n",
      "       'emailProvider_gmail', 'emailProvider_hotmail', 'emailProvider_other',\n",
      "       'emailProvider_weird', 'emailProvider_yahoo',\n",
      "       'customerIPAddressSimplified_digits_and_letters',\n",
      "       'customerIPAddressSimplified_only_letters', 'sameCity_no',\n",
      "       'sameCity_unknown', 'sameCity_yes'],\n",
      "      dtype='object')\n"
     ]
    },
    {
     "data": {
      "text/html": [
       "<div>\n",
       "<style scoped>\n",
       "    .dataframe tbody tr th:only-of-type {\n",
       "        vertical-align: middle;\n",
       "    }\n",
       "\n",
       "    .dataframe tbody tr th {\n",
       "        vertical-align: top;\n",
       "    }\n",
       "\n",
       "    .dataframe thead th {\n",
       "        text-align: right;\n",
       "    }\n",
       "</style>\n",
       "<table border=\"1\" class=\"dataframe\">\n",
       "  <thead>\n",
       "    <tr style=\"text-align: right;\">\n",
       "      <th></th>\n",
       "      <th>fraudulent</th>\n",
       "      <th>transactionFailed</th>\n",
       "      <th>paymentMethodRegistrationFailure</th>\n",
       "      <th>orderAmount_(9.999, 18.0]</th>\n",
       "      <th>orderAmount_(18.0, 30.0]</th>\n",
       "      <th>orderAmount_(30.0, 38.0]</th>\n",
       "      <th>orderAmount_(38.0, 47.0]</th>\n",
       "      <th>orderAmount_(47.0, 353.0]</th>\n",
       "      <th>orderState_failed</th>\n",
       "      <th>orderState_fulfilled</th>\n",
       "      <th>orderState_pending</th>\n",
       "      <th>paymentMethodType_apple pay</th>\n",
       "      <th>paymentMethodType_bitcoin</th>\n",
       "      <th>paymentMethodType_card</th>\n",
       "      <th>paymentMethodType_paypal</th>\n",
       "      <th>paymentMethodProvider_American Express</th>\n",
       "      <th>paymentMethodProvider_Diners Club / Carte Blanche</th>\n",
       "      <th>paymentMethodProvider_Discover</th>\n",
       "      <th>paymentMethodProvider_JCB 15 digit</th>\n",
       "      <th>paymentMethodProvider_JCB 16 digit</th>\n",
       "      <th>paymentMethodProvider_Maestro</th>\n",
       "      <th>paymentMethodProvider_Mastercard</th>\n",
       "      <th>paymentMethodProvider_VISA 13 digit</th>\n",
       "      <th>paymentMethodProvider_VISA 16 digit</th>\n",
       "      <th>paymentMethodProvider_Voyager</th>\n",
       "      <th>paymentMethodIssuer_Bastion Banks</th>\n",
       "      <th>paymentMethodIssuer_Bulwark Trust Corp.</th>\n",
       "      <th>paymentMethodIssuer_Citizens First Banks</th>\n",
       "      <th>paymentMethodIssuer_Fountain Financial Inc.</th>\n",
       "      <th>paymentMethodIssuer_Grand Credit Corporation</th>\n",
       "      <th>paymentMethodIssuer_Her Majesty Trust</th>\n",
       "      <th>paymentMethodIssuer_His Majesty Bank Corp.</th>\n",
       "      <th>paymentMethodIssuer_Rose Bancshares</th>\n",
       "      <th>paymentMethodIssuer_Solace Banks</th>\n",
       "      <th>paymentMethodIssuer_Vertex Bancorp</th>\n",
       "      <th>paymentMethodIssuer_weird</th>\n",
       "      <th>emailDomain_biz</th>\n",
       "      <th>emailDomain_com</th>\n",
       "      <th>emailDomain_info</th>\n",
       "      <th>emailDomain_net</th>\n",
       "      <th>emailDomain_org</th>\n",
       "      <th>emailDomain_weird</th>\n",
       "      <th>emailProvider_gmail</th>\n",
       "      <th>emailProvider_hotmail</th>\n",
       "      <th>emailProvider_other</th>\n",
       "      <th>emailProvider_weird</th>\n",
       "      <th>emailProvider_yahoo</th>\n",
       "      <th>customerIPAddressSimplified_digits_and_letters</th>\n",
       "      <th>customerIPAddressSimplified_only_letters</th>\n",
       "      <th>sameCity_no</th>\n",
       "      <th>sameCity_unknown</th>\n",
       "      <th>sameCity_yes</th>\n",
       "    </tr>\n",
       "  </thead>\n",
       "  <tbody>\n",
       "    <tr>\n",
       "      <th>0</th>\n",
       "      <td>0</td>\n",
       "      <td>0</td>\n",
       "      <td>1</td>\n",
       "      <td>1</td>\n",
       "      <td>0</td>\n",
       "      <td>0</td>\n",
       "      <td>0</td>\n",
       "      <td>0</td>\n",
       "      <td>0</td>\n",
       "      <td>0</td>\n",
       "      <td>1</td>\n",
       "      <td>0</td>\n",
       "      <td>0</td>\n",
       "      <td>1</td>\n",
       "      <td>0</td>\n",
       "      <td>0</td>\n",
       "      <td>0</td>\n",
       "      <td>0</td>\n",
       "      <td>0</td>\n",
       "      <td>1</td>\n",
       "      <td>0</td>\n",
       "      <td>0</td>\n",
       "      <td>0</td>\n",
       "      <td>0</td>\n",
       "      <td>0</td>\n",
       "      <td>0</td>\n",
       "      <td>0</td>\n",
       "      <td>1</td>\n",
       "      <td>0</td>\n",
       "      <td>0</td>\n",
       "      <td>0</td>\n",
       "      <td>0</td>\n",
       "      <td>0</td>\n",
       "      <td>0</td>\n",
       "      <td>0</td>\n",
       "      <td>0</td>\n",
       "      <td>0</td>\n",
       "      <td>1</td>\n",
       "      <td>0</td>\n",
       "      <td>0</td>\n",
       "      <td>0</td>\n",
       "      <td>0</td>\n",
       "      <td>0</td>\n",
       "      <td>0</td>\n",
       "      <td>0</td>\n",
       "      <td>0</td>\n",
       "      <td>1</td>\n",
       "      <td>0</td>\n",
       "      <td>1</td>\n",
       "      <td>0</td>\n",
       "      <td>0</td>\n",
       "      <td>1</td>\n",
       "    </tr>\n",
       "    <tr>\n",
       "      <th>1</th>\n",
       "      <td>0</td>\n",
       "      <td>0</td>\n",
       "      <td>1</td>\n",
       "      <td>0</td>\n",
       "      <td>1</td>\n",
       "      <td>0</td>\n",
       "      <td>0</td>\n",
       "      <td>0</td>\n",
       "      <td>0</td>\n",
       "      <td>1</td>\n",
       "      <td>0</td>\n",
       "      <td>0</td>\n",
       "      <td>0</td>\n",
       "      <td>1</td>\n",
       "      <td>0</td>\n",
       "      <td>0</td>\n",
       "      <td>0</td>\n",
       "      <td>0</td>\n",
       "      <td>0</td>\n",
       "      <td>1</td>\n",
       "      <td>0</td>\n",
       "      <td>0</td>\n",
       "      <td>0</td>\n",
       "      <td>0</td>\n",
       "      <td>0</td>\n",
       "      <td>0</td>\n",
       "      <td>0</td>\n",
       "      <td>1</td>\n",
       "      <td>0</td>\n",
       "      <td>0</td>\n",
       "      <td>0</td>\n",
       "      <td>0</td>\n",
       "      <td>0</td>\n",
       "      <td>0</td>\n",
       "      <td>0</td>\n",
       "      <td>0</td>\n",
       "      <td>0</td>\n",
       "      <td>1</td>\n",
       "      <td>0</td>\n",
       "      <td>0</td>\n",
       "      <td>0</td>\n",
       "      <td>0</td>\n",
       "      <td>0</td>\n",
       "      <td>0</td>\n",
       "      <td>0</td>\n",
       "      <td>0</td>\n",
       "      <td>1</td>\n",
       "      <td>0</td>\n",
       "      <td>1</td>\n",
       "      <td>0</td>\n",
       "      <td>0</td>\n",
       "      <td>1</td>\n",
       "    </tr>\n",
       "    <tr>\n",
       "      <th>2</th>\n",
       "      <td>1</td>\n",
       "      <td>0</td>\n",
       "      <td>0</td>\n",
       "      <td>0</td>\n",
       "      <td>0</td>\n",
       "      <td>0</td>\n",
       "      <td>1</td>\n",
       "      <td>0</td>\n",
       "      <td>0</td>\n",
       "      <td>1</td>\n",
       "      <td>0</td>\n",
       "      <td>0</td>\n",
       "      <td>1</td>\n",
       "      <td>0</td>\n",
       "      <td>0</td>\n",
       "      <td>1</td>\n",
       "      <td>0</td>\n",
       "      <td>0</td>\n",
       "      <td>0</td>\n",
       "      <td>0</td>\n",
       "      <td>0</td>\n",
       "      <td>0</td>\n",
       "      <td>0</td>\n",
       "      <td>0</td>\n",
       "      <td>0</td>\n",
       "      <td>1</td>\n",
       "      <td>0</td>\n",
       "      <td>0</td>\n",
       "      <td>0</td>\n",
       "      <td>0</td>\n",
       "      <td>0</td>\n",
       "      <td>0</td>\n",
       "      <td>0</td>\n",
       "      <td>0</td>\n",
       "      <td>0</td>\n",
       "      <td>0</td>\n",
       "      <td>0</td>\n",
       "      <td>1</td>\n",
       "      <td>0</td>\n",
       "      <td>0</td>\n",
       "      <td>0</td>\n",
       "      <td>0</td>\n",
       "      <td>0</td>\n",
       "      <td>0</td>\n",
       "      <td>0</td>\n",
       "      <td>0</td>\n",
       "      <td>1</td>\n",
       "      <td>0</td>\n",
       "      <td>1</td>\n",
       "      <td>1</td>\n",
       "      <td>0</td>\n",
       "      <td>0</td>\n",
       "    </tr>\n",
       "    <tr>\n",
       "      <th>3</th>\n",
       "      <td>1</td>\n",
       "      <td>0</td>\n",
       "      <td>0</td>\n",
       "      <td>0</td>\n",
       "      <td>1</td>\n",
       "      <td>0</td>\n",
       "      <td>0</td>\n",
       "      <td>0</td>\n",
       "      <td>0</td>\n",
       "      <td>1</td>\n",
       "      <td>0</td>\n",
       "      <td>0</td>\n",
       "      <td>1</td>\n",
       "      <td>0</td>\n",
       "      <td>0</td>\n",
       "      <td>1</td>\n",
       "      <td>0</td>\n",
       "      <td>0</td>\n",
       "      <td>0</td>\n",
       "      <td>0</td>\n",
       "      <td>0</td>\n",
       "      <td>0</td>\n",
       "      <td>0</td>\n",
       "      <td>0</td>\n",
       "      <td>0</td>\n",
       "      <td>1</td>\n",
       "      <td>0</td>\n",
       "      <td>0</td>\n",
       "      <td>0</td>\n",
       "      <td>0</td>\n",
       "      <td>0</td>\n",
       "      <td>0</td>\n",
       "      <td>0</td>\n",
       "      <td>0</td>\n",
       "      <td>0</td>\n",
       "      <td>0</td>\n",
       "      <td>0</td>\n",
       "      <td>1</td>\n",
       "      <td>0</td>\n",
       "      <td>0</td>\n",
       "      <td>0</td>\n",
       "      <td>0</td>\n",
       "      <td>0</td>\n",
       "      <td>0</td>\n",
       "      <td>0</td>\n",
       "      <td>0</td>\n",
       "      <td>1</td>\n",
       "      <td>0</td>\n",
       "      <td>1</td>\n",
       "      <td>0</td>\n",
       "      <td>0</td>\n",
       "      <td>1</td>\n",
       "    </tr>\n",
       "    <tr>\n",
       "      <th>4</th>\n",
       "      <td>1</td>\n",
       "      <td>1</td>\n",
       "      <td>1</td>\n",
       "      <td>0</td>\n",
       "      <td>0</td>\n",
       "      <td>0</td>\n",
       "      <td>1</td>\n",
       "      <td>0</td>\n",
       "      <td>0</td>\n",
       "      <td>1</td>\n",
       "      <td>0</td>\n",
       "      <td>0</td>\n",
       "      <td>1</td>\n",
       "      <td>0</td>\n",
       "      <td>0</td>\n",
       "      <td>0</td>\n",
       "      <td>0</td>\n",
       "      <td>0</td>\n",
       "      <td>0</td>\n",
       "      <td>0</td>\n",
       "      <td>0</td>\n",
       "      <td>0</td>\n",
       "      <td>0</td>\n",
       "      <td>1</td>\n",
       "      <td>0</td>\n",
       "      <td>0</td>\n",
       "      <td>0</td>\n",
       "      <td>0</td>\n",
       "      <td>0</td>\n",
       "      <td>0</td>\n",
       "      <td>0</td>\n",
       "      <td>0</td>\n",
       "      <td>0</td>\n",
       "      <td>1</td>\n",
       "      <td>0</td>\n",
       "      <td>0</td>\n",
       "      <td>0</td>\n",
       "      <td>1</td>\n",
       "      <td>0</td>\n",
       "      <td>0</td>\n",
       "      <td>0</td>\n",
       "      <td>0</td>\n",
       "      <td>0</td>\n",
       "      <td>0</td>\n",
       "      <td>0</td>\n",
       "      <td>0</td>\n",
       "      <td>1</td>\n",
       "      <td>0</td>\n",
       "      <td>1</td>\n",
       "      <td>1</td>\n",
       "      <td>0</td>\n",
       "      <td>0</td>\n",
       "    </tr>\n",
       "  </tbody>\n",
       "</table>\n",
       "</div>"
      ],
      "text/plain": [
       "   fraudulent  transactionFailed  paymentMethodRegistrationFailure  \\\n",
       "0           0                  0                                 1   \n",
       "1           0                  0                                 1   \n",
       "2           1                  0                                 0   \n",
       "3           1                  0                                 0   \n",
       "4           1                  1                                 1   \n",
       "\n",
       "   orderAmount_(9.999, 18.0]  orderAmount_(18.0, 30.0]  \\\n",
       "0                          1                         0   \n",
       "1                          0                         1   \n",
       "2                          0                         0   \n",
       "3                          0                         1   \n",
       "4                          0                         0   \n",
       "\n",
       "   orderAmount_(30.0, 38.0]  orderAmount_(38.0, 47.0]  \\\n",
       "0                         0                         0   \n",
       "1                         0                         0   \n",
       "2                         0                         1   \n",
       "3                         0                         0   \n",
       "4                         0                         1   \n",
       "\n",
       "   orderAmount_(47.0, 353.0]  orderState_failed  orderState_fulfilled  \\\n",
       "0                          0                  0                     0   \n",
       "1                          0                  0                     1   \n",
       "2                          0                  0                     1   \n",
       "3                          0                  0                     1   \n",
       "4                          0                  0                     1   \n",
       "\n",
       "   orderState_pending  paymentMethodType_apple pay  paymentMethodType_bitcoin  \\\n",
       "0                   1                            0                          0   \n",
       "1                   0                            0                          0   \n",
       "2                   0                            0                          1   \n",
       "3                   0                            0                          1   \n",
       "4                   0                            0                          1   \n",
       "\n",
       "   paymentMethodType_card  paymentMethodType_paypal  \\\n",
       "0                       1                         0   \n",
       "1                       1                         0   \n",
       "2                       0                         0   \n",
       "3                       0                         0   \n",
       "4                       0                         0   \n",
       "\n",
       "   paymentMethodProvider_American Express  \\\n",
       "0                                       0   \n",
       "1                                       0   \n",
       "2                                       1   \n",
       "3                                       1   \n",
       "4                                       0   \n",
       "\n",
       "   paymentMethodProvider_Diners Club / Carte Blanche  \\\n",
       "0                                                  0   \n",
       "1                                                  0   \n",
       "2                                                  0   \n",
       "3                                                  0   \n",
       "4                                                  0   \n",
       "\n",
       "   paymentMethodProvider_Discover  paymentMethodProvider_JCB 15 digit  \\\n",
       "0                               0                                   0   \n",
       "1                               0                                   0   \n",
       "2                               0                                   0   \n",
       "3                               0                                   0   \n",
       "4                               0                                   0   \n",
       "\n",
       "   paymentMethodProvider_JCB 16 digit  paymentMethodProvider_Maestro  \\\n",
       "0                                   1                              0   \n",
       "1                                   1                              0   \n",
       "2                                   0                              0   \n",
       "3                                   0                              0   \n",
       "4                                   0                              0   \n",
       "\n",
       "   paymentMethodProvider_Mastercard  paymentMethodProvider_VISA 13 digit  \\\n",
       "0                                 0                                    0   \n",
       "1                                 0                                    0   \n",
       "2                                 0                                    0   \n",
       "3                                 0                                    0   \n",
       "4                                 0                                    0   \n",
       "\n",
       "   paymentMethodProvider_VISA 16 digit  paymentMethodProvider_Voyager  \\\n",
       "0                                    0                              0   \n",
       "1                                    0                              0   \n",
       "2                                    0                              0   \n",
       "3                                    0                              0   \n",
       "4                                    1                              0   \n",
       "\n",
       "   paymentMethodIssuer_Bastion Banks  paymentMethodIssuer_Bulwark Trust Corp.  \\\n",
       "0                                  0                                        0   \n",
       "1                                  0                                        0   \n",
       "2                                  1                                        0   \n",
       "3                                  1                                        0   \n",
       "4                                  0                                        0   \n",
       "\n",
       "   paymentMethodIssuer_Citizens First Banks  \\\n",
       "0                                         1   \n",
       "1                                         1   \n",
       "2                                         0   \n",
       "3                                         0   \n",
       "4                                         0   \n",
       "\n",
       "   paymentMethodIssuer_Fountain Financial Inc.  \\\n",
       "0                                            0   \n",
       "1                                            0   \n",
       "2                                            0   \n",
       "3                                            0   \n",
       "4                                            0   \n",
       "\n",
       "   paymentMethodIssuer_Grand Credit Corporation  \\\n",
       "0                                             0   \n",
       "1                                             0   \n",
       "2                                             0   \n",
       "3                                             0   \n",
       "4                                             0   \n",
       "\n",
       "   paymentMethodIssuer_Her Majesty Trust  \\\n",
       "0                                      0   \n",
       "1                                      0   \n",
       "2                                      0   \n",
       "3                                      0   \n",
       "4                                      0   \n",
       "\n",
       "   paymentMethodIssuer_His Majesty Bank Corp.  \\\n",
       "0                                           0   \n",
       "1                                           0   \n",
       "2                                           0   \n",
       "3                                           0   \n",
       "4                                           0   \n",
       "\n",
       "   paymentMethodIssuer_Rose Bancshares  paymentMethodIssuer_Solace Banks  \\\n",
       "0                                    0                                 0   \n",
       "1                                    0                                 0   \n",
       "2                                    0                                 0   \n",
       "3                                    0                                 0   \n",
       "4                                    0                                 1   \n",
       "\n",
       "   paymentMethodIssuer_Vertex Bancorp  paymentMethodIssuer_weird  \\\n",
       "0                                   0                          0   \n",
       "1                                   0                          0   \n",
       "2                                   0                          0   \n",
       "3                                   0                          0   \n",
       "4                                   0                          0   \n",
       "\n",
       "   emailDomain_biz  emailDomain_com  emailDomain_info  emailDomain_net  \\\n",
       "0                0                1                 0                0   \n",
       "1                0                1                 0                0   \n",
       "2                0                1                 0                0   \n",
       "3                0                1                 0                0   \n",
       "4                0                1                 0                0   \n",
       "\n",
       "   emailDomain_org  emailDomain_weird  emailProvider_gmail  \\\n",
       "0                0                  0                    0   \n",
       "1                0                  0                    0   \n",
       "2                0                  0                    0   \n",
       "3                0                  0                    0   \n",
       "4                0                  0                    0   \n",
       "\n",
       "   emailProvider_hotmail  emailProvider_other  emailProvider_weird  \\\n",
       "0                      0                    0                    0   \n",
       "1                      0                    0                    0   \n",
       "2                      0                    0                    0   \n",
       "3                      0                    0                    0   \n",
       "4                      0                    0                    0   \n",
       "\n",
       "   emailProvider_yahoo  customerIPAddressSimplified_digits_and_letters  \\\n",
       "0                    1                                               0   \n",
       "1                    1                                               0   \n",
       "2                    1                                               0   \n",
       "3                    1                                               0   \n",
       "4                    1                                               0   \n",
       "\n",
       "   customerIPAddressSimplified_only_letters  sameCity_no  sameCity_unknown  \\\n",
       "0                                         1            0                 0   \n",
       "1                                         1            0                 0   \n",
       "2                                         1            1                 0   \n",
       "3                                         1            0                 0   \n",
       "4                                         1            1                 0   \n",
       "\n",
       "   sameCity_yes  \n",
       "0             1  \n",
       "1             1  \n",
       "2             0  \n",
       "3             1  \n",
       "4             0  "
      ]
     },
     "metadata": {},
     "output_type": "display_data"
    }
   ],
   "source": [
    "print(df_data.shape)\n",
    "print(df_data.columns)\n",
    "display(df_data.head(5))"
   ]
  },
  {
   "cell_type": "code",
   "execution_count": 7,
   "id": "0e3fc100-6c2c-4478-87cc-2d9906da2d82",
   "metadata": {
    "tags": []
   },
   "outputs": [
    {
     "data": {
      "text/plain": [
       "(623, 52)"
      ]
     },
     "execution_count": 7,
     "metadata": {},
     "output_type": "execute_result"
    }
   ],
   "source": [
    "# Guardamos el tamaño del dataset\n",
    "mlflow.log_param(\"dataset_shape\", df_data.shape)"
   ]
  },
  {
   "cell_type": "code",
   "execution_count": 8,
   "id": "ec29b626-6622-4eaa-97c6-64d191d1fd74",
   "metadata": {
    "tags": []
   },
   "outputs": [
    {
     "data": {
      "text/plain": [
       "fraudulent                                           int64\n",
       "transactionFailed                                    int64\n",
       "paymentMethodRegistrationFailure                     int64\n",
       "orderAmount_(9.999, 18.0]                            int64\n",
       "orderAmount_(18.0, 30.0]                             int64\n",
       "orderAmount_(30.0, 38.0]                             int64\n",
       "orderAmount_(38.0, 47.0]                             int64\n",
       "orderAmount_(47.0, 353.0]                            int64\n",
       "orderState_failed                                    int64\n",
       "orderState_fulfilled                                 int64\n",
       "orderState_pending                                   int64\n",
       "paymentMethodType_apple pay                          int64\n",
       "paymentMethodType_bitcoin                            int64\n",
       "paymentMethodType_card                               int64\n",
       "paymentMethodType_paypal                             int64\n",
       "paymentMethodProvider_American Express               int64\n",
       "paymentMethodProvider_Diners Club / Carte Blanche    int64\n",
       "paymentMethodProvider_Discover                       int64\n",
       "paymentMethodProvider_JCB 15 digit                   int64\n",
       "paymentMethodProvider_JCB 16 digit                   int64\n",
       "paymentMethodProvider_Maestro                        int64\n",
       "paymentMethodProvider_Mastercard                     int64\n",
       "paymentMethodProvider_VISA 13 digit                  int64\n",
       "paymentMethodProvider_VISA 16 digit                  int64\n",
       "paymentMethodProvider_Voyager                        int64\n",
       "paymentMethodIssuer_Bastion Banks                    int64\n",
       "paymentMethodIssuer_Bulwark Trust Corp.              int64\n",
       "paymentMethodIssuer_Citizens First Banks             int64\n",
       "paymentMethodIssuer_Fountain Financial Inc.          int64\n",
       "paymentMethodIssuer_Grand Credit Corporation         int64\n",
       "paymentMethodIssuer_Her Majesty Trust                int64\n",
       "paymentMethodIssuer_His Majesty Bank Corp.           int64\n",
       "paymentMethodIssuer_Rose Bancshares                  int64\n",
       "paymentMethodIssuer_Solace Banks                     int64\n",
       "paymentMethodIssuer_Vertex Bancorp                   int64\n",
       "paymentMethodIssuer_weird                            int64\n",
       "emailDomain_biz                                      int64\n",
       "emailDomain_com                                      int64\n",
       "emailDomain_info                                     int64\n",
       "emailDomain_net                                      int64\n",
       "emailDomain_org                                      int64\n",
       "emailDomain_weird                                    int64\n",
       "emailProvider_gmail                                  int64\n",
       "emailProvider_hotmail                                int64\n",
       "emailProvider_other                                  int64\n",
       "emailProvider_weird                                  int64\n",
       "emailProvider_yahoo                                  int64\n",
       "customerIPAddressSimplified_digits_and_letters       int64\n",
       "customerIPAddressSimplified_only_letters             int64\n",
       "sameCity_no                                          int64\n",
       "sameCity_unknown                                     int64\n",
       "sameCity_yes                                         int64\n",
       "dtype: object"
      ]
     },
     "metadata": {},
     "output_type": "display_data"
    }
   ],
   "source": [
    "display(df_data.dtypes)"
   ]
  },
  {
   "cell_type": "code",
   "execution_count": 9,
   "id": "9f483fcb-bb79-44e1-b030-46dbb79ee3d7",
   "metadata": {
    "tags": []
   },
   "outputs": [
    {
     "data": {
      "text/html": [
       "<div>\n",
       "<style scoped>\n",
       "    .dataframe tbody tr th:only-of-type {\n",
       "        vertical-align: middle;\n",
       "    }\n",
       "\n",
       "    .dataframe tbody tr th {\n",
       "        vertical-align: top;\n",
       "    }\n",
       "\n",
       "    .dataframe thead th {\n",
       "        text-align: right;\n",
       "    }\n",
       "</style>\n",
       "<table border=\"1\" class=\"dataframe\">\n",
       "  <thead>\n",
       "    <tr style=\"text-align: right;\">\n",
       "      <th></th>\n",
       "      <th>variable</th>\n",
       "      <th>q_nan</th>\n",
       "      <th>p_nan</th>\n",
       "      <th>q_zeros</th>\n",
       "      <th>p_zeros</th>\n",
       "      <th>unique</th>\n",
       "      <th>type</th>\n",
       "    </tr>\n",
       "  </thead>\n",
       "  <tbody>\n",
       "    <tr>\n",
       "      <th>0</th>\n",
       "      <td>fraudulent</td>\n",
       "      <td>0</td>\n",
       "      <td>0.0</td>\n",
       "      <td>366</td>\n",
       "      <td>0.587480</td>\n",
       "      <td>2</td>\n",
       "      <td>int64</td>\n",
       "    </tr>\n",
       "    <tr>\n",
       "      <th>1</th>\n",
       "      <td>transactionFailed</td>\n",
       "      <td>0</td>\n",
       "      <td>0.0</td>\n",
       "      <td>455</td>\n",
       "      <td>0.730337</td>\n",
       "      <td>2</td>\n",
       "      <td>int64</td>\n",
       "    </tr>\n",
       "    <tr>\n",
       "      <th>2</th>\n",
       "      <td>paymentMethodRegistrationFailure</td>\n",
       "      <td>0</td>\n",
       "      <td>0.0</td>\n",
       "      <td>541</td>\n",
       "      <td>0.868379</td>\n",
       "      <td>2</td>\n",
       "      <td>int64</td>\n",
       "    </tr>\n",
       "    <tr>\n",
       "      <th>3</th>\n",
       "      <td>orderAmount_(9.999, 18.0]</td>\n",
       "      <td>0</td>\n",
       "      <td>0.0</td>\n",
       "      <td>491</td>\n",
       "      <td>0.788122</td>\n",
       "      <td>2</td>\n",
       "      <td>int64</td>\n",
       "    </tr>\n",
       "    <tr>\n",
       "      <th>4</th>\n",
       "      <td>orderAmount_(18.0, 30.0]</td>\n",
       "      <td>0</td>\n",
       "      <td>0.0</td>\n",
       "      <td>494</td>\n",
       "      <td>0.792937</td>\n",
       "      <td>2</td>\n",
       "      <td>int64</td>\n",
       "    </tr>\n",
       "    <tr>\n",
       "      <th>5</th>\n",
       "      <td>orderAmount_(30.0, 38.0]</td>\n",
       "      <td>0</td>\n",
       "      <td>0.0</td>\n",
       "      <td>507</td>\n",
       "      <td>0.813804</td>\n",
       "      <td>2</td>\n",
       "      <td>int64</td>\n",
       "    </tr>\n",
       "    <tr>\n",
       "      <th>6</th>\n",
       "      <td>orderAmount_(38.0, 47.0]</td>\n",
       "      <td>0</td>\n",
       "      <td>0.0</td>\n",
       "      <td>489</td>\n",
       "      <td>0.784912</td>\n",
       "      <td>2</td>\n",
       "      <td>int64</td>\n",
       "    </tr>\n",
       "    <tr>\n",
       "      <th>7</th>\n",
       "      <td>orderAmount_(47.0, 353.0]</td>\n",
       "      <td>0</td>\n",
       "      <td>0.0</td>\n",
       "      <td>511</td>\n",
       "      <td>0.820225</td>\n",
       "      <td>2</td>\n",
       "      <td>int64</td>\n",
       "    </tr>\n",
       "    <tr>\n",
       "      <th>8</th>\n",
       "      <td>orderState_failed</td>\n",
       "      <td>0</td>\n",
       "      <td>0.0</td>\n",
       "      <td>560</td>\n",
       "      <td>0.898876</td>\n",
       "      <td>2</td>\n",
       "      <td>int64</td>\n",
       "    </tr>\n",
       "    <tr>\n",
       "      <th>9</th>\n",
       "      <td>orderState_fulfilled</td>\n",
       "      <td>0</td>\n",
       "      <td>0.0</td>\n",
       "      <td>107</td>\n",
       "      <td>0.171750</td>\n",
       "      <td>2</td>\n",
       "      <td>int64</td>\n",
       "    </tr>\n",
       "    <tr>\n",
       "      <th>10</th>\n",
       "      <td>orderState_pending</td>\n",
       "      <td>0</td>\n",
       "      <td>0.0</td>\n",
       "      <td>579</td>\n",
       "      <td>0.929374</td>\n",
       "      <td>2</td>\n",
       "      <td>int64</td>\n",
       "    </tr>\n",
       "    <tr>\n",
       "      <th>11</th>\n",
       "      <td>paymentMethodType_apple pay</td>\n",
       "      <td>0</td>\n",
       "      <td>0.0</td>\n",
       "      <td>574</td>\n",
       "      <td>0.921348</td>\n",
       "      <td>2</td>\n",
       "      <td>int64</td>\n",
       "    </tr>\n",
       "    <tr>\n",
       "      <th>12</th>\n",
       "      <td>paymentMethodType_bitcoin</td>\n",
       "      <td>0</td>\n",
       "      <td>0.0</td>\n",
       "      <td>576</td>\n",
       "      <td>0.924559</td>\n",
       "      <td>2</td>\n",
       "      <td>int64</td>\n",
       "    </tr>\n",
       "    <tr>\n",
       "      <th>13</th>\n",
       "      <td>paymentMethodType_card</td>\n",
       "      <td>0</td>\n",
       "      <td>0.0</td>\n",
       "      <td>144</td>\n",
       "      <td>0.231140</td>\n",
       "      <td>2</td>\n",
       "      <td>int64</td>\n",
       "    </tr>\n",
       "    <tr>\n",
       "      <th>14</th>\n",
       "      <td>paymentMethodType_paypal</td>\n",
       "      <td>0</td>\n",
       "      <td>0.0</td>\n",
       "      <td>575</td>\n",
       "      <td>0.922953</td>\n",
       "      <td>2</td>\n",
       "      <td>int64</td>\n",
       "    </tr>\n",
       "    <tr>\n",
       "      <th>15</th>\n",
       "      <td>paymentMethodProvider_American Express</td>\n",
       "      <td>0</td>\n",
       "      <td>0.0</td>\n",
       "      <td>578</td>\n",
       "      <td>0.927769</td>\n",
       "      <td>2</td>\n",
       "      <td>int64</td>\n",
       "    </tr>\n",
       "    <tr>\n",
       "      <th>16</th>\n",
       "      <td>paymentMethodProvider_Diners Club / Carte Blanche</td>\n",
       "      <td>0</td>\n",
       "      <td>0.0</td>\n",
       "      <td>565</td>\n",
       "      <td>0.906902</td>\n",
       "      <td>2</td>\n",
       "      <td>int64</td>\n",
       "    </tr>\n",
       "    <tr>\n",
       "      <th>17</th>\n",
       "      <td>paymentMethodProvider_Discover</td>\n",
       "      <td>0</td>\n",
       "      <td>0.0</td>\n",
       "      <td>582</td>\n",
       "      <td>0.934189</td>\n",
       "      <td>2</td>\n",
       "      <td>int64</td>\n",
       "    </tr>\n",
       "    <tr>\n",
       "      <th>18</th>\n",
       "      <td>paymentMethodProvider_JCB 15 digit</td>\n",
       "      <td>0</td>\n",
       "      <td>0.0</td>\n",
       "      <td>578</td>\n",
       "      <td>0.927769</td>\n",
       "      <td>2</td>\n",
       "      <td>int64</td>\n",
       "    </tr>\n",
       "    <tr>\n",
       "      <th>19</th>\n",
       "      <td>paymentMethodProvider_JCB 16 digit</td>\n",
       "      <td>0</td>\n",
       "      <td>0.0</td>\n",
       "      <td>505</td>\n",
       "      <td>0.810594</td>\n",
       "      <td>2</td>\n",
       "      <td>int64</td>\n",
       "    </tr>\n",
       "    <tr>\n",
       "      <th>20</th>\n",
       "      <td>paymentMethodProvider_Maestro</td>\n",
       "      <td>0</td>\n",
       "      <td>0.0</td>\n",
       "      <td>554</td>\n",
       "      <td>0.889246</td>\n",
       "      <td>2</td>\n",
       "      <td>int64</td>\n",
       "    </tr>\n",
       "    <tr>\n",
       "      <th>21</th>\n",
       "      <td>paymentMethodProvider_Mastercard</td>\n",
       "      <td>0</td>\n",
       "      <td>0.0</td>\n",
       "      <td>591</td>\n",
       "      <td>0.948636</td>\n",
       "      <td>2</td>\n",
       "      <td>int64</td>\n",
       "    </tr>\n",
       "    <tr>\n",
       "      <th>22</th>\n",
       "      <td>paymentMethodProvider_VISA 13 digit</td>\n",
       "      <td>0</td>\n",
       "      <td>0.0</td>\n",
       "      <td>565</td>\n",
       "      <td>0.906902</td>\n",
       "      <td>2</td>\n",
       "      <td>int64</td>\n",
       "    </tr>\n",
       "    <tr>\n",
       "      <th>23</th>\n",
       "      <td>paymentMethodProvider_VISA 16 digit</td>\n",
       "      <td>0</td>\n",
       "      <td>0.0</td>\n",
       "      <td>527</td>\n",
       "      <td>0.845907</td>\n",
       "      <td>2</td>\n",
       "      <td>int64</td>\n",
       "    </tr>\n",
       "    <tr>\n",
       "      <th>24</th>\n",
       "      <td>paymentMethodProvider_Voyager</td>\n",
       "      <td>0</td>\n",
       "      <td>0.0</td>\n",
       "      <td>562</td>\n",
       "      <td>0.902087</td>\n",
       "      <td>2</td>\n",
       "      <td>int64</td>\n",
       "    </tr>\n",
       "    <tr>\n",
       "      <th>25</th>\n",
       "      <td>paymentMethodIssuer_Bastion Banks</td>\n",
       "      <td>0</td>\n",
       "      <td>0.0</td>\n",
       "      <td>565</td>\n",
       "      <td>0.906902</td>\n",
       "      <td>2</td>\n",
       "      <td>int64</td>\n",
       "    </tr>\n",
       "    <tr>\n",
       "      <th>26</th>\n",
       "      <td>paymentMethodIssuer_Bulwark Trust Corp.</td>\n",
       "      <td>0</td>\n",
       "      <td>0.0</td>\n",
       "      <td>564</td>\n",
       "      <td>0.905297</td>\n",
       "      <td>2</td>\n",
       "      <td>int64</td>\n",
       "    </tr>\n",
       "    <tr>\n",
       "      <th>27</th>\n",
       "      <td>paymentMethodIssuer_Citizens First Banks</td>\n",
       "      <td>0</td>\n",
       "      <td>0.0</td>\n",
       "      <td>568</td>\n",
       "      <td>0.911717</td>\n",
       "      <td>2</td>\n",
       "      <td>int64</td>\n",
       "    </tr>\n",
       "    <tr>\n",
       "      <th>28</th>\n",
       "      <td>paymentMethodIssuer_Fountain Financial Inc.</td>\n",
       "      <td>0</td>\n",
       "      <td>0.0</td>\n",
       "      <td>563</td>\n",
       "      <td>0.903692</td>\n",
       "      <td>2</td>\n",
       "      <td>int64</td>\n",
       "    </tr>\n",
       "    <tr>\n",
       "      <th>29</th>\n",
       "      <td>paymentMethodIssuer_Grand Credit Corporation</td>\n",
       "      <td>0</td>\n",
       "      <td>0.0</td>\n",
       "      <td>568</td>\n",
       "      <td>0.911717</td>\n",
       "      <td>2</td>\n",
       "      <td>int64</td>\n",
       "    </tr>\n",
       "    <tr>\n",
       "      <th>30</th>\n",
       "      <td>paymentMethodIssuer_Her Majesty Trust</td>\n",
       "      <td>0</td>\n",
       "      <td>0.0</td>\n",
       "      <td>557</td>\n",
       "      <td>0.894061</td>\n",
       "      <td>2</td>\n",
       "      <td>int64</td>\n",
       "    </tr>\n",
       "    <tr>\n",
       "      <th>31</th>\n",
       "      <td>paymentMethodIssuer_His Majesty Bank Corp.</td>\n",
       "      <td>0</td>\n",
       "      <td>0.0</td>\n",
       "      <td>558</td>\n",
       "      <td>0.895666</td>\n",
       "      <td>2</td>\n",
       "      <td>int64</td>\n",
       "    </tr>\n",
       "    <tr>\n",
       "      <th>32</th>\n",
       "      <td>paymentMethodIssuer_Rose Bancshares</td>\n",
       "      <td>0</td>\n",
       "      <td>0.0</td>\n",
       "      <td>564</td>\n",
       "      <td>0.905297</td>\n",
       "      <td>2</td>\n",
       "      <td>int64</td>\n",
       "    </tr>\n",
       "    <tr>\n",
       "      <th>33</th>\n",
       "      <td>paymentMethodIssuer_Solace Banks</td>\n",
       "      <td>0</td>\n",
       "      <td>0.0</td>\n",
       "      <td>582</td>\n",
       "      <td>0.934189</td>\n",
       "      <td>2</td>\n",
       "      <td>int64</td>\n",
       "    </tr>\n",
       "    <tr>\n",
       "      <th>34</th>\n",
       "      <td>paymentMethodIssuer_Vertex Bancorp</td>\n",
       "      <td>0</td>\n",
       "      <td>0.0</td>\n",
       "      <td>560</td>\n",
       "      <td>0.898876</td>\n",
       "      <td>2</td>\n",
       "      <td>int64</td>\n",
       "    </tr>\n",
       "    <tr>\n",
       "      <th>35</th>\n",
       "      <td>paymentMethodIssuer_weird</td>\n",
       "      <td>0</td>\n",
       "      <td>0.0</td>\n",
       "      <td>581</td>\n",
       "      <td>0.932584</td>\n",
       "      <td>2</td>\n",
       "      <td>int64</td>\n",
       "    </tr>\n",
       "    <tr>\n",
       "      <th>36</th>\n",
       "      <td>emailDomain_biz</td>\n",
       "      <td>0</td>\n",
       "      <td>0.0</td>\n",
       "      <td>575</td>\n",
       "      <td>0.922953</td>\n",
       "      <td>2</td>\n",
       "      <td>int64</td>\n",
       "    </tr>\n",
       "    <tr>\n",
       "      <th>37</th>\n",
       "      <td>emailDomain_com</td>\n",
       "      <td>0</td>\n",
       "      <td>0.0</td>\n",
       "      <td>123</td>\n",
       "      <td>0.197432</td>\n",
       "      <td>2</td>\n",
       "      <td>int64</td>\n",
       "    </tr>\n",
       "    <tr>\n",
       "      <th>38</th>\n",
       "      <td>emailDomain_info</td>\n",
       "      <td>0</td>\n",
       "      <td>0.0</td>\n",
       "      <td>608</td>\n",
       "      <td>0.975923</td>\n",
       "      <td>2</td>\n",
       "      <td>int64</td>\n",
       "    </tr>\n",
       "    <tr>\n",
       "      <th>39</th>\n",
       "      <td>emailDomain_net</td>\n",
       "      <td>0</td>\n",
       "      <td>0.0</td>\n",
       "      <td>613</td>\n",
       "      <td>0.983949</td>\n",
       "      <td>2</td>\n",
       "      <td>int64</td>\n",
       "    </tr>\n",
       "    <tr>\n",
       "      <th>40</th>\n",
       "      <td>emailDomain_org</td>\n",
       "      <td>0</td>\n",
       "      <td>0.0</td>\n",
       "      <td>591</td>\n",
       "      <td>0.948636</td>\n",
       "      <td>2</td>\n",
       "      <td>int64</td>\n",
       "    </tr>\n",
       "    <tr>\n",
       "      <th>41</th>\n",
       "      <td>emailDomain_weird</td>\n",
       "      <td>0</td>\n",
       "      <td>0.0</td>\n",
       "      <td>605</td>\n",
       "      <td>0.971108</td>\n",
       "      <td>2</td>\n",
       "      <td>int64</td>\n",
       "    </tr>\n",
       "    <tr>\n",
       "      <th>42</th>\n",
       "      <td>emailProvider_gmail</td>\n",
       "      <td>0</td>\n",
       "      <td>0.0</td>\n",
       "      <td>502</td>\n",
       "      <td>0.805778</td>\n",
       "      <td>2</td>\n",
       "      <td>int64</td>\n",
       "    </tr>\n",
       "    <tr>\n",
       "      <th>43</th>\n",
       "      <td>emailProvider_hotmail</td>\n",
       "      <td>0</td>\n",
       "      <td>0.0</td>\n",
       "      <td>535</td>\n",
       "      <td>0.858748</td>\n",
       "      <td>2</td>\n",
       "      <td>int64</td>\n",
       "    </tr>\n",
       "    <tr>\n",
       "      <th>44</th>\n",
       "      <td>emailProvider_other</td>\n",
       "      <td>0</td>\n",
       "      <td>0.0</td>\n",
       "      <td>345</td>\n",
       "      <td>0.553772</td>\n",
       "      <td>2</td>\n",
       "      <td>int64</td>\n",
       "    </tr>\n",
       "    <tr>\n",
       "      <th>45</th>\n",
       "      <td>emailProvider_weird</td>\n",
       "      <td>0</td>\n",
       "      <td>0.0</td>\n",
       "      <td>605</td>\n",
       "      <td>0.971108</td>\n",
       "      <td>2</td>\n",
       "      <td>int64</td>\n",
       "    </tr>\n",
       "    <tr>\n",
       "      <th>46</th>\n",
       "      <td>emailProvider_yahoo</td>\n",
       "      <td>0</td>\n",
       "      <td>0.0</td>\n",
       "      <td>505</td>\n",
       "      <td>0.810594</td>\n",
       "      <td>2</td>\n",
       "      <td>int64</td>\n",
       "    </tr>\n",
       "    <tr>\n",
       "      <th>47</th>\n",
       "      <td>customerIPAddressSimplified_digits_and_letters</td>\n",
       "      <td>0</td>\n",
       "      <td>0.0</td>\n",
       "      <td>366</td>\n",
       "      <td>0.587480</td>\n",
       "      <td>2</td>\n",
       "      <td>int64</td>\n",
       "    </tr>\n",
       "    <tr>\n",
       "      <th>48</th>\n",
       "      <td>customerIPAddressSimplified_only_letters</td>\n",
       "      <td>0</td>\n",
       "      <td>0.0</td>\n",
       "      <td>257</td>\n",
       "      <td>0.412520</td>\n",
       "      <td>2</td>\n",
       "      <td>int64</td>\n",
       "    </tr>\n",
       "    <tr>\n",
       "      <th>49</th>\n",
       "      <td>sameCity_no</td>\n",
       "      <td>0</td>\n",
       "      <td>0.0</td>\n",
       "      <td>466</td>\n",
       "      <td>0.747994</td>\n",
       "      <td>2</td>\n",
       "      <td>int64</td>\n",
       "    </tr>\n",
       "    <tr>\n",
       "      <th>50</th>\n",
       "      <td>sameCity_unknown</td>\n",
       "      <td>0</td>\n",
       "      <td>0.0</td>\n",
       "      <td>546</td>\n",
       "      <td>0.876404</td>\n",
       "      <td>2</td>\n",
       "      <td>int64</td>\n",
       "    </tr>\n",
       "    <tr>\n",
       "      <th>51</th>\n",
       "      <td>sameCity_yes</td>\n",
       "      <td>0</td>\n",
       "      <td>0.0</td>\n",
       "      <td>234</td>\n",
       "      <td>0.375602</td>\n",
       "      <td>2</td>\n",
       "      <td>int64</td>\n",
       "    </tr>\n",
       "  </tbody>\n",
       "</table>\n",
       "</div>"
      ],
      "text/plain": [
       "                                             variable  q_nan  p_nan  q_zeros  \\\n",
       "0                                          fraudulent      0    0.0      366   \n",
       "1                                   transactionFailed      0    0.0      455   \n",
       "2                    paymentMethodRegistrationFailure      0    0.0      541   \n",
       "3                           orderAmount_(9.999, 18.0]      0    0.0      491   \n",
       "4                            orderAmount_(18.0, 30.0]      0    0.0      494   \n",
       "5                            orderAmount_(30.0, 38.0]      0    0.0      507   \n",
       "6                            orderAmount_(38.0, 47.0]      0    0.0      489   \n",
       "7                           orderAmount_(47.0, 353.0]      0    0.0      511   \n",
       "8                                   orderState_failed      0    0.0      560   \n",
       "9                                orderState_fulfilled      0    0.0      107   \n",
       "10                                 orderState_pending      0    0.0      579   \n",
       "11                        paymentMethodType_apple pay      0    0.0      574   \n",
       "12                          paymentMethodType_bitcoin      0    0.0      576   \n",
       "13                             paymentMethodType_card      0    0.0      144   \n",
       "14                           paymentMethodType_paypal      0    0.0      575   \n",
       "15             paymentMethodProvider_American Express      0    0.0      578   \n",
       "16  paymentMethodProvider_Diners Club / Carte Blanche      0    0.0      565   \n",
       "17                     paymentMethodProvider_Discover      0    0.0      582   \n",
       "18                 paymentMethodProvider_JCB 15 digit      0    0.0      578   \n",
       "19                 paymentMethodProvider_JCB 16 digit      0    0.0      505   \n",
       "20                      paymentMethodProvider_Maestro      0    0.0      554   \n",
       "21                   paymentMethodProvider_Mastercard      0    0.0      591   \n",
       "22                paymentMethodProvider_VISA 13 digit      0    0.0      565   \n",
       "23                paymentMethodProvider_VISA 16 digit      0    0.0      527   \n",
       "24                      paymentMethodProvider_Voyager      0    0.0      562   \n",
       "25                  paymentMethodIssuer_Bastion Banks      0    0.0      565   \n",
       "26            paymentMethodIssuer_Bulwark Trust Corp.      0    0.0      564   \n",
       "27           paymentMethodIssuer_Citizens First Banks      0    0.0      568   \n",
       "28        paymentMethodIssuer_Fountain Financial Inc.      0    0.0      563   \n",
       "29       paymentMethodIssuer_Grand Credit Corporation      0    0.0      568   \n",
       "30              paymentMethodIssuer_Her Majesty Trust      0    0.0      557   \n",
       "31         paymentMethodIssuer_His Majesty Bank Corp.      0    0.0      558   \n",
       "32                paymentMethodIssuer_Rose Bancshares      0    0.0      564   \n",
       "33                   paymentMethodIssuer_Solace Banks      0    0.0      582   \n",
       "34                 paymentMethodIssuer_Vertex Bancorp      0    0.0      560   \n",
       "35                          paymentMethodIssuer_weird      0    0.0      581   \n",
       "36                                    emailDomain_biz      0    0.0      575   \n",
       "37                                    emailDomain_com      0    0.0      123   \n",
       "38                                   emailDomain_info      0    0.0      608   \n",
       "39                                    emailDomain_net      0    0.0      613   \n",
       "40                                    emailDomain_org      0    0.0      591   \n",
       "41                                  emailDomain_weird      0    0.0      605   \n",
       "42                                emailProvider_gmail      0    0.0      502   \n",
       "43                              emailProvider_hotmail      0    0.0      535   \n",
       "44                                emailProvider_other      0    0.0      345   \n",
       "45                                emailProvider_weird      0    0.0      605   \n",
       "46                                emailProvider_yahoo      0    0.0      505   \n",
       "47     customerIPAddressSimplified_digits_and_letters      0    0.0      366   \n",
       "48           customerIPAddressSimplified_only_letters      0    0.0      257   \n",
       "49                                        sameCity_no      0    0.0      466   \n",
       "50                                   sameCity_unknown      0    0.0      546   \n",
       "51                                       sameCity_yes      0    0.0      234   \n",
       "\n",
       "     p_zeros  unique   type  \n",
       "0   0.587480       2  int64  \n",
       "1   0.730337       2  int64  \n",
       "2   0.868379       2  int64  \n",
       "3   0.788122       2  int64  \n",
       "4   0.792937       2  int64  \n",
       "5   0.813804       2  int64  \n",
       "6   0.784912       2  int64  \n",
       "7   0.820225       2  int64  \n",
       "8   0.898876       2  int64  \n",
       "9   0.171750       2  int64  \n",
       "10  0.929374       2  int64  \n",
       "11  0.921348       2  int64  \n",
       "12  0.924559       2  int64  \n",
       "13  0.231140       2  int64  \n",
       "14  0.922953       2  int64  \n",
       "15  0.927769       2  int64  \n",
       "16  0.906902       2  int64  \n",
       "17  0.934189       2  int64  \n",
       "18  0.927769       2  int64  \n",
       "19  0.810594       2  int64  \n",
       "20  0.889246       2  int64  \n",
       "21  0.948636       2  int64  \n",
       "22  0.906902       2  int64  \n",
       "23  0.845907       2  int64  \n",
       "24  0.902087       2  int64  \n",
       "25  0.906902       2  int64  \n",
       "26  0.905297       2  int64  \n",
       "27  0.911717       2  int64  \n",
       "28  0.903692       2  int64  \n",
       "29  0.911717       2  int64  \n",
       "30  0.894061       2  int64  \n",
       "31  0.895666       2  int64  \n",
       "32  0.905297       2  int64  \n",
       "33  0.934189       2  int64  \n",
       "34  0.898876       2  int64  \n",
       "35  0.932584       2  int64  \n",
       "36  0.922953       2  int64  \n",
       "37  0.197432       2  int64  \n",
       "38  0.975923       2  int64  \n",
       "39  0.983949       2  int64  \n",
       "40  0.948636       2  int64  \n",
       "41  0.971108       2  int64  \n",
       "42  0.805778       2  int64  \n",
       "43  0.858748       2  int64  \n",
       "44  0.553772       2  int64  \n",
       "45  0.971108       2  int64  \n",
       "46  0.810594       2  int64  \n",
       "47  0.587480       2  int64  \n",
       "48  0.412520       2  int64  \n",
       "49  0.747994       2  int64  \n",
       "50  0.876404       2  int64  \n",
       "51  0.375602       2  int64  "
      ]
     },
     "execution_count": 9,
     "metadata": {},
     "output_type": "execute_result"
    }
   ],
   "source": [
    "funpymodeling.status(df_data)"
   ]
  },
  {
   "cell_type": "code",
   "execution_count": 10,
   "id": "dff166d6-7013-4fea-b055-d6817e52fbde",
   "metadata": {
    "tags": []
   },
   "outputs": [
    {
     "data": {
      "text/plain": [
       "(0    366\n",
       " 1    257\n",
       " Name: fraudulent, dtype: int64,\n",
       " 0    58.747994\n",
       " 1    41.252006\n",
       " Name: fraudulent, dtype: float64)"
      ]
     },
     "execution_count": 10,
     "metadata": {},
     "output_type": "execute_result"
    }
   ],
   "source": [
    "df_data['fraudulent'].value_counts(dropna=False, normalize=False), df_data['fraudulent'].value_counts(dropna=False, normalize=True) * 100"
   ]
  },
  {
   "cell_type": "code",
   "execution_count": 11,
   "id": "fde2e7be-8659-4ec9-8882-f1c4c791afd6",
   "metadata": {
    "tags": []
   },
   "outputs": [
    {
     "data": {
      "text/html": [
       "<div>\n",
       "<style scoped>\n",
       "    .dataframe tbody tr th:only-of-type {\n",
       "        vertical-align: middle;\n",
       "    }\n",
       "\n",
       "    .dataframe tbody tr th {\n",
       "        vertical-align: top;\n",
       "    }\n",
       "\n",
       "    .dataframe thead th {\n",
       "        text-align: right;\n",
       "    }\n",
       "</style>\n",
       "<table border=\"1\" class=\"dataframe\">\n",
       "  <thead>\n",
       "    <tr style=\"text-align: right;\">\n",
       "      <th></th>\n",
       "      <th>fraudulent</th>\n",
       "      <th>frequency</th>\n",
       "      <th>percentage</th>\n",
       "      <th>cumulative_perc</th>\n",
       "    </tr>\n",
       "  </thead>\n",
       "  <tbody>\n",
       "    <tr>\n",
       "      <th>0</th>\n",
       "      <td>0</td>\n",
       "      <td>366</td>\n",
       "      <td>0.58748</td>\n",
       "      <td>0.58748</td>\n",
       "    </tr>\n",
       "    <tr>\n",
       "      <th>1</th>\n",
       "      <td>1</td>\n",
       "      <td>257</td>\n",
       "      <td>0.41252</td>\n",
       "      <td>1.00000</td>\n",
       "    </tr>\n",
       "  </tbody>\n",
       "</table>\n",
       "</div>"
      ],
      "text/plain": [
       "  fraudulent  frequency  percentage  cumulative_perc\n",
       "0          0        366     0.58748          0.58748\n",
       "1          1        257     0.41252          1.00000"
      ]
     },
     "execution_count": 11,
     "metadata": {},
     "output_type": "execute_result"
    }
   ],
   "source": [
    "funpymodeling.freq_tbl(df_data['fraudulent'].astype(str))"
   ]
  },
  {
   "cell_type": "markdown",
   "id": "fd542e11-e5ff-4464-a6e3-d84b5b393bc7",
   "metadata": {},
   "source": [
    "# 2) Modelo de Clasificacion"
   ]
  },
  {
   "cell_type": "markdown",
   "id": "688409e4-c87f-4ee7-bf4a-98ad3d453ec5",
   "metadata": {},
   "source": [
    "## 2.1) Separación de X de Y para entrenamiento"
   ]
  },
  {
   "cell_type": "code",
   "execution_count": 12,
   "id": "32b0f1c4-8ad3-4a5a-b13f-0b753b90f982",
   "metadata": {
    "tags": []
   },
   "outputs": [],
   "source": [
    "X = df_data.drop('fraudulent', axis=1)\n",
    "y = df_data['fraudulent']"
   ]
  },
  {
   "cell_type": "code",
   "execution_count": 13,
   "id": "2a3fa456-6c49-4cb0-81b6-e73b3c25a59d",
   "metadata": {
    "tags": []
   },
   "outputs": [],
   "source": [
    "# Guardamos las columnas\n",
    "\n",
    "import pickle\n",
    "\n",
    "with open('../data/categories_ohe_without_fraudulent.pkl', 'wb') as handle:\n",
    "    pickle.dump(X.columns, handle, protocol=pickle.HIGHEST_PROTOCOL)"
   ]
  },
  {
   "cell_type": "code",
   "execution_count": 14,
   "id": "6f0ea6a9-01b0-4c6e-8b5e-8ac507717865",
   "metadata": {
    "tags": []
   },
   "outputs": [],
   "source": [
    "from sklearn.model_selection import train_test_split"
   ]
  },
  {
   "cell_type": "code",
   "execution_count": 15,
   "id": "6b42d5f5-1141-4767-8cac-4c1141a95283",
   "metadata": {
    "tags": []
   },
   "outputs": [],
   "source": [
    "TEST_SIZE = 0.3"
   ]
  },
  {
   "cell_type": "code",
   "execution_count": 16,
   "id": "cf24d7df-c732-4240-bae1-5720f2cc3fc3",
   "metadata": {
    "tags": []
   },
   "outputs": [
    {
     "data": {
      "text/plain": [
       "0.3"
      ]
     },
     "execution_count": 16,
     "metadata": {},
     "output_type": "execute_result"
    }
   ],
   "source": [
    "# Guardamos el porcentaje del conjunto de entrenamiento\n",
    "mlflow.log_param(\"percentage_dataset_test\", TEST_SIZE)"
   ]
  },
  {
   "cell_type": "code",
   "execution_count": 17,
   "id": "65c89836-b5de-40e7-8928-7cf37f427861",
   "metadata": {
    "tags": []
   },
   "outputs": [],
   "source": [
    "# Spliteamos el dataset\n",
    "X_train, X_test, y_train, y_test = train_test_split(\n",
    "    X, y, test_size=TEST_SIZE,\n",
    ")"
   ]
  },
  {
   "cell_type": "markdown",
   "id": "210e0633-7c66-44fc-acef-904a6d8e1fd2",
   "metadata": {},
   "source": [
    "## 2.2) Creamos y entrenamiento del modelo"
   ]
  },
  {
   "cell_type": "code",
   "execution_count": 18,
   "id": "cb1b0517-a596-4ccc-a326-02cad1c19c7c",
   "metadata": {
    "tags": []
   },
   "outputs": [],
   "source": [
    "from sklearn.ensemble import RandomForestClassifier"
   ]
  },
  {
   "cell_type": "code",
   "execution_count": 19,
   "id": "fad8c52e-753c-41a9-9b8c-109978233e19",
   "metadata": {
    "tags": []
   },
   "outputs": [],
   "source": [
    "N_ESTIMATORS = 500\n",
    "RANDOM_STATE = 99"
   ]
  },
  {
   "cell_type": "code",
   "execution_count": 20,
   "id": "100634fa-2c29-4909-a2a1-04248a674b53",
   "metadata": {
    "tags": []
   },
   "outputs": [
    {
     "data": {
      "text/plain": [
       "500"
      ]
     },
     "execution_count": 20,
     "metadata": {},
     "output_type": "execute_result"
    }
   ],
   "source": [
    "# Guardamos el numero de estimadores del modelo\n",
    "mlflow.log_param(\"model_n_estimator\", N_ESTIMATORS)"
   ]
  },
  {
   "cell_type": "code",
   "execution_count": 21,
   "id": "86c43c0a-872b-4042-b503-5fd08df6a712",
   "metadata": {
    "tags": []
   },
   "outputs": [
    {
     "data": {
      "text/plain": [
       "99"
      ]
     },
     "execution_count": 21,
     "metadata": {},
     "output_type": "execute_result"
    }
   ],
   "source": [
    "# Guardamos el random state del modelo\n",
    "mlflow.log_param(\"model_random_state\", RANDOM_STATE)"
   ]
  },
  {
   "cell_type": "code",
   "execution_count": 22,
   "id": "f5bb033b-6d0f-4f98-85d9-7ded7557fcfc",
   "metadata": {
    "tags": []
   },
   "outputs": [],
   "source": [
    "rf_model = RandomForestClassifier(n_estimators=N_ESTIMATORS, random_state=RANDOM_STATE)"
   ]
  },
  {
   "cell_type": "code",
   "execution_count": 23,
   "id": "b71817c2-bfa8-44ce-afb2-3e19e92c9922",
   "metadata": {
    "tags": []
   },
   "outputs": [
    {
     "name": "stdout",
     "output_type": "stream",
     "text": [
      "CPU times: user 387 ms, sys: 10.7 ms, total: 398 ms\n",
      "Wall time: 396 ms\n"
     ]
    },
    {
     "data": {
      "text/html": [
       "<style>#sk-container-id-1 {color: black;background-color: white;}#sk-container-id-1 pre{padding: 0;}#sk-container-id-1 div.sk-toggleable {background-color: white;}#sk-container-id-1 label.sk-toggleable__label {cursor: pointer;display: block;width: 100%;margin-bottom: 0;padding: 0.3em;box-sizing: border-box;text-align: center;}#sk-container-id-1 label.sk-toggleable__label-arrow:before {content: \"▸\";float: left;margin-right: 0.25em;color: #696969;}#sk-container-id-1 label.sk-toggleable__label-arrow:hover:before {color: black;}#sk-container-id-1 div.sk-estimator:hover label.sk-toggleable__label-arrow:before {color: black;}#sk-container-id-1 div.sk-toggleable__content {max-height: 0;max-width: 0;overflow: hidden;text-align: left;background-color: #f0f8ff;}#sk-container-id-1 div.sk-toggleable__content pre {margin: 0.2em;color: black;border-radius: 0.25em;background-color: #f0f8ff;}#sk-container-id-1 input.sk-toggleable__control:checked~div.sk-toggleable__content {max-height: 200px;max-width: 100%;overflow: auto;}#sk-container-id-1 input.sk-toggleable__control:checked~label.sk-toggleable__label-arrow:before {content: \"▾\";}#sk-container-id-1 div.sk-estimator input.sk-toggleable__control:checked~label.sk-toggleable__label {background-color: #d4ebff;}#sk-container-id-1 div.sk-label input.sk-toggleable__control:checked~label.sk-toggleable__label {background-color: #d4ebff;}#sk-container-id-1 input.sk-hidden--visually {border: 0;clip: rect(1px 1px 1px 1px);clip: rect(1px, 1px, 1px, 1px);height: 1px;margin: -1px;overflow: hidden;padding: 0;position: absolute;width: 1px;}#sk-container-id-1 div.sk-estimator {font-family: monospace;background-color: #f0f8ff;border: 1px dotted black;border-radius: 0.25em;box-sizing: border-box;margin-bottom: 0.5em;}#sk-container-id-1 div.sk-estimator:hover {background-color: #d4ebff;}#sk-container-id-1 div.sk-parallel-item::after {content: \"\";width: 100%;border-bottom: 1px solid gray;flex-grow: 1;}#sk-container-id-1 div.sk-label:hover label.sk-toggleable__label {background-color: #d4ebff;}#sk-container-id-1 div.sk-serial::before {content: \"\";position: absolute;border-left: 1px solid gray;box-sizing: border-box;top: 0;bottom: 0;left: 50%;z-index: 0;}#sk-container-id-1 div.sk-serial {display: flex;flex-direction: column;align-items: center;background-color: white;padding-right: 0.2em;padding-left: 0.2em;position: relative;}#sk-container-id-1 div.sk-item {position: relative;z-index: 1;}#sk-container-id-1 div.sk-parallel {display: flex;align-items: stretch;justify-content: center;background-color: white;position: relative;}#sk-container-id-1 div.sk-item::before, #sk-container-id-1 div.sk-parallel-item::before {content: \"\";position: absolute;border-left: 1px solid gray;box-sizing: border-box;top: 0;bottom: 0;left: 50%;z-index: -1;}#sk-container-id-1 div.sk-parallel-item {display: flex;flex-direction: column;z-index: 1;position: relative;background-color: white;}#sk-container-id-1 div.sk-parallel-item:first-child::after {align-self: flex-end;width: 50%;}#sk-container-id-1 div.sk-parallel-item:last-child::after {align-self: flex-start;width: 50%;}#sk-container-id-1 div.sk-parallel-item:only-child::after {width: 0;}#sk-container-id-1 div.sk-dashed-wrapped {border: 1px dashed gray;margin: 0 0.4em 0.5em 0.4em;box-sizing: border-box;padding-bottom: 0.4em;background-color: white;}#sk-container-id-1 div.sk-label label {font-family: monospace;font-weight: bold;display: inline-block;line-height: 1.2em;}#sk-container-id-1 div.sk-label-container {text-align: center;}#sk-container-id-1 div.sk-container {/* jupyter's `normalize.less` sets `[hidden] { display: none; }` but bootstrap.min.css set `[hidden] { display: none !important; }` so we also need the `!important` here to be able to override the default hidden behavior on the sphinx rendered scikit-learn.org. See: https://github.com/scikit-learn/scikit-learn/issues/21755 */display: inline-block !important;position: relative;}#sk-container-id-1 div.sk-text-repr-fallback {display: none;}</style><div id=\"sk-container-id-1\" class=\"sk-top-container\"><div class=\"sk-text-repr-fallback\"><pre>RandomForestClassifier(n_estimators=500, random_state=99)</pre><b>In a Jupyter environment, please rerun this cell to show the HTML representation or trust the notebook. <br />On GitHub, the HTML representation is unable to render, please try loading this page with nbviewer.org.</b></div><div class=\"sk-container\" hidden><div class=\"sk-item\"><div class=\"sk-estimator sk-toggleable\"><input class=\"sk-toggleable__control sk-hidden--visually\" id=\"sk-estimator-id-1\" type=\"checkbox\" checked><label for=\"sk-estimator-id-1\" class=\"sk-toggleable__label sk-toggleable__label-arrow\">RandomForestClassifier</label><div class=\"sk-toggleable__content\"><pre>RandomForestClassifier(n_estimators=500, random_state=99)</pre></div></div></div></div></div>"
      ],
      "text/plain": [
       "RandomForestClassifier(n_estimators=500, random_state=99)"
      ]
     },
     "execution_count": 23,
     "metadata": {},
     "output_type": "execute_result"
    }
   ],
   "source": [
    "%%time\n",
    "\n",
    "rf_model.fit(X_train, y_train)"
   ]
  },
  {
   "cell_type": "markdown",
   "id": "35400412-ceb4-4f31-8527-fbb1d8bce304",
   "metadata": {},
   "source": [
    "## 2.3) Calculamos algunas metricas del modelo entrenado"
   ]
  },
  {
   "cell_type": "code",
   "execution_count": 24,
   "id": "a90693c3-0048-4430-9380-c144105b0563",
   "metadata": {
    "tags": []
   },
   "outputs": [],
   "source": [
    "# En training (por defecto asume 0.5 como punto de corte)\n",
    "pred_tr = rf_model.predict(X_train)"
   ]
  },
  {
   "cell_type": "code",
   "execution_count": 25,
   "id": "e8a40f6b-729e-4934-af3b-e1d3c8c0234f",
   "metadata": {
    "tags": []
   },
   "outputs": [],
   "source": [
    "# En testing (por defecto asume 0.5 como punto de corte)\n",
    "pred_ts = rf_model.predict(X_test)"
   ]
  },
  {
   "cell_type": "code",
   "execution_count": 26,
   "id": "846fe08b-1739-4409-91e3-22e224385712",
   "metadata": {
    "tags": []
   },
   "outputs": [],
   "source": [
    "from pprint import pprint\n",
    "\n",
    "from sklearn.metrics import accuracy_score, precision_score, recall_score, f1_score"
   ]
  },
  {
   "cell_type": "code",
   "execution_count": 27,
   "id": "4c91b1e6-47b8-4131-8aca-aefa3363b378",
   "metadata": {
    "tags": []
   },
   "outputs": [
    {
     "name": "stdout",
     "output_type": "stream",
     "text": [
      "{'accuracy': 1.0, 'f1_score': 1.0, 'precision': 1.0, 'recall': 1.0}\n"
     ]
    }
   ],
   "source": [
    "train_metrics = {\n",
    "    'accuracy': accuracy_score(y_train, pred_tr, normalize=True),\n",
    "    'precision': precision_score(y_train, pred_tr),\n",
    "    'recall': recall_score(y_train, pred_tr),\n",
    "    'f1_score': f1_score(y_train, pred_tr),\n",
    "}\n",
    "\n",
    "pprint(train_metrics)"
   ]
  },
  {
   "cell_type": "code",
   "execution_count": 28,
   "id": "7db2d2c2-06fb-4ee7-99fb-4607ac41f180",
   "metadata": {
    "tags": []
   },
   "outputs": [],
   "source": [
    "# Guardamos las metricas sobre el conjunto de entrenamiento\n",
    "mlflow.log_metric(\"train_metrics.accuracy\", train_metrics['accuracy'])\n",
    "mlflow.log_metric(\"train_metrics.precision\", train_metrics['precision'])\n",
    "mlflow.log_metric(\"train_metrics.recall\", train_metrics['recall'])\n",
    "mlflow.log_metric(\"train_metrics.f1_score\", train_metrics['f1_score'])"
   ]
  },
  {
   "cell_type": "code",
   "execution_count": 29,
   "id": "b98e6f93-34c8-4927-a432-31a4c8019e85",
   "metadata": {
    "tags": []
   },
   "outputs": [
    {
     "name": "stdout",
     "output_type": "stream",
     "text": [
      "{'accuracy': 0.8556149732620321,\n",
      " 'f1_score': 0.8111888111888113,\n",
      " 'precision': 0.8405797101449275,\n",
      " 'recall': 0.7837837837837838}\n"
     ]
    }
   ],
   "source": [
    "test_metrics = {\n",
    "    'accuracy': accuracy_score(y_test, pred_ts, normalize=True),\n",
    "    'precision': precision_score(y_test, pred_ts),\n",
    "    'recall': recall_score(y_test, pred_ts),\n",
    "    'f1_score': f1_score(y_test, pred_ts),\n",
    "}\n",
    "\n",
    "pprint(test_metrics)"
   ]
  },
  {
   "cell_type": "code",
   "execution_count": 30,
   "id": "a9986ee5-dd5f-4228-b416-35f5d67f8b5e",
   "metadata": {
    "tags": []
   },
   "outputs": [],
   "source": [
    "# Guardamos las metricas sobre el conjunto de test\n",
    "mlflow.log_metric(\"test_metrics.accuracy\", test_metrics['accuracy'])\n",
    "mlflow.log_metric(\"test_metrics.precision\", test_metrics['precision'])\n",
    "mlflow.log_metric(\"test_metrics.recall\", test_metrics['recall'])\n",
    "mlflow.log_metric(\"test_metrics.f1_score\", test_metrics['f1_score'])"
   ]
  },
  {
   "cell_type": "code",
   "execution_count": 31,
   "id": "02b3faed-e4de-4838-87cd-41d7fdd3e4ba",
   "metadata": {
    "tags": []
   },
   "outputs": [],
   "source": [
    "import seaborn as sns"
   ]
  },
  {
   "cell_type": "code",
   "execution_count": 32,
   "id": "1351fc1b-89e8-40a5-9067-2307c435fe35",
   "metadata": {
    "tags": []
   },
   "outputs": [
    {
     "data": {
      "text/plain": [
       "<Axes: xlabel='Pred', ylabel='Actual'>"
      ]
     },
     "execution_count": 32,
     "metadata": {},
     "output_type": "execute_result"
    },
    {
     "data": {
      "image/png": "[encoded data removed]",
      "text/plain": [
       "<Figure size 640x480 with 2 Axes>"
      ]
     },
     "metadata": {},
     "output_type": "display_data"
    }
   ],
   "source": [
    "sns.set(font_scale=1.5)  # Ajuste tamaño de letra (var global)\n",
    "\n",
    "conf_mat5 = pd.crosstab(\n",
    "    index=y_train,    # filas    = valor real\n",
    "    columns=pred_tr,  # columnas = valor predicho\n",
    "    rownames=['Actual'], \n",
    "    colnames=['Pred'], \n",
    "    normalize='index'\n",
    ")\n",
    "\n",
    "sns.heatmap(conf_mat5, annot=True, cmap='Blues', fmt='g')"
   ]
  },
  {
   "cell_type": "code",
   "execution_count": 33,
   "id": "5386de85-4378-4164-adf7-a0b3e049c531",
   "metadata": {
    "tags": []
   },
   "outputs": [
    {
     "data": {
      "text/plain": [
       "<Axes: xlabel='Pred', ylabel='Actual'>"
      ]
     },
     "execution_count": 33,
     "metadata": {},
     "output_type": "execute_result"
    },
    {
     "data": {
      "image/png": "[encoded data removed]",
      "text/plain": [
       "<Figure size 640x480 with 2 Axes>"
      ]
     },
     "metadata": {},
     "output_type": "display_data"
    }
   ],
   "source": [
    "sns.set(font_scale=1.5)  # Ajuste tamaño de letra (var global)\n",
    "\n",
    "conf_mat6 = pd.crosstab(\n",
    "    index=y_test,     # filas    = valor real\n",
    "    columns=pred_ts,  # columnas = valor predicho\n",
    "    rownames=['Actual'], \n",
    "    colnames=['Pred'], \n",
    "    normalize='index'\n",
    ")\n",
    "\n",
    "sns.heatmap(conf_mat6, annot=True, cmap='Blues', fmt='g')"
   ]
  },
  {
   "cell_type": "markdown",
   "id": "91432492-4282-44e8-8e3a-46beaa4f275c",
   "metadata": {},
   "source": [
    "## 2.4) Busquemos el mejor threshold para el modelo"
   ]
  },
  {
   "cell_type": "code",
   "execution_count": 34,
   "id": "061369fb-bfb2-476d-8129-078d228f3d0f",
   "metadata": {
    "tags": []
   },
   "outputs": [],
   "source": [
    "from yellowbrick.classifier import DiscriminationThreshold"
   ]
  },
  {
   "cell_type": "code",
   "execution_count": 35,
   "id": "e27347ba-01bf-43d8-b6b6-281dbd58cb2b",
   "metadata": {
    "tags": []
   },
   "outputs": [
    {
     "name": "stderr",
     "output_type": "stream",
     "text": [
      "/Users/maferreyra/.pyenv/versions/3.9.16/envs/edvai/lib/python3.9/site-packages/sklearn/base.py:439: UserWarning: X does not have valid feature names, but RandomForestClassifier was fitted with feature names\n",
      "  warnings.warn(\n"
     ]
    },
    {
     "data": {
      "image/png": "[encoded data removed]",
      "text/plain": [
       "<Figure size 800x550 with 1 Axes>"
      ]
     },
     "metadata": {},
     "output_type": "display_data"
    },
    {
     "data": {
      "text/plain": [
       "<Axes: title={'center': 'Threshold Plot for RandomForestClassifier'}, xlabel='discrimination threshold', ylabel='score'>"
      ]
     },
     "execution_count": 35,
     "metadata": {},
     "output_type": "execute_result"
    }
   ],
   "source": [
    "visualizer = DiscriminationThreshold(rf_model)\n",
    "\n",
    "visualizer.fit(X_train, y_train) # Ajustar data al visualizador\n",
    "visualizer.show()                # Mostrar figura"
   ]
  },
  {
   "cell_type": "markdown",
   "id": "d0595f03-95b3-4102-9ca8-477d0956a5aa",
   "metadata": {},
   "source": [
    "Seteamos el nuevo punto de corte en 0.37"
   ]
  },
  {
   "cell_type": "code",
   "execution_count": 36,
   "id": "04bd4570-3914-4bdf-b33d-4ea7acebd96d",
   "metadata": {
    "tags": []
   },
   "outputs": [
    {
     "data": {
      "text/plain": [
       "0.37"
      ]
     },
     "execution_count": 36,
     "metadata": {},
     "output_type": "execute_result"
    }
   ],
   "source": [
    "# Guardamos el threshold calculado\n",
    "mlflow.log_param(\"model_best_threshold\", 0.37)"
   ]
  },
  {
   "cell_type": "code",
   "execution_count": 37,
   "id": "4aee3ab1-89ce-483c-9dbc-01f9bcbe4549",
   "metadata": {
    "tags": []
   },
   "outputs": [],
   "source": [
    "# En training\n",
    "pred_prob_tr = rf_model.predict_proba(X_train)"
   ]
  },
  {
   "cell_type": "code",
   "execution_count": 38,
   "id": "3ed74ce7-b2c9-439c-a456-2c1322549e50",
   "metadata": {
    "tags": []
   },
   "outputs": [],
   "source": [
    "pred_prob_tr = pred_prob_tr[:,1]"
   ]
  },
  {
   "cell_type": "code",
   "execution_count": 39,
   "id": "7fd52d13-f969-48db-8ced-cb8ad0e06bd8",
   "metadata": {
    "tags": []
   },
   "outputs": [],
   "source": [
    "# En testing\n",
    "pred_prob_ts = rf_model.predict_proba(X_test)"
   ]
  },
  {
   "cell_type": "code",
   "execution_count": 40,
   "id": "14153cf2-8d38-46d6-9b85-590dbbb16820",
   "metadata": {
    "tags": []
   },
   "outputs": [],
   "source": [
    "pred_prob_ts = pred_prob_ts[:,1]"
   ]
  },
  {
   "cell_type": "code",
   "execution_count": 41,
   "id": "6f469f65-3e74-4176-9a40-733368feecb7",
   "metadata": {
    "tags": []
   },
   "outputs": [],
   "source": [
    "pred_tr_2 = np.where(pred_prob_tr >= 0.37, 1, 0)"
   ]
  },
  {
   "cell_type": "code",
   "execution_count": 42,
   "id": "9362ff35-cc46-4b06-adad-465a5b66f5df",
   "metadata": {
    "tags": []
   },
   "outputs": [],
   "source": [
    "pred_ts_2 = np.where(pred_prob_ts >= 0.37, 1, 0)"
   ]
  },
  {
   "cell_type": "code",
   "execution_count": 43,
   "id": "ea3d66ea-9107-49b1-8c9b-df5c8c7eab24",
   "metadata": {},
   "outputs": [
    {
     "name": "stdout",
     "output_type": "stream",
     "text": [
      "{'accuracy': 1.0, 'f1_score': 1.0, 'precision': 1.0, 'recall': 1.0}\n"
     ]
    }
   ],
   "source": [
    "train_metrics_2 = {\n",
    "    'accuracy': accuracy_score(y_train, pred_tr_2, normalize=True),\n",
    "    'precision': precision_score(y_train, pred_tr_2),\n",
    "    'recall': recall_score(y_train, pred_tr_2),\n",
    "    'f1_score': f1_score(y_train, pred_tr_2),\n",
    "}\n",
    "\n",
    "pprint(train_metrics_2)"
   ]
  },
  {
   "cell_type": "code",
   "execution_count": 44,
   "id": "93f35b1e-f68c-4ecc-ab3f-347a4271b757",
   "metadata": {
    "tags": []
   },
   "outputs": [],
   "source": [
    "# Guardamos las metricas sobre el conjunto de entrenamiento\n",
    "mlflow.log_metric(\"train_metrics_with_threshold.accuracy\", train_metrics_2['accuracy'])\n",
    "mlflow.log_metric(\"train_metrics_with_threshold.precision\", train_metrics_2['precision'])\n",
    "mlflow.log_metric(\"train_metrics_with_threshold.recall\", train_metrics_2['recall'])\n",
    "mlflow.log_metric(\"train_metrics_with_threshold.f1_score\", train_metrics_2['f1_score'])"
   ]
  },
  {
   "cell_type": "code",
   "execution_count": 45,
   "id": "1ecf524c-4176-4fe8-9aab-71dc561d2f6a",
   "metadata": {
    "tags": []
   },
   "outputs": [
    {
     "name": "stdout",
     "output_type": "stream",
     "text": [
      "{'accuracy': 0.8502673796791443,\n",
      " 'f1_score': 0.825,\n",
      " 'precision': 0.7674418604651163,\n",
      " 'recall': 0.8918918918918919}\n"
     ]
    }
   ],
   "source": [
    "test_metrics_2 = {\n",
    "    'accuracy': accuracy_score(y_test, pred_ts_2, normalize=True),\n",
    "    'precision': precision_score(y_test, pred_ts_2),\n",
    "    'recall': recall_score(y_test, pred_ts_2),\n",
    "    'f1_score': f1_score(y_test, pred_ts_2),\n",
    "}\n",
    "\n",
    "pprint(test_metrics_2)"
   ]
  },
  {
   "cell_type": "code",
   "execution_count": 46,
   "id": "12b42f01-6b2f-4acd-8623-7e3ab7fb1afa",
   "metadata": {
    "tags": []
   },
   "outputs": [],
   "source": [
    "# Guardamos las metricas sobre el conjunto de test\n",
    "mlflow.log_metric(\"test_metrics_with_threshold.accuracy\", test_metrics_2['accuracy'])\n",
    "mlflow.log_metric(\"test_metrics_with_threshold.precision\", test_metrics_2['precision'])\n",
    "mlflow.log_metric(\"test_metrics_with_threshold.recall\", test_metrics_2['recall'])\n",
    "mlflow.log_metric(\"test_metrics_with_threshold.f1_score\", test_metrics_2['f1_score'])"
   ]
  },
  {
   "cell_type": "code",
   "execution_count": 47,
   "id": "a58383ba-a288-4a86-a8e2-16bf4de3ec9e",
   "metadata": {
    "tags": []
   },
   "outputs": [
    {
     "data": {
      "text/plain": [
       "<Axes: xlabel='Pred', ylabel='Actual'>"
      ]
     },
     "execution_count": 47,
     "metadata": {},
     "output_type": "execute_result"
    },
    {
     "data": {
      "image/png": "[encoded data removed]",
      "text/plain": [
       "<Figure size 800x550 with 2 Axes>"
      ]
     },
     "metadata": {},
     "output_type": "display_data"
    }
   ],
   "source": [
    "sns.set(font_scale=1.5)  # Ajuste tamaño de letra (var global)\n",
    "\n",
    "conf_mat5 = pd.crosstab(\n",
    "    index=y_train,      # filas    = valor real\n",
    "    columns=pred_tr_2,  # columnas = valor predicho\n",
    "    rownames=['Actual'], \n",
    "    colnames=['Pred'], \n",
    "    normalize='index'\n",
    ")\n",
    "\n",
    "sns.heatmap(conf_mat5, annot=True, cmap='Blues', fmt='g')"
   ]
  },
  {
   "cell_type": "code",
   "execution_count": 48,
   "id": "8a163d6e-a4d1-45df-b99e-a50ac7abf068",
   "metadata": {
    "tags": []
   },
   "outputs": [
    {
     "data": {
      "text/plain": [
       "<Axes: xlabel='Pred', ylabel='Actual'>"
      ]
     },
     "execution_count": 48,
     "metadata": {},
     "output_type": "execute_result"
    },
    {
     "data": {
      "image/png": "[encoded data removed]",
      "text/plain": [
       "<Figure size 800x550 with 2 Axes>"
      ]
     },
     "metadata": {},
     "output_type": "display_data"
    }
   ],
   "source": [
    "sns.set(font_scale=1.5)  # Ajuste tamaño de letra (var global)\n",
    "\n",
    "conf_mat6 = pd.crosstab(\n",
    "    index=y_test,       # filas    = valor real\n",
    "    columns=pred_ts_2,  # columnas = valor predicho\n",
    "    rownames=['Actual'], \n",
    "    colnames=['Pred'], \n",
    "    normalize='index'\n",
    ")\n",
    "\n",
    "sns.heatmap(conf_mat6, annot=True, cmap='Blues', fmt='g')"
   ]
  },
  {
   "cell_type": "markdown",
   "id": "30ed65b7-ce0c-4e8a-9592-d0a9a6a9b626",
   "metadata": {},
   "source": [
    "# 3) Guardamos el modelo entrenado"
   ]
  },
  {
   "cell_type": "code",
   "execution_count": 49,
   "id": "b1182f12-3306-4f1e-9e70-5779fda11e57",
   "metadata": {
    "tags": []
   },
   "outputs": [],
   "source": [
    "# Guardar en el disco\n",
    "filename = '../data/modelo_proyecto_final.pkl'\n",
    "pickle.dump(rf_model, open(filename, 'wb'))"
   ]
  },
  {
   "cell_type": "code",
   "execution_count": 50,
   "id": "946d3ea5-5be4-49d9-af4e-667e5457c174",
   "metadata": {
    "tags": []
   },
   "outputs": [
    {
     "name": "stderr",
     "output_type": "stream",
     "text": [
      "/Users/maferreyra/.pyenv/versions/3.9.16/envs/edvai/lib/python3.9/site-packages/_distutils_hack/__init__.py:33: UserWarning: Setuptools is replacing distutils.\n",
      "  warnings.warn(\"Setuptools is replacing distutils.\")\n"
     ]
    },
    {
     "data": {
      "text/plain": [
       "<mlflow.models.model.ModelInfo at 0x282850eb0>"
      ]
     },
     "execution_count": 50,
     "metadata": {},
     "output_type": "execute_result"
    }
   ],
   "source": [
    "# Guardar en el disco\n",
    "filename = 'modelo_proyecto_final.pkl'\n",
    "mlflow.sklearn.log_model(rf_model, filename)"
   ]
  },
  {
   "cell_type": "markdown",
   "id": "d2223582-f431-4e68-b2fc-109fdb9e9962",
   "metadata": {},
   "source": [
    "---\n",
    "---"
   ]
  },
  {
   "cell_type": "code",
   "execution_count": 51,
   "id": "f655237f-0fa0-4745-8275-14d8d82028af",
   "metadata": {
    "tags": []
   },
   "outputs": [
    {
     "data": {
      "text/html": [
       "<div>\n",
       "<style scoped>\n",
       "    .dataframe tbody tr th:only-of-type {\n",
       "        vertical-align: middle;\n",
       "    }\n",
       "\n",
       "    .dataframe tbody tr th {\n",
       "        vertical-align: top;\n",
       "    }\n",
       "\n",
       "    .dataframe thead th {\n",
       "        text-align: right;\n",
       "    }\n",
       "</style>\n",
       "<table border=\"1\" class=\"dataframe\">\n",
       "  <thead>\n",
       "    <tr style=\"text-align: right;\">\n",
       "      <th></th>\n",
       "      <th>transactionFailed</th>\n",
       "      <th>paymentMethodRegistrationFailure</th>\n",
       "      <th>orderAmount_(9.999, 18.0]</th>\n",
       "      <th>orderAmount_(18.0, 30.0]</th>\n",
       "      <th>orderAmount_(30.0, 38.0]</th>\n",
       "      <th>orderAmount_(38.0, 47.0]</th>\n",
       "      <th>orderAmount_(47.0, 353.0]</th>\n",
       "      <th>orderState_failed</th>\n",
       "      <th>orderState_fulfilled</th>\n",
       "      <th>orderState_pending</th>\n",
       "      <th>paymentMethodType_apple pay</th>\n",
       "      <th>paymentMethodType_bitcoin</th>\n",
       "      <th>paymentMethodType_card</th>\n",
       "      <th>paymentMethodType_paypal</th>\n",
       "      <th>paymentMethodProvider_American Express</th>\n",
       "      <th>paymentMethodProvider_Diners Club / Carte Blanche</th>\n",
       "      <th>paymentMethodProvider_Discover</th>\n",
       "      <th>paymentMethodProvider_JCB 15 digit</th>\n",
       "      <th>paymentMethodProvider_JCB 16 digit</th>\n",
       "      <th>paymentMethodProvider_Maestro</th>\n",
       "      <th>paymentMethodProvider_Mastercard</th>\n",
       "      <th>paymentMethodProvider_VISA 13 digit</th>\n",
       "      <th>paymentMethodProvider_VISA 16 digit</th>\n",
       "      <th>paymentMethodProvider_Voyager</th>\n",
       "      <th>paymentMethodIssuer_Bastion Banks</th>\n",
       "      <th>paymentMethodIssuer_Bulwark Trust Corp.</th>\n",
       "      <th>paymentMethodIssuer_Citizens First Banks</th>\n",
       "      <th>paymentMethodIssuer_Fountain Financial Inc.</th>\n",
       "      <th>paymentMethodIssuer_Grand Credit Corporation</th>\n",
       "      <th>paymentMethodIssuer_Her Majesty Trust</th>\n",
       "      <th>paymentMethodIssuer_His Majesty Bank Corp.</th>\n",
       "      <th>paymentMethodIssuer_Rose Bancshares</th>\n",
       "      <th>paymentMethodIssuer_Solace Banks</th>\n",
       "      <th>paymentMethodIssuer_Vertex Bancorp</th>\n",
       "      <th>paymentMethodIssuer_weird</th>\n",
       "      <th>emailDomain_biz</th>\n",
       "      <th>emailDomain_com</th>\n",
       "      <th>emailDomain_info</th>\n",
       "      <th>emailDomain_net</th>\n",
       "      <th>emailDomain_org</th>\n",
       "      <th>emailDomain_weird</th>\n",
       "      <th>emailProvider_gmail</th>\n",
       "      <th>emailProvider_hotmail</th>\n",
       "      <th>emailProvider_other</th>\n",
       "      <th>emailProvider_weird</th>\n",
       "      <th>emailProvider_yahoo</th>\n",
       "      <th>customerIPAddressSimplified_digits_and_letters</th>\n",
       "      <th>customerIPAddressSimplified_only_letters</th>\n",
       "      <th>sameCity_no</th>\n",
       "      <th>sameCity_unknown</th>\n",
       "      <th>sameCity_yes</th>\n",
       "    </tr>\n",
       "  </thead>\n",
       "  <tbody>\n",
       "    <tr>\n",
       "      <th>0</th>\n",
       "      <td>1</td>\n",
       "      <td>1</td>\n",
       "      <td>1</td>\n",
       "      <td>0</td>\n",
       "      <td>0</td>\n",
       "      <td>0</td>\n",
       "      <td>0</td>\n",
       "      <td>0</td>\n",
       "      <td>1</td>\n",
       "      <td>0</td>\n",
       "      <td>0</td>\n",
       "      <td>1</td>\n",
       "      <td>0</td>\n",
       "      <td>0</td>\n",
       "      <td>0</td>\n",
       "      <td>1</td>\n",
       "      <td>0</td>\n",
       "      <td>0</td>\n",
       "      <td>0</td>\n",
       "      <td>0</td>\n",
       "      <td>0</td>\n",
       "      <td>0</td>\n",
       "      <td>0</td>\n",
       "      <td>0</td>\n",
       "      <td>0</td>\n",
       "      <td>0</td>\n",
       "      <td>0</td>\n",
       "      <td>0</td>\n",
       "      <td>0</td>\n",
       "      <td>0</td>\n",
       "      <td>0</td>\n",
       "      <td>1</td>\n",
       "      <td>0</td>\n",
       "      <td>0</td>\n",
       "      <td>0</td>\n",
       "      <td>0</td>\n",
       "      <td>1</td>\n",
       "      <td>0</td>\n",
       "      <td>0</td>\n",
       "      <td>0</td>\n",
       "      <td>0</td>\n",
       "      <td>0</td>\n",
       "      <td>1</td>\n",
       "      <td>0</td>\n",
       "      <td>0</td>\n",
       "      <td>0</td>\n",
       "      <td>0</td>\n",
       "      <td>1</td>\n",
       "      <td>0</td>\n",
       "      <td>0</td>\n",
       "      <td>1</td>\n",
       "    </tr>\n",
       "  </tbody>\n",
       "</table>\n",
       "</div>"
      ],
      "text/plain": [
       "   transactionFailed  paymentMethodRegistrationFailure  \\\n",
       "0                  1                                 1   \n",
       "\n",
       "   orderAmount_(9.999, 18.0]  orderAmount_(18.0, 30.0]  \\\n",
       "0                          1                         0   \n",
       "\n",
       "   orderAmount_(30.0, 38.0]  orderAmount_(38.0, 47.0]  \\\n",
       "0                         0                         0   \n",
       "\n",
       "   orderAmount_(47.0, 353.0]  orderState_failed  orderState_fulfilled  \\\n",
       "0                          0                  0                     1   \n",
       "\n",
       "   orderState_pending  paymentMethodType_apple pay  paymentMethodType_bitcoin  \\\n",
       "0                   0                            0                          1   \n",
       "\n",
       "   paymentMethodType_card  paymentMethodType_paypal  \\\n",
       "0                       0                         0   \n",
       "\n",
       "   paymentMethodProvider_American Express  \\\n",
       "0                                       0   \n",
       "\n",
       "   paymentMethodProvider_Diners Club / Carte Blanche  \\\n",
       "0                                                  1   \n",
       "\n",
       "   paymentMethodProvider_Discover  paymentMethodProvider_JCB 15 digit  \\\n",
       "0                               0                                   0   \n",
       "\n",
       "   paymentMethodProvider_JCB 16 digit  paymentMethodProvider_Maestro  \\\n",
       "0                                   0                              0   \n",
       "\n",
       "   paymentMethodProvider_Mastercard  paymentMethodProvider_VISA 13 digit  \\\n",
       "0                                 0                                    0   \n",
       "\n",
       "   paymentMethodProvider_VISA 16 digit  paymentMethodProvider_Voyager  \\\n",
       "0                                    0                              0   \n",
       "\n",
       "   paymentMethodIssuer_Bastion Banks  paymentMethodIssuer_Bulwark Trust Corp.  \\\n",
       "0                                  0                                        0   \n",
       "\n",
       "   paymentMethodIssuer_Citizens First Banks  \\\n",
       "0                                         0   \n",
       "\n",
       "   paymentMethodIssuer_Fountain Financial Inc.  \\\n",
       "0                                            0   \n",
       "\n",
       "   paymentMethodIssuer_Grand Credit Corporation  \\\n",
       "0                                             0   \n",
       "\n",
       "   paymentMethodIssuer_Her Majesty Trust  \\\n",
       "0                                      0   \n",
       "\n",
       "   paymentMethodIssuer_His Majesty Bank Corp.  \\\n",
       "0                                           0   \n",
       "\n",
       "   paymentMethodIssuer_Rose Bancshares  paymentMethodIssuer_Solace Banks  \\\n",
       "0                                    1                                 0   \n",
       "\n",
       "   paymentMethodIssuer_Vertex Bancorp  paymentMethodIssuer_weird  \\\n",
       "0                                   0                          0   \n",
       "\n",
       "   emailDomain_biz  emailDomain_com  emailDomain_info  emailDomain_net  \\\n",
       "0                0                1                 0                0   \n",
       "\n",
       "   emailDomain_org  emailDomain_weird  emailProvider_gmail  \\\n",
       "0                0                  0                    0   \n",
       "\n",
       "   emailProvider_hotmail  emailProvider_other  emailProvider_weird  \\\n",
       "0                      1                    0                    0   \n",
       "\n",
       "   emailProvider_yahoo  customerIPAddressSimplified_digits_and_letters  \\\n",
       "0                    0                                               0   \n",
       "\n",
       "   customerIPAddressSimplified_only_letters  sameCity_no  sameCity_unknown  \\\n",
       "0                                         1            0                 0   \n",
       "\n",
       "   sameCity_yes  \n",
       "0             1  "
      ]
     },
     "execution_count": 51,
     "metadata": {},
     "output_type": "execute_result"
    }
   ],
   "source": [
    "pd.DataFrame([X_train.iloc[0].to_dict()])"
   ]
  },
  {
   "cell_type": "code",
   "execution_count": 52,
   "id": "22eb3a52-0f1d-4c74-a03c-6b9144926ee8",
   "metadata": {
    "tags": []
   },
   "outputs": [
    {
     "data": {
      "text/plain": [
       "array([[0.936, 0.064]])"
      ]
     },
     "execution_count": 52,
     "metadata": {},
     "output_type": "execute_result"
    }
   ],
   "source": [
    "rf_model.predict_proba(pd.DataFrame([X_train.iloc[0].to_dict()]))"
   ]
  },
  {
   "cell_type": "code",
   "execution_count": 53,
   "id": "7b22cddf-ed21-4200-b5d4-3a8ea912091b",
   "metadata": {
    "tags": []
   },
   "outputs": [
    {
     "data": {
      "text/plain": [
       "0"
      ]
     },
     "execution_count": 53,
     "metadata": {},
     "output_type": "execute_result"
    }
   ],
   "source": [
    "y_train.iloc[0]"
   ]
  },
  {
   "cell_type": "code",
   "execution_count": null,
   "id": "cd3a8913-a6f2-433e-af0c-9562b56dc967",
   "metadata": {},
   "outputs": [],
   "source": []
  }
 ],
 "metadata": {
  "kernelspec": {
   "display_name": "Python 3 (ipykernel)",
   "language": "python",
   "name": "python3"
  },
  "language_info": {
   "codemirror_mode": {
    "name": "ipython",
    "version": 3
   },
   "file_extension": ".py",
   "mimetype": "text/x-python",
   "name": "python",
   "nbconvert_exporter": "python",
   "pygments_lexer": "ipython3",
   "version": "3.9.16"
  }
 },
 "nbformat": 4,
 "nbformat_minor": 5
}
